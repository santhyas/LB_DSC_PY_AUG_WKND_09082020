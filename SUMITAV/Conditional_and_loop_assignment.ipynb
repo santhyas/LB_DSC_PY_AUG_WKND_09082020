{
 "cells": [
  {
   "cell_type": "code",
   "execution_count": 8,
   "metadata": {},
   "outputs": [
    {
     "name": "stdout",
     "output_type": "stream",
     "text": [
      "Please enter a number904\n",
      "<function int_to_en at 0x0000017D9E5A9D30>\n"
     ]
    }
   ],
   "source": [
    "num=int(input('Please enter a number'))\n",
    "\n",
    "def int_to_en(num):\n",
    "    d={0:'Zero',1:'One',2:'Two',3:'Three',4:'Four',5:'Five', 6:'Six', 7:'Seven', 8:'Eight', 9:'Nine'}\n",
    "    \n",
    "    if (num<10):\n",
    "        return d[num]\n",
    "    else:\n",
    "        print('number is outside of the range')\n",
    "    \n",
    "print (int_to_en)\n",
    "    "
   ]
  },
  {
   "cell_type": "code",
   "execution_count": 28,
   "metadata": {},
   "outputs": [
    {
     "name": "stdout",
     "output_type": "stream",
     "text": [
      "Enter the year1700\n",
      "1700 NonLeap Year\n"
     ]
    }
   ],
   "source": [
    "#W A P to check whether a year entered by user is an leap year or not?\n",
    "\n",
    "year=int(input('Enter the year'))\n",
    "\n",
    "if year%4==0:\n",
    "    if year%100==0:\n",
    "        if year%400==0:\n",
    "            print(year,\"Leap Year\")\n",
    "        else:\n",
    "            print(year,\"NonLeap Year\")\n",
    "    else:\n",
    "        print(year,\"Leap Year\")\n",
    "else:\n",
    "    print(year,\"NonLeap Year\")\n",
    "\n"
   ]
  },
  {
   "cell_type": "code",
   "execution_count": null,
   "metadata": {},
   "outputs": [],
   "source": [
    "#W. A P. to implement calculator but the operation to be done and two numbers will be taken as input from user:-"
   ]
  },
  {
   "cell_type": "code",
   "execution_count": 32,
   "metadata": {},
   "outputs": [
    {
     "name": "stdout",
     "output_type": "stream",
     "text": [
      "Enter a number: 6763168651\n",
      "6763168651 Number is odd number\n"
     ]
    }
   ],
   "source": [
    "#W A P which takes one number from the user and checks whether it is an even or odd number?\n",
    "\n",
    "Number=int(input('Enter a number: '))\n",
    "\n",
    "if Number%2==0:\n",
    "    print(Number,\"Number is even number\")\n",
    "else:\n",
    "    print(Number,\"Number is odd number\")"
   ]
  },
  {
   "cell_type": "code",
   "execution_count": 56,
   "metadata": {},
   "outputs": [
    {
     "name": "stdout",
     "output_type": "stream",
     "text": [
      "Enter a Number: 55\n",
      "Enter a Number: 55\n",
      "55 is equal to 55\n"
     ]
    }
   ],
   "source": [
    "#W A P which takes two numbers from the user and prints below output:\n",
    "\n",
    "a=int(input(\"Enter a Number: \"))\n",
    "b=int(input(\"Enter a Number: \"))\n",
    "\n",
    "\n",
    "\n",
    "if a==b:\n",
    "    print((\"{} is equal to {}\").format(a,b))\n",
    "elif a<b:\n",
    "    print((\"{} is less than {}\").format(a,b))\n",
    "else:\n",
    "    print((\"{} is greater than {}\").format(a,b))\n"
   ]
  },
  {
   "cell_type": "code",
   "execution_count": 70,
   "metadata": {
    "scrolled": true
   },
   "outputs": [
    {
     "name": "stdout",
     "output_type": "stream",
     "text": [
      "Enter a Number: 7\n",
      "Enter a Number: 8\n",
      "Enter a Number: 9\n",
      "9 is greater than 7 and 8\n",
      "None\n"
     ]
    }
   ],
   "source": [
    "#W A P which takes three numbers from the user and prints below output:-\n",
    "\n",
    "a=int(input(\"Enter a Number: \"))\n",
    "b=int(input(\"Enter a Number: \"))\n",
    "c=int(input(\"Enter a Number: \"))\n",
    "\n",
    "\n",
    "def comparison_of_numbers(a,b,c):\n",
    "    if a>b and a>c:\n",
    "        print((\"{} is greater than {} and {}\").format(a,b,c))\n",
    "    elif b>a and b>c:\n",
    "        print((\"{} is greater than {} and {}\").format(b,a,c))\n",
    "    else:\n",
    "        print((\"{} is greater than {} and {}\").format(c,a,b))\n",
    "        \n",
    "print(comparison_of_numbers(a,b,c))"
   ]
  },
  {
   "cell_type": "code",
   "execution_count": 71,
   "metadata": {},
   "outputs": [
    {
     "name": "stdout",
     "output_type": "stream",
     "text": [
      "55\n"
     ]
    }
   ],
   "source": [
    "#Write a Python program to find the length of the my_str using loop:-\n",
    "\n",
    "Input= 'Write a Python program to find the length of the my_str'\n",
    "\n",
    "c=0\n",
    "\n",
    "for i in Input:\n",
    "    c+=1\n",
    "print(c)"
   ]
  },
  {
   "cell_type": "code",
   "execution_count": 74,
   "metadata": {},
   "outputs": [
    {
     "name": "stdout",
     "output_type": "stream",
     "text": [
      "9\n"
     ]
    }
   ],
   "source": [
    "#Write a Python program to find the total number of times letter 'p' is appeared in the below string using loop:-\n",
    "\n",
    "Input= 'peter piper picked a peck of pickled peppers.\\n'\n",
    "\n",
    "c=0\n",
    "\n",
    "for i in Input:\n",
    "    if i == 'p':\n",
    "        c+=1\n",
    "    \n",
    "print(c)"
   ]
  },
  {
   "cell_type": "code",
   "execution_count": 79,
   "metadata": {
    "scrolled": true
   },
   "outputs": [
    {
     "name": "stdout",
     "output_type": "stream",
     "text": [
      "140712465020672\n",
      "140712465020672\n",
      "140712465020672\n",
      "140712465020672\n",
      "140712465020672\n",
      "140712465020672\n",
      "140712465020672\n",
      "140712465020672\n",
      "140712465020672\n"
     ]
    }
   ],
   "source": [
    "#Write a Python Program, to print all the indexes of all occurences of letter 'p' appeared in the string using loop:-\n",
    "\n",
    "Input= 'peter piper picked a peck of pickled peppers.'\n",
    "\n",
    "c=0\n",
    "\n",
    "for i in Input:\n",
    "    if i == 'p':\n",
    "        print (id(c))"
   ]
  },
  {
   "cell_type": "code",
   "execution_count": 3,
   "metadata": {},
   "outputs": [
    {
     "name": "stdout",
     "output_type": "stream",
     "text": [
      "['peter', 'piper', 'picked', 'a', 'peck', 'of', 'pickled', 'peppers']\n"
     ]
    }
   ],
   "source": [
    "#Write a python program to find below output using loop:-\n",
    "\n",
    "\n",
    "Line= ['peter piper picked a peck of pickled peppers']\n",
    "\n",
    "def convert(Line): \n",
    "    return ([i for item in Line for i in item.split()]) \n",
    "      \n",
    "\n",
    "print( convert(Line)) "
   ]
  },
  {
   "cell_type": "code",
   "execution_count": 15,
   "metadata": {},
   "outputs": [],
   "source": [
    "#Write a python program to find below output using loop:- words inside loop reversed\n",
    "\n",
    "line= ['peter piper picked a peck of pickled peppers']\n",
    "\n"
   ]
  },
  {
   "cell_type": "code",
   "execution_count": 14,
   "metadata": {},
   "outputs": [
    {
     "name": "stdout",
     "output_type": "stream",
     "text": [
      ".sreppep delkcip fo kcep a dekcip repip reteppeter piper picked a peck of pickled peppers.\n"
     ]
    }
   ],
   "source": [
    "#Write a python program to find below output using loop:-\n",
    "\n",
    "line= 'peter piper picked a peck of pickled peppers.'\n",
    "\n",
    "for i in line:\n",
    "    line=i+line\n",
    "    \n",
    "print(line)"
   ]
  },
  {
   "cell_type": "code",
   "execution_count": 17,
   "metadata": {},
   "outputs": [],
   "source": [
    "#Write a python program to find below output using loop:-\n",
    "\n",
    "Input = 'peter piper picked a peck of pickled peppers.'\n",
    "\n"
   ]
  },
  {
   "cell_type": "code",
   "execution_count": null,
   "metadata": {},
   "outputs": [],
   "source": [
    "#Write a python program to find below output using loop:-\n",
    "\n",
    "#Input:- 'peter piper picked a peck of pickled peppers.'\n",
    "#Output:- 'retep repip dekcip a kcep fo delkcip sreppep'\n",
    "\n",
    "#Write a python program to find below output using loop:-\n",
    "\n",
    "#Input:- 'peter piper picked a peck of pickled peppers.'\n",
    "#Output:- 'Peter Piper Picked A Peck Of Pickled Peppers'\n",
    "\n",
    "#Write a python program to find below output using loop:-\n",
    "\n",
    "#Input:- 'Peter Piper Picked A Peck Of Pickled Peppers.'\n",
    "#Output:- 'Peter piper picked a peck of pickled peppers'\n",
    "\n",
    "#Write a python program to implement index method using loop. If sub_str is found in my_str then it will print the index\n",
    "# of first occurrence of first character of matching string in my_str:-\n",
    "\n",
    "#Input:- my_str = 'Peter Piper Picked A Peck Of Pickled Peppers.', sub_str = 'Pickl'\n",
    "#Output:- 29\n",
    "\n",
    "\n",
    "\n",
    "#Write a python program to implement replace method using loop. If sub_str is found in my_str then it will replace the first \n",
    "#occurrence of sub_str with new_str else it will will print sub_str not found:-\n",
    "\n",
    "#Input:- my_str = 'Peter Piper Picked A Peck Of Pickled Peppers.', sub_str = 'Peck', new_str = 'Pack'\n",
    "#Output:- 'Peter Piper Picked A Pack Of Pickled Peppers.'\n",
    "\n",
    "\n",
    "\n",
    "\n",
    "#Write a python program to find below output (implements rjust and ljust) using loop:-\n",
    "\n",
    "#Input:- 'Peter Piper Picked A Peck Of Pickled Peppers.', sub_str = 'Peck', \n",
    "#Output:- '*********************Peck********************'\n",
    "\n",
    "\n",
    "\n",
    "\n",
    "\n",
    "#Write a python program to find below output using loop:-\n",
    "\n",
    "#Input:- 'This is Python class', sep = 'is', \n",
    "#Output:- ['This', 'is', 'Python class']\n",
    "\n",
    "\n",
    "\n",
    "#Write a python program which takes one input string from user and encode it in below format:-\n",
    "    # 1. #Input:- 'Python'\n",
    "       #Output:- 'R{vjqp'\n",
    "        \n",
    "        \n",
    "        \n",
    "        \n",
    "        \n",
    "\n",
    "    # 2. #Input:- 'Python'\n",
    "       #Output:- 'Rwvfql'\n",
    "        \n",
    "        \n",
    "        \n",
    "        \n",
    "        \n",
    "    # 3. #Input:- 'Python'\n",
    "       #Output:- 'R{vkfml'\n",
    "\n"
   ]
  }
 ],
 "metadata": {
  "kernelspec": {
   "display_name": "Python 3",
   "language": "python",
   "name": "python3"
  },
  "language_info": {
   "codemirror_mode": {
    "name": "ipython",
    "version": 3
   },
   "file_extension": ".py",
   "mimetype": "text/x-python",
   "name": "python",
   "nbconvert_exporter": "python",
   "pygments_lexer": "ipython3",
   "version": "3.8.3"
  }
 },
 "nbformat": 4,
 "nbformat_minor": 4
}
