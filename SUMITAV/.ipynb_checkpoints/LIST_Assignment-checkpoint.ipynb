{
 "cells": [
  {
   "cell_type": "code",
   "execution_count": 4,
   "metadata": {},
   "outputs": [
    {
     "name": "stdout",
     "output_type": "stream",
     "text": [
      "sum of all elements:  100\n"
     ]
    }
   ],
   "source": [
    "#Write a Python program to find the sum of all elements in a list using loop.\n",
    "\n",
    "a=[10,20,30,40]\n",
    "\n",
    "sum=0\n",
    "\n",
    "for i in range(0,len(a)):\n",
    "    sum=sum+a[i]\n",
    "    \n",
    "print(\"sum of all elements: \",sum)"
   ]
  },
  {
   "cell_type": "code",
   "execution_count": 72,
   "metadata": {},
   "outputs": [
    {
     "name": "stdout",
     "output_type": "stream",
     "text": [
      "multiplication of all elements:  240000\n"
     ]
    }
   ],
   "source": [
    "#Write a Python program to find the multiplication of all elements in a list using loop.\n",
    "\n",
    "b=[10,20,30,40]\n",
    "\n",
    "mul=1\n",
    "\n",
    "for i in range(0,len(b)):\n",
    "    mul=mul*b[i]\n",
    "    \n",
    "print(\"multiplication of all elements: \", mul)"
   ]
  },
  {
   "cell_type": "code",
   "execution_count": 8,
   "metadata": {},
   "outputs": [
    {
     "name": "stdout",
     "output_type": "stream",
     "text": [
      "Largest number on the list:  2321\n"
     ]
    }
   ],
   "source": [
    "#Write a Python program to find the largest number from a list using loop.\n",
    "\n",
    "p=[10,100,2321, 1,200,2]\n",
    "\n",
    "max_num=p[0]\n",
    "\n",
    "for i in range(0,len(p)):\n",
    "    if p[i]>max_num:\n",
    "        max_num=p[i]\n",
    "        \n",
    "print(\"Largest number on the list: \", max_num)"
   ]
  },
  {
   "cell_type": "code",
   "execution_count": 9,
   "metadata": {},
   "outputs": [
    {
     "name": "stdout",
     "output_type": "stream",
     "text": [
      "Smallest number on the list: 1\n"
     ]
    }
   ],
   "source": [
    "#Write a Python program to find the smallest number from a list using loop.\n",
    "\n",
    "q=[10,100,2321, 1,200,2]\n",
    "\n",
    "min_num=q[0]\n",
    "\n",
    "for i in range(0,len(q)):\n",
    "    if q[i]<min_num:\n",
    "        min_num=q[i]\n",
    "print(\"Smallest number on the list:\", min_num)"
   ]
  },
  {
   "cell_type": "code",
   "execution_count": null,
   "metadata": {},
   "outputs": [],
   "source": [
    "#Write a Python program to count the number of strings having length more than 2 and are palindrome in a list using loop.\n",
    "#Input:- ['ab', 'abc', 'aba', 'xyz', '1991']"
   ]
  },
  {
   "cell_type": "code",
   "execution_count": 18,
   "metadata": {},
   "outputs": [
    {
     "name": "stdout",
     "output_type": "stream",
     "text": [
      "The elements sorted in an ascending manner:  [1, 2, 9, 10, 65, 80, 100, 298, 483, 9213, 49876]\n"
     ]
    }
   ],
   "source": [
    "#Write a Python program to sort a list in ascending order using loop.\n",
    "\n",
    "lst=[100,10,1,298,65,483,49876,2,80,9,9213]\n",
    "\n",
    "i=0\n",
    "\n",
    "for i in range(i,len(lst)):\n",
    "    for j in range(i+1,len(lst)):\n",
    "        if (lst[i]>lst[j]):\n",
    "            temp=lst[i]\n",
    "            lst[i]=lst[j]\n",
    "            lst[j]=temp\n",
    "            \n",
    "print(\"The elements sorted in an ascending manner: \", lst)"
   ]
  },
  {
   "cell_type": "code",
   "execution_count": null,
   "metadata": {},
   "outputs": [],
   "source": [
    "#Write a Python program to get a sorted list in increasing order of last element in each tuple in a given list using loop.\n",
    "\n",
    "Input:- [(5,4),(9,1),(2,3),(5,9),(7,6),(5,5)]\n",
    "\n"
   ]
  },
  {
   "cell_type": "code",
   "execution_count": 4,
   "metadata": {},
   "outputs": [
    {
     "name": "stdout",
     "output_type": "stream",
     "text": [
      "[10, 1, 11, 29, 876, 768, 92]\n"
     ]
    }
   ],
   "source": [
    "#Write a Python program to remove duplicate element from a list using loop.\n",
    "\n",
    "Input= [10,1,11,1,29,876,768,10,11,1,92,29,876]\n",
    "    \n",
    "without_duplicates=[]\n",
    "\n",
    "for i in Input:\n",
    "    if i not in without_duplicates:\n",
    "        without_duplicates.append(i)\n",
    "        \n",
    "print(without_duplicates)"
   ]
  },
  {
   "cell_type": "code",
   "execution_count": 6,
   "metadata": {},
   "outputs": [
    {
     "name": "stdout",
     "output_type": "stream",
     "text": [
      "list is empty\n"
     ]
    }
   ],
   "source": [
    "#Write a Python program to check a list is empty or not?\n",
    "Lst=[]\n",
    "\n",
    "if not Lst:\n",
    "    print(\"list is empty\")\n"
   ]
  },
  {
   "cell_type": "code",
   "execution_count": 8,
   "metadata": {},
   "outputs": [
    {
     "name": "stdout",
     "output_type": "stream",
     "text": [
      "list is not empty\n"
     ]
    }
   ],
   "source": [
    "#Write a Python program to check a list is empty or not?\n",
    "\n",
    "Lst1 =[10,20,30]\n",
    "\n",
    "if not Lst1:\n",
    "    print(\"list is empty\")\n",
    "else:\n",
    "    print(\"list is not empty\")"
   ]
  },
  {
   "cell_type": "code",
   "execution_count": null,
   "metadata": {},
   "outputs": [],
   "source": []
  },
  {
   "cell_type": "code",
   "execution_count": 34,
   "metadata": {},
   "outputs": [
    {
     "name": "stdout",
     "output_type": "stream",
     "text": [
      "Cloned List:  [10, 10.2, (10+20j), 'Python', [10, 20], (10, 20)]\n"
     ]
    }
   ],
   "source": [
    "#Write a Python program to copy a list using loop.\n",
    "inp_lst = [10,10.20,10+20j, 'Python', [10,20], (10,20)]\n",
    "\n",
    "out_lst=[]\n",
    "\n",
    "for i in inp_lst:\n",
    "    out_lst.append(i)\n",
    "print(\"Cloned List: \", out_lst)\n"
   ]
  },
  {
   "cell_type": "code",
   "execution_count": 57,
   "metadata": {
    "scrolled": true
   },
   "outputs": [
    {
     "name": "stdout",
     "output_type": "stream",
     "text": [
      "Final Output:  ['much', 'wood', 'would', 'woodchuck', 'chuck', 'could']\n"
     ]
    }
   ],
   "source": [
    "#Write a Python program to find the list of words that are longer than or equal to 4 from a given string.\n",
    "\n",
    "Input= \"How much wood would a woodchuck chuck if a woodchuck could chuck wood\"\n",
    "\n",
    "a=str.split(Input)\n",
    "    \n",
    "Output=[]\n",
    "n=4\n",
    "for i in a:\n",
    "    if (len(i)>=n):\n",
    "        Output.append(i)\n",
    "\n",
    "Output2=[]\n",
    "\n",
    "for i in Output:\n",
    "    if i not in Output2:\n",
    "        Output2.append(i)\n",
    "    \n",
    "print(\"Final Output: \", Output2)"
   ]
  },
  {
   "cell_type": "code",
   "execution_count": 69,
   "metadata": {},
   "outputs": [
    {
     "name": "stdout",
     "output_type": "stream",
     "text": [
      "true\n"
     ]
    }
   ],
   "source": [
    "#Write a Python program which takes two list as input and returns True if they have at least 3 common elements.\n",
    "lst1 = [10,20,'Python', 10.20, 10+20j, [10,20,30], (10,20,30)]\n",
    "lst2 = [(10,20,30),1,20+3j,100.2, 10+20j, [10,20,30],'Python']\n",
    "\n",
    "lst3=[]\n",
    "\n",
    "for x in lst1:\n",
    "        \n",
    "    for y in lst2:\n",
    "            \n",
    "        if (x == y):\n",
    "            lst3.append(y)\n",
    "            \n",
    "            \n",
    "if len(lst3)>3:\n",
    "    print(\"true\")"
   ]
  },
  {
   "cell_type": "code",
   "execution_count": 78,
   "metadata": {},
   "outputs": [],
   "source": [
    "#Write a Python program to create a 4X4 2D matrix with below elements using loop and list comprehension both.\n",
    "\n",
    "        "
   ]
  },
  {
   "cell_type": "code",
   "execution_count": null,
   "metadata": {},
   "outputs": [],
   "source": [
    "#Write a Python program to create a 3X4X6 3D matrix wiith below elements using loop"
   ]
  },
  {
   "cell_type": "code",
   "execution_count": 20,
   "metadata": {},
   "outputs": [
    {
     "name": "stdout",
     "output_type": "stream",
     "text": [
      "[21, 87, 45, 33, 1]\n"
     ]
    }
   ],
   "source": [
    "#Write a Python program which takes a list of numbers as input and prints a new list after removing even numbers from it.\n",
    "Input= [10,21,22,98,87,45,33,1,2,100]\n",
    "    \n",
    "Output=[]\n",
    "\n",
    "for i in Input:\n",
    "    if (i%2!=0):\n",
    "        Output.append(i)\n",
    "print(Output)"
   ]
  },
  {
   "cell_type": "code",
   "execution_count": 23,
   "metadata": {},
   "outputs": [
    {
     "name": "stdout",
     "output_type": "stream",
     "text": [
      "[22, 33, 98, 1, 10, 87, 21, 45, 2, 100]\n"
     ]
    }
   ],
   "source": [
    "#Write a Python program which takes a list from the user and prints it after reshuffling the elements of the list.\n",
    "Input= [10,21,22,98,87,45,33,1,2,100]\n",
    "\n",
    "from random import shuffle\n",
    "\n",
    "shuffle(Input)\n",
    "print(Input)"
   ]
  },
  {
   "cell_type": "code",
   "execution_count": null,
   "metadata": {},
   "outputs": [],
   "source": []
  },
  {
   "cell_type": "code",
   "execution_count": null,
   "metadata": {},
   "outputs": [],
   "source": []
  }
 ],
 "metadata": {
  "kernelspec": {
   "display_name": "Python 3",
   "language": "python",
   "name": "python3"
  },
  "language_info": {
   "codemirror_mode": {
    "name": "ipython",
    "version": 3
   },
   "file_extension": ".py",
   "mimetype": "text/x-python",
   "name": "python",
   "nbconvert_exporter": "python",
   "pygments_lexer": "ipython3",
   "version": "3.8.3"
  }
 },
 "nbformat": 4,
 "nbformat_minor": 4
}
