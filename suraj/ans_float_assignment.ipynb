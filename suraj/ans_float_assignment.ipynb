{
 "cells": [
  {
   "cell_type": "code",
   "execution_count": 1,
   "metadata": {
    "colab": {},
    "colab_type": "code",
    "id": "dlrMB-Qy2taV"
   },
   "outputs": [
    {
     "name": "stdout",
     "output_type": "stream",
     "text": [
      "The Type of the variable var_float is <class 'float'>\n",
      "The id of the variabe var_float is 1698556241120\n"
     ]
    }
   ],
   "source": [
    "#Declare a float value and store it in a variable. \n",
    "var_float=14.25\n",
    "\n",
    "\n",
    "\n",
    "#Check the type and print the id of the same.\n",
    "print(\"The Type of the variable var_float is {}\".format(type(var_float)))\n",
    "print(\"The id of the variabe var_float is {}\".format(id(var_float)))\n",
    "\n",
    "\n"
   ]
  },
  {
   "cell_type": "code",
   "execution_count": 2,
   "metadata": {
    "colab": {},
    "colab_type": "code",
    "id": "IL4fVDHg2wbI"
   },
   "outputs": [
    {
     "name": "stdout",
     "output_type": "stream",
     "text": [
      "Sum is 60.48 \n",
      "Diff is -9.759999999999998 \n",
      "Product is 890.6431999999999 \n",
      "Result of divide 0.7220956719817768\n",
      "Remainder is 25.36 \n",
      "Quotient is 0 \n",
      "Power is 2.0593095439030546e+49 \n"
     ]
    }
   ],
   "source": [
    "#Arithmatic Operations on float\n",
    "#Take two different float values.\n",
    "#Store them in two different variables.\n",
    "\n",
    "#Do below operations on them:-\n",
    "    #Find sum of both numbers\n",
    "\n",
    "    #Find differce between them\n",
    "    #Find the product of both numbers.\n",
    "\n",
    "    #Find value after dividing first num with second number\n",
    "\n",
    "    #Find the remainder after dividing first number with second number\n",
    "\n",
    "    #Find the quotient after dividing first number with second number\n",
    "\n",
    "    #Find the result of first num to the power of second number.\n",
    "from math import pow \n",
    "var1=25.36\n",
    "var2=35.12\n",
    "print(\"Sum is {} \".format(var1+var2))\n",
    "print(\"Diff is {} \".format(var1-var2))\n",
    "print(\"Product is {} \".format(var1*var2))\n",
    "print(\"Result of divide {}\".format(var1/var2)) \n",
    "print(\"Remainder is {} \".format(var1%var2)) \n",
    "print(\"Quotient is {} \".format(int(var1/var2)))\n",
    "print(\"Power is {} \".format(pow(var1,var2)))"
   ]
  },
  {
   "cell_type": "code",
   "execution_count": 3,
   "metadata": {
    "colab": {},
    "colab_type": "code",
    "id": "atCFaH6c2492"
   },
   "outputs": [
    {
     "name": "stdout",
     "output_type": "stream",
     "text": [
      "Greater than Check : Return Type is \u001b[1mTrue\u001b[0m And Return class is \u001b[1m<class 'bool'>\u001b[0m\n",
      "Less than Check : Return Type is \u001b[1mFalse\u001b[0m And Return class is \u001b[1m<class 'bool'>\u001b[0m\n",
      "Greater Than and Equal to Check : Return Type is \u001b[1mTrue\u001b[0m And Return class is \u001b[1m<class 'bool'>\u001b[0m\n",
      "Less Than and Equal to Check :Return Type is \u001b[1mFalse\u001b[0m And Return class is \u001b[1m<class 'bool'>\u001b[0m\n"
     ]
    }
   ],
   "source": [
    "#Comparison Operators on float\n",
    "#Take two different float values.\n",
    "#Store them in two different variables.\n",
    "\n",
    "#Do below operations on them:-\n",
    "    #Compare these two numbers with below operator:-\n",
    "        #Greater than, '>'\n",
    "\n",
    "        #Smaller than, '<'\n",
    "\n",
    "        #Greater than or equal to, '>='\n",
    "\n",
    "        #Less than or equal to, '<='\n",
    "\n",
    "#Observe their output(return type should be boolean)\n",
    "\n",
    "var1=25.96\n",
    "var2=23.22\n",
    "var_bold='\\033[1m'\n",
    "var_norm='\\033[0m'\n",
    "print(\"Greater than Check : Return Type is \"+var_bold + str(var1>var2)+var_norm+\" And Return class is \"+var_bold+ str(type(var1>var2))+var_norm)\n",
    "print(\"Less than Check : Return Type is \"+var_bold + str(var1<var2)+var_norm+\" And Return class is \"+var_bold+ str(type(var1<var2))+var_norm)\n",
    "print(\"Greater Than and Equal to Check : Return Type is \"+var_bold + str(var1>=var2)+var_norm+\" And Return class is \"+var_bold+ str(type(var1>=var2))+var_norm)\n",
    "print(\"Less Than and Equal to Check :Return Type is \"+var_bold + str(var1<=var2)+var_norm+\" And Return class is \"+var_bold+ str(type(var1<=var2))+var_norm)\n",
    "\n",
    "\n",
    "\n",
    "\n",
    "\n",
    "\n",
    "\n",
    "\n"
   ]
  },
  {
   "cell_type": "code",
   "execution_count": 4,
   "metadata": {
    "colab": {},
    "colab_type": "code",
    "id": "agi3U3863A5i"
   },
   "outputs": [
    {
     "name": "stdout",
     "output_type": "stream",
     "text": [
      "Equality Test Return Type is \u001b[1mFalse\u001b[0m And Return class is \u001b[1m<class 'bool'>\u001b[0m\n",
      "Not equality Test Return Type is \u001b[1mTrue\u001b[0m And Return class is \u001b[1m<class 'bool'>\u001b[0m\n"
     ]
    }
   ],
   "source": [
    "#Equality Operator\n",
    "#Take two different float values.\n",
    "#Store them in two different variables.\n",
    "\n",
    "#Equuate them using equality operator (==, !=)\n",
    "\n",
    "#Observe the output(return type should be boolean)\n",
    "\n",
    "var1=25.96\n",
    "var2=23.22\n",
    "var_bold='\\033[1m'\n",
    "var_norm='\\033[0m'\n",
    "print(\"Equality Test Return Type is \"+var_bold + str(var1==var2)+var_norm+\" And Return class is \"+var_bold+ str(type(var1==var2))+var_norm)\n",
    "print(\"Not equality Test Return Type is \"+var_bold + str(var1!=var2)+var_norm+\" And Return class is \"+var_bold+ str(type(var1!=var2))+var_norm)\n",
    "\n",
    "\n",
    "\n",
    "\n",
    "\n"
   ]
  },
  {
   "cell_type": "code",
   "execution_count": 5,
   "metadata": {
    "colab": {},
    "colab_type": "code",
    "id": "3HLlgaEt3EnJ"
   },
   "outputs": [
    {
     "name": "stdout",
     "output_type": "stream",
     "text": [
      "20.3\n",
      "0.0\n",
      "0.0\n",
      "0.0\n",
      "10.2\n",
      "20.3\n",
      "20.3\n",
      "0.0\n",
      "False\n",
      "True\n"
     ]
    }
   ],
   "source": [
    "#Logical operators\n",
    "#Observe the output of below code\n",
    "#Cross check the output manually\n",
    "\n",
    "print(10.20 and 20.30)       #both are true and second value taken >Output is 20.3\n",
    "print(0.0 and 20.30)         #First is false so first value taken->Output is 0.0\n",
    "print(20.30 and 0.0)         #Goes to till second and second value is false so second is taken>Output is 0.0\n",
    "print(0.0 and 0.0)           #First is false so first value is taken->Output is 0.0\n",
    "\n",
    "print(10.20 or 20.30)        #First is True so first value is taken>Output is 10.2\n",
    "print(0.0 or 20.30)          #Goes to till second and second is true second value is taken->Output is 20.3\n",
    "print(20.30 or 0.0)          #First is True so first value is taken->Output is 20.3\n",
    "print(0.0 or 0.0)            #Goes to till second and secod is also false and second value is taken>Output is 0.0\n",
    "\n",
    "print(not 10.20)             #-Not of true is false->Output is False\n",
    "print(not 0.0)               #Not of false is True>Output is True"
   ]
  },
  {
   "cell_type": "code",
   "execution_count": 6,
   "metadata": {
    "colab": {},
    "colab_type": "code",
    "id": "7YdyRNtk3UZd"
   },
   "outputs": [
    {
     "name": "stdout",
     "output_type": "stream",
     "text": [
      "False\n",
      "True\n"
     ]
    }
   ],
   "source": [
    "#What is the output of expression inside print statement. Cross check before running the program.\n",
    "a = 10.20\n",
    "b = 10.20\n",
    "print(a is b)    #True or False? True 10.20<256\n",
    "\n",
    "#Answer : False\n",
    "print(a is not b)      #True or False? False\n",
    "#Answer : True\n",
    "\n",
    "# Why the Id of float values are different when the same value is assigned to two different variables\n",
    "#Answer: object reusablity python can resuse only small integer \n",
    "# ex: a = 10.5 b=10.5. but id will be same if I assign the variable having float i.e. a=c then both a anc c's\n",
    "# Id are same\n",
    "#Answer: as we do a=c pnly reference is created hence python used the same object\n",
    "\n"
   ]
  },
  {
   "cell_type": "code",
   "execution_count": null,
   "metadata": {
    "colab": {},
    "colab_type": "code",
    "id": "iTvnIMLd3VLW"
   },
   "outputs": [],
   "source": [
    "#Bitwise operation is not applicable between instances of float.\n",
    "## Why the Id of float values are different when the same value is assigned to two different variables\n",
    "## ex: a = 10.5 b=10.5. but id will be same if I assign the variable having float i.e. a=c then both a anc c's\n",
    "## Id are same\n",
    "#Object reusability concept is not applicable on float values."
   ]
  },
  {
   "cell_type": "code",
   "execution_count": 7,
   "metadata": {
    "colab": {},
    "colab_type": "code",
    "id": "29AVJHpx3YUo"
   },
   "outputs": [
    {
     "name": "stdout",
     "output_type": "stream",
     "text": [
      "True\n",
      "True\n",
      "True\n",
      "True\n",
      "True\n",
      "True\n"
     ]
    }
   ],
   "source": [
    "#Membership operation\n",
    "#in, not in are two membership operators and it returns boolean value\n",
    "\n",
    "print('2.7' in 'Python2.7.8')              #True\n",
    "print(10.20 in [10,10.20,10+20j,'Python']) #True\n",
    "print(10.20 in (10,10.20,10+20j,'Python')) # True\n",
    "print(20.30 in {1,20.30,30+40j})           # True\n",
    "print(2.3 in {1:100, 2.3:200, 30+40j:300}) # True\n",
    "print(10 in range(20))                     # True"
   ]
  }
 ],
 "metadata": {
  "colab": {
   "name": "float_assignment.ipynb",
   "provenance": []
  },
  "kernelspec": {
   "display_name": "Python 3",
   "language": "python",
   "name": "python3"
  },
  "language_info": {
   "codemirror_mode": {
    "name": "ipython",
    "version": 3
   },
   "file_extension": ".py",
   "mimetype": "text/x-python",
   "name": "python",
   "nbconvert_exporter": "python",
   "pygments_lexer": "ipython3",
   "version": "3.7.3"
  }
 },
 "nbformat": 4,
 "nbformat_minor": 1
}
