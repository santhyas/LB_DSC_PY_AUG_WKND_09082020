{
 "cells": [
  {
   "cell_type": "markdown",
   "metadata": {},
   "source": [
    "# Boolean Assignment"
   ]
  },
  {
   "cell_type": "code",
   "execution_count": 5,
   "metadata": {
    "colab": {},
    "colab_type": "code",
    "id": "7JIFn6BP4M0R"
   },
   "outputs": [
    {
     "name": "stdout",
     "output_type": "stream",
     "text": [
      "The TYpe of the variable var_bool is <class 'bool'>\n",
      "The id of the variabe var_bool is 140721497348432\n"
     ]
    }
   ],
   "source": [
    "# Declare a boolean value and store it in a variable. \n",
    "\n",
    "var_bool=True\n",
    "\n",
    "# Check the type and print the id of the same.\n",
    "print(\"The TYpe of the variable var_bool is {}\".format(type(var_bool)))\n",
    "print(\"The id of the variabe var_bool is {}\".format(id(var_bool)))\n",
    "\n"
   ]
  },
  {
   "cell_type": "code",
   "execution_count": 8,
   "metadata": {
    "colab": {},
    "colab_type": "code",
    "id": "o9bjjhN64kAP"
   },
   "outputs": [
    {
     "name": "stdout",
     "output_type": "stream",
     "text": [
      "id of var1 is 140721497871616 and id of var2 is 140721497871616\n"
     ]
    }
   ],
   "source": [
    "#Take one boolean value between 0 - 256.\n",
    "#Assign it to two different variables.\n",
    "var1=15\n",
    "var2=15\n",
    "print(\"id of var1 is {} and id of var2 is {}\".format(id(var1),id(var2)))\n",
    "\n",
    "\n",
    "\n",
    "#Check the id of both the variables. It should come same. Check why?\n",
    "#Answer : object resuable Python may use same object if they are immutable.small numbers can be reused\n",
    "\n",
    "\n",
    "\n",
    "\n",
    "\n",
    "\n"
   ]
  },
  {
   "cell_type": "code",
   "execution_count": 73,
   "metadata": {
    "colab": {},
    "colab_type": "code",
    "id": "yr4ETGSf4l5y"
   },
   "outputs": [
    {
     "name": "stdout",
     "output_type": "stream",
     "text": [
      "Sum is 8 \n",
      "Diff is 2 \n",
      "Product is 15 \n",
      "Divide Result 1.6666666666666667\n",
      "Remainder is 2 \n",
      "Quotient is 1 \n",
      "Power is 125.0 \n"
     ]
    }
   ],
   "source": [
    "#Arithmatic Operations on boolean data\n",
    "#Take two different boolean values.\n",
    "#Store them in two different variables.\n",
    "from math import pow\n",
    "var1=5\n",
    "var2=3\n",
    "\n",
    "\n",
    "#Do below operations on them:-\n",
    "    #Find sum of both values\n",
    "    \n",
    "print(\"Sum is {} \".format(var1+var2))\n",
    "\n",
    "    #Find differce between them\n",
    "\n",
    "print(\"Diff is {} \".format(var1-var2))\n",
    "\n",
    "    #Find the product of both.\n",
    "print(\"Product is {} \".format(var1*var2))\n",
    "\n",
    "    #Find value after dividing first value with second value\n",
    "    \n",
    "print(\"Divide Result {}\".format(var1/var2))\n",
    "    \n",
    "    #Find the remainder after dividing first value with second value\n",
    "    \n",
    "print(\"Remainder is {} \".format(var1%var2))\n",
    "    \n",
    "    #Find the quotient after dividing first value with second value\n",
    "    \n",
    "print(\"Quotient is {} \".format(int(var1/var2)))\n",
    "    \n",
    "    #Find the result of first value to the power of second value.\n",
    "    \n",
    "# print(pow(var1,var2))\n",
    "\n",
    "print(\"Power is {} \".format(math.pow(var1,var2)))\n",
    "\n",
    "\n",
    "\n",
    "\n",
    "\n",
    "\n",
    "\n",
    "    "
   ]
  },
  {
   "cell_type": "code",
   "execution_count": 59,
   "metadata": {
    "colab": {},
    "colab_type": "code",
    "id": "xG4mX84E4n2O"
   },
   "outputs": [
    {
     "name": "stdout",
     "output_type": "stream",
     "text": [
      "Return Type is \u001b[1mTrue\u001b[0m And Return class is \u001b[1m<class 'bool'>\u001b[0m\n",
      "Return Type is \u001b[1mFalse\u001b[0m And Return class is \u001b[1m<class 'bool'>\u001b[0m\n",
      "Return Type is \u001b[1mTrue\u001b[0m And Return class is \u001b[1m<class 'bool'>\u001b[0m\n",
      "Return Type is \u001b[1mFalse\u001b[0m And Return class is \u001b[1m<class 'bool'>\u001b[0m\n"
     ]
    }
   ],
   "source": [
    "#Comparison Operators on boolean values\n",
    "#Take two different boolean values.\n",
    "#Store them in two different variables.\n",
    "var1=45\n",
    "var2=23\n",
    "var_bold='\\033[1m'\n",
    "var_norm='\\033[0m'\n",
    "\n",
    "\n",
    "#Do below operations on them:-\n",
    "    #Compare these two values with below operator:-\n",
    "        #Greater than, '>'\n",
    "    \n",
    "print(\"Return Type is \"+var_bold + str(var1>var2)+var_norm+\" And Return class is \"+var_bold+ str(type(var1>var2))+var_norm)\n",
    "          \n",
    " #less than, '<'\n",
    "print(\"Return Type is \"+var_bold + str(var1<var2)+var_norm+\" And Return class is \"+var_bold+ str(type(var1<var2))+var_norm)\n",
    "\n",
    "        #Greater than or equal to, '>='\n",
    "\n",
    "print(\"Return Type is \"+var_bold + str(var1>=var2)+var_norm+\" And Return class is \"+var_bold+ str(type(var1>=var2))+var_norm)\n",
    "        #Less than or equal to, '<='    \n",
    "\n",
    "print(\"Return Type is \"+var_bold + str(var1<=var2)+var_norm+\" And Return class is \"+var_bold+ str(type(var1<=var2))+var_norm)\n",
    "\n",
    "\n",
    "#Observe their output(return type should be boolean)\n",
    "\n",
    "\n",
    "\n",
    "\n",
    "\n",
    "\n",
    "\n",
    "\n"
   ]
  },
  {
   "cell_type": "code",
   "execution_count": 62,
   "metadata": {
    "colab": {},
    "colab_type": "code",
    "id": "TUIo2Z9V4qBJ"
   },
   "outputs": [
    {
     "name": "stdout",
     "output_type": "stream",
     "text": [
      "Equality Test Return Type is \u001b[1mFalse\u001b[0m And Return class is \u001b[1m<class 'bool'>\u001b[0m\n",
      "Not equality Test Return Type is \u001b[1mTrue\u001b[0m And Return class is \u001b[1m<class 'bool'>\u001b[0m\n"
     ]
    }
   ],
   "source": [
    "#Equality Operator\n",
    "#Take two different boolean values.\n",
    "#Store them in two different variables.\n",
    "var1=5\n",
    "var2=4\n",
    "\n",
    "\n",
    "#Equuate them using equality operator (==, !=)\n",
    "print(\"Equality Test Return Type is \"+var_bold + str(var1==var2)+var_norm+\" And Return class is \"+var_bold+ str(type(var1==var2))+var_norm)\n",
    "\n",
    "print(\"Not equality Test Return Type is \"+var_bold + str(var1!=var2)+var_norm+\" And Return class is \"+var_bold+ str(type(var1!=var2))+var_norm)\n",
    "\n",
    "#Observe the output(return type should be boolean)\n",
    "\n",
    "\n",
    "\n",
    "\n",
    "\n",
    "\n"
   ]
  },
  {
   "cell_type": "code",
   "execution_count": 12,
   "metadata": {
    "colab": {},
    "colab_type": "code",
    "id": "XukEq5E44rxv"
   },
   "outputs": [
    {
     "name": "stdout",
     "output_type": "stream",
     "text": [
      "True\n",
      "False\n",
      "False\n",
      "False\n",
      "True\n",
      "True\n",
      "True\n",
      "False\n",
      "False\n",
      "True\n"
     ]
    }
   ],
   "source": [
    "#Logical operators\n",
    "#Observe the output of below code\n",
    "#Cross check the output manually\n",
    "\n",
    "print(True and True)        # True----------------------------------------->Output is True\n",
    "print(False and True)        # False----------------------------------------->Output is False\n",
    "print(True and False)        # False----------------------------------------->Output is False\n",
    "print(False and False)       # False----------------------------------------->Output is False\n",
    "\n",
    "print(True or True)          # True----------------------------------------->Output is True\n",
    "print(False or True)         # True----------------------------------------->Output is True\n",
    "print(True or False)         # True----------------------------------------->Output is True\n",
    "print(False or False)        # False----------------------------------------->Output is False\n",
    "\n",
    "print(not True)              # False----------------------------------------->Output is False\n",
    "print(not False)             # True ----------------------------------------->Output is True"
   ]
  },
  {
   "cell_type": "code",
   "execution_count": 70,
   "metadata": {
    "colab": {},
    "colab_type": "code",
    "id": "02jPgt094vK-"
   },
   "outputs": [
    {
     "name": "stdout",
     "output_type": "stream",
     "text": [
      "True\n",
      "True\n",
      "True\n",
      "-2\n",
      "4\n",
      "0\n"
     ]
    }
   ],
   "source": [
    "#Bitwise Operators\n",
    "#Do below operations on the values provided below:-\n",
    "    #Bitwise and(&) -----------------------------------------> True, True    -------> Output is True\n",
    "print(True & True)\n",
    "\n",
    "\n",
    "    #Bitwise or(|)  -----------------------------------------> True, False   -------> Output is True\n",
    "\n",
    "print(True | False)\n",
    "\n",
    "    #Bitwise(^)     -----------------------------------------> True, False   -------> Output is True\n",
    "\n",
    "print(True ^ False)\n",
    "    #Bitwise negation(~) ------------------------------------> True          -------> Output is -2\n",
    "\n",
    "print(~ True)\n",
    "    #Bitwise left shift  ------------------------------------> True,2        -------> Output is 4\n",
    "\n",
    "print(True << 2)\n",
    "\n",
    "    #Bitwise right shift ------------------------------------> True,2        -------> Output is 0\n",
    "\n",
    "print(True >> 2)\n",
    "\n",
    "#Cross check the output manually\n",
    "\n",
    "\n",
    "\n",
    "\n",
    "\n",
    "\n",
    "\n",
    "\n",
    "\n"
   ]
  },
  {
   "cell_type": "code",
   "execution_count": 10,
   "metadata": {
    "colab": {},
    "colab_type": "code",
    "id": "cy5i7sWz4v_c"
   },
   "outputs": [
    {
     "name": "stdout",
     "output_type": "stream",
     "text": [
      "True\n",
      "False\n",
      "True\n",
      "False\n"
     ]
    }
   ],
   "source": [
    "#What is the output of expression inside print statement. Cross check before running the program.\n",
    "a = True\n",
    "b = True\n",
    "print(a is b)          #True or False?   # True\n",
    "print(a is not b)      #True or False?   # False\n",
    "\n",
    "a = False\n",
    "b = False\n",
    "print(a is b)          #True or False? #True\n",
    "print(a is not b)      #True or False? #False\n"
   ]
  },
  {
   "cell_type": "code",
   "execution_count": 9,
   "metadata": {
    "colab": {},
    "colab_type": "code",
    "id": "AOcPQi8544M-"
   },
   "outputs": [
    {
     "name": "stdout",
     "output_type": "stream",
     "text": [
      "True\n",
      "True\n",
      "True\n",
      "True\n",
      "True\n"
     ]
    }
   ],
   "source": [
    "#Membership operation\n",
    "#in, not in are two membership operators and it returns boolean value\n",
    "\n",
    "print(True in [10,10.20,10+20j,'Python', True])\n",
    "print(False in (10,10.20,10+20j,'Python', False))\n",
    "print(True in {1,2,3, True})\n",
    "print(True in {True:100, False:200, True:300})\n",
    "print(False in {True:100, False:200, True:300})"
   ]
  },
  {
   "cell_type": "code",
   "execution_count": null,
   "metadata": {
    "colab": {},
    "colab_type": "code",
    "id": "MPa1Lpco46Ja"
   },
   "outputs": [],
   "source": []
  }
 ],
 "metadata": {
  "colab": {
   "name": "Boolean_Assignement.ipynb",
   "provenance": []
  },
  "kernelspec": {
   "display_name": "Python 3",
   "language": "python",
   "name": "python3"
  },
  "language_info": {
   "codemirror_mode": {
    "name": "ipython",
    "version": 3
   },
   "file_extension": ".py",
   "mimetype": "text/x-python",
   "name": "python",
   "nbconvert_exporter": "python",
   "pygments_lexer": "ipython3",
   "version": "3.7.3"
  }
 },
 "nbformat": 4,
 "nbformat_minor": 1
}
