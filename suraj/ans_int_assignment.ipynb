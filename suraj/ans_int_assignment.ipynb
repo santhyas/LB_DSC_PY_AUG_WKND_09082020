{
 "cells": [
  {
   "cell_type": "code",
   "execution_count": 1,
   "metadata": {
    "colab": {},
    "colab_type": "code",
    "id": "8A5Jw5NR1iEI"
   },
   "outputs": [
    {
     "name": "stdout",
     "output_type": "stream",
     "text": [
      "The Type of the variable var_int is <class 'int'>\n",
      "The id of the variabe var_int is 140721497871456\n"
     ]
    }
   ],
   "source": [
    "#Declare an int value and store it in a variable. \n",
    "\n",
    "var_int=10\n",
    "\n",
    "#Check the type and print the id of the same.\n",
    "print(\"The Type of the variable var_int is {}\".format(type(var_int)))\n",
    "print(\"The id of the variabe var_int is {}\".format(id(var_int)))\n"
   ]
  },
  {
   "cell_type": "code",
   "execution_count": 12,
   "metadata": {
    "colab": {},
    "colab_type": "code",
    "id": "0YU8LFTn1rAX"
   },
   "outputs": [
    {
     "name": "stdout",
     "output_type": "stream",
     "text": [
      "id of var1 is 140721497871616 and id of var2 is 140721497871616\n",
      "id of var1 is 1556402573128 and id of var2 is 1556402573128\n"
     ]
    }
   ],
   "source": [
    "#Take one int value between 0 - 256.\n",
    "#Assign it to two different variables.\n",
    "#Check the id of both the variables. It should come same. Check why?\n",
    "\n",
    "var1=15\n",
    "var2=15\n",
    "print(\"id of var1 is {} and id of var2 is {}\".format(id(var1),id(var2)))\n",
    "\n",
    "#Answer : object resuable Python may use same object if they are immutable.small numbers can be reused\n",
    "\n",
    "#Take one int value either less than -5 or greater than 256.\n",
    "#Assign it to two different variables.\n",
    "#Check the id of both the variables. It should come different.Check whyvar1=15\n",
    "var1=-15\n",
    "var2=-15\n",
    "print(\"id of var1 is {} and id of var2 is {}\".format(id(var1),id(var2)))\n",
    "\n",
    "#Answer : object resuable Python may use same object if they are immutable.I guess large numbers cannot be reused\n"
   ]
  },
  {
   "cell_type": "code",
   "execution_count": 14,
   "metadata": {
    "colab": {},
    "colab_type": "code",
    "id": "YzEIG0ZZ1tSK"
   },
   "outputs": [
    {
     "name": "stdout",
     "output_type": "stream",
     "text": [
      "Sum is 60 \n",
      "Diff is -10 \n",
      "Product is 875 \n",
      "Result of divide 0.7142857142857143\n",
      "Remainder is 25 \n",
      "Quotient is 0 \n",
      "Power is 8.470329472543004e+48 \n"
     ]
    }
   ],
   "source": [
    "#Arithmatic Operations on integers\n",
    "#Take two different intger values.\n",
    "#Store them in two different variables.\n",
    "#Do below operations on them:-\n",
    "    #Find sum of both numbers\n",
    "    #Find differce between them\n",
    "    #Find the product of both numbers.\n",
    "    #Find value after dividing first num with second number\n",
    "    #Find the remainder after dividing first number with second number\n",
    "    #Find the quotient after dividing first number with second number\n",
    "    #Find the result of first num to the power of second number.\n",
    "from math import pow \n",
    "var1=25\n",
    "var2=35\n",
    "print(\"Sum is {} \".format(var1+var2))\n",
    "print(\"Diff is {} \".format(var1-var2))\n",
    "print(\"Product is {} \".format(var1*var2))\n",
    "print(\"Result of divide {}\".format(var1/var2)) \n",
    "print(\"Remainder is {} \".format(var1%var2)) \n",
    "print(\"Quotient is {} \".format(int(var1/var2)))\n",
    "print(\"Power is {} \".format(pow(var1,var2)))\n"
   ]
  },
  {
   "cell_type": "code",
   "execution_count": 18,
   "metadata": {
    "colab": {},
    "colab_type": "code",
    "id": "GGM7CdzA1wGn"
   },
   "outputs": [
    {
     "name": "stdout",
     "output_type": "stream",
     "text": [
      "Greater than Check : Return Type is \u001b[1mTrue\u001b[0m And Return class is \u001b[1m<class 'bool'>\u001b[0m\n",
      "Less than Check : Return Type is \u001b[1mFalse\u001b[0m And Return class is \u001b[1m<class 'bool'>\u001b[0m\n",
      "Greater Than and Equal to Check : Return Type is \u001b[1mTrue\u001b[0m And Return class is \u001b[1m<class 'bool'>\u001b[0m\n",
      "Less Than and Equal to Check :Return Type is \u001b[1mFalse\u001b[0m And Return class is \u001b[1m<class 'bool'>\u001b[0m\n"
     ]
    }
   ],
   "source": [
    "#Comparison Operators on integers\n",
    "#Take two different intger values.\n",
    "#Store them in two different variables.\n",
    "#Do below operations on them:-\n",
    "    #Compare se two numbers with below operator:-\n",
    "        #Greater than, '>'\n",
    "        #Smaller than, '<'\n",
    "        #Greater than or equal to, '>='\n",
    "        #Less than or equal to, '<='\n",
    "#Observe their output(return type should be boolean)\n",
    "var1=45\n",
    "var2=23\n",
    "var_bold='\\033[1m'\n",
    "var_norm='\\033[0m'\n",
    "print(\"Greater than Check : Return Type is \"+var_bold + str(var1>var2)+var_norm+\" And Return class is \"+var_bold+ str(type(var1>var2))+var_norm)\n",
    "print(\"Less than Check : Return Type is \"+var_bold + str(var1<var2)+var_norm+\" And Return class is \"+var_bold+ str(type(var1<var2))+var_norm)\n",
    "print(\"Greater Than and Equal to Check : Return Type is \"+var_bold + str(var1>=var2)+var_norm+\" And Return class is \"+var_bold+ str(type(var1>=var2))+var_norm)\n",
    "print(\"Less Than and Equal to Check :Return Type is \"+var_bold + str(var1<=var2)+var_norm+\" And Return class is \"+var_bold+ str(type(var1<=var2))+var_norm)\n",
    "\n"
   ]
  },
  {
   "cell_type": "code",
   "execution_count": 19,
   "metadata": {
    "colab": {},
    "colab_type": "code",
    "id": "9x904sUE1y9t"
   },
   "outputs": [
    {
     "name": "stdout",
     "output_type": "stream",
     "text": [
      "Equality Test Return Type is \u001b[1mFalse\u001b[0m And Return class is \u001b[1m<class 'bool'>\u001b[0m\n",
      "Not equality Test Return Type is \u001b[1mTrue\u001b[0m And Return class is \u001b[1m<class 'bool'>\u001b[0m\n"
     ]
    }
   ],
   "source": [
    "#Equality Operator\n",
    "#Take two different intger values.\n",
    "#Store them in two different variables.\n",
    "#Equuate them using equality operator (==, !=)\n",
    "#Observe the output(return type should be boolean)\n",
    "var1=45\n",
    "var2=23\n",
    "var_bold='\\033[1m'\n",
    "var_norm='\\033[0m'\n",
    "print(\"Equality Test Return Type is \"+var_bold + str(var1==var2)+var_norm+\" And Return class is \"+var_bold+ str(type(var1==var2))+var_norm)\n",
    "print(\"Not equality Test Return Type is \"+var_bold + str(var1!=var2)+var_norm+\" And Return class is \"+var_bold+ str(type(var1!=var2))+var_norm)\n"
   ]
  },
  {
   "cell_type": "code",
   "execution_count": 20,
   "metadata": {
    "colab": {},
    "colab_type": "code",
    "id": "JmQFHUwc11S-"
   },
   "outputs": [
    {
     "name": "stdout",
     "output_type": "stream",
     "text": [
      "20\n",
      "0\n",
      "0\n",
      "0\n",
      "10\n",
      "20\n",
      "20\n",
      "0\n",
      "False\n",
      "True\n"
     ]
    }
   ],
   "source": [
    "#Logical operators\n",
    "#Observe the output of below code\n",
    "#Cross check the output manually\n",
    "\n",
    "print(10 and 20)       # 20----------------------------------------->Output is 20\n",
    "print(0 and 20)        # 0----------------------------------------->Output is 0\n",
    "print(20 and 0)        # 0----------------------------------------->Output is 0\n",
    "print(0 and 0)         # 0----------------------------------------->Output is 0\n",
    "\n",
    "print(10 or 20)        # 10 ----------------------------------------->Output is 10\n",
    "print(0 or 20)         # 20----------------------------------------->Output is 20\n",
    "print(20 or 0)         # 20----------------------------------------->Output is 20\n",
    "print(0 or 0)          # 0----------------------------------------->Output is 0\n",
    "\n",
    "print(not 10)          #False----------------------------------------->Output is False\n",
    "print(not 0)           #True----------------------------------------->Output is True"
   ]
  },
  {
   "cell_type": "code",
   "execution_count": 23,
   "metadata": {
    "colab": {},
    "colab_type": "code",
    "id": "-0tvoulX14Hi"
   },
   "outputs": [
    {
     "name": "stdout",
     "output_type": "stream",
     "text": [
      "Bitwise and(&) Result 0\n",
      "Bitwise or(|) Result 30\n",
      "Bitwise(^) Result 30\n",
      "Bitwise negation(~) Result -11\n",
      "Bitwise left shift Result 40\n",
      "Bitwise right shift Result 2\n"
     ]
    }
   ],
   "source": [
    "#Bitwise Operators\n",
    "#Do below operations on the values provided below:-\n",
    "    #Bitwise and(&) -----------------------------------------> 10, 20   -------> Output is 0\n",
    "    #Bitwise or(|)  -----------------------------------------> 10, 20   -------> Output is 30\n",
    "    #Bitwise(^)     -----------------------------------------> 10, 20   -------> Output is 30\n",
    "    #Bitwise negation(~) ------------------------------------> 10       -------> Output is -11\n",
    "    #Bitwise left shift  ------------------------------------> 10,2     -------> Output is 40\n",
    "    #Bitwise right shift ------------------------------------> 10,2     -------> Output is 2\n",
    "#Cross check the output manually\n",
    "\n",
    "print(\"Bitwise and(&) Result \" + str(10 & 20))\n",
    "print(\"Bitwise or(|) Result \" + str(10 | 20))\n",
    "print(\"Bitwise(^) Result \" + str(10 ^ 20))\n",
    "print(\"Bitwise negation(~) Result \" + str(~10))\n",
    "print(\"Bitwise left shift Result \" + str(10 << 2))\n",
    "print(\"Bitwise right shift Result \" + str(10 >> 2))"
   ]
  },
  {
   "cell_type": "code",
   "execution_count": 25,
   "metadata": {
    "colab": {},
    "colab_type": "code",
    "id": "YCcx-Qx016hg"
   },
   "outputs": [
    {
     "name": "stdout",
     "output_type": "stream",
     "text": [
      "True\n",
      "False\n",
      "False\n",
      "True\n"
     ]
    }
   ],
   "source": [
    "#What is the output of expression inside print statement. Cross check before running the program.\n",
    "a = 10\n",
    "b = 10\n",
    "print(a is b)          #True or False?\n",
    "#Answer :  True\n",
    "print(a is not b)      #True or False?\n",
    "#Answer : False\n",
    "\n",
    "a = 1000\n",
    "b = 1000\n",
    "print(a is b)          #True or False?\n",
    "#Answer False\n",
    "print(a is not b)      #True or False?\n",
    "#Answer True"
   ]
  },
  {
   "cell_type": "code",
   "execution_count": 31,
   "metadata": {
    "colab": {},
    "colab_type": "code",
    "id": "Un2To3XN1_Il"
   },
   "outputs": [
    {
     "name": "stdout",
     "output_type": "stream",
     "text": [
      "20\n",
      "0\n"
     ]
    }
   ],
   "source": [
    "#What is the output of expression inside print statement. Cross check before running the program.\n",
    "print(10+(10*32)//2**5&20+(~(-10))<<2)\n",
    "\n",
    "\n",
    "#Answer: 20"
   ]
  },
  {
   "cell_type": "code",
   "execution_count": 32,
   "metadata": {
    "colab": {},
    "colab_type": "code",
    "id": "kGRb5RMd1_1I"
   },
   "outputs": [
    {
     "name": "stdout",
     "output_type": "stream",
     "text": [
      "True\n",
      "True\n",
      "True\n",
      "True\n",
      "True\n",
      "True\n"
     ]
    }
   ],
   "source": [
    "#Membership operation\n",
    "#in, not in are two membership operators and it returns boolean value\n",
    "\n",
    "print('2' in 'Python2.7.8')\n",
    "# Answer True\n",
    "print(10 in [10,10.20,10+20j,'Python'])\n",
    "# Answer True\n",
    "print(10 in (10,10.20,10+20j,'Python'))\n",
    "# Answer True\n",
    "print(2 in {1,2,3})\n",
    "# Answer True\n",
    "print(3 in {1:100, 2:200, 3:300})\n",
    "# Answer True\n",
    "print(10 in range(20))\n",
    "# Answer True"
   ]
  },
  {
   "cell_type": "code",
   "execution_count": 47,
   "metadata": {
    "colab": {},
    "colab_type": "code",
    "id": "Es7iSvL92B9W"
   },
   "outputs": [
    {
     "name": "stdout",
     "output_type": "stream",
     "text": [
      "Binary variable is 0b111 Octal is 0o344 and hexadecimal is 0x344\n",
      "Binary value is 0b10011010010100 Octal is 0o23224 and hexadecimal is 0x2694\n"
     ]
    }
   ],
   "source": [
    "#An integer can be represented in binary, octal or hexadecimal form.\n",
    "#Declare one binary, one octal and one hexadecimal value and store them in three different variables.\n",
    "#Convert 9876 to its binary, octal and hexadecimal equivalent and print their corresponding value.\n",
    "\n",
    "var_bin=0b111\n",
    "var_oct=0o344\n",
    "var_hex=0x344\n",
    "\n",
    "print(\"Binary variable is {} Octal is {} and hexadecimal is {}\".format(bin(var_bin),oct(var_oct),hex(var_hex)))\n",
    "print(\"Binary value is {} Octal is {} and hexadecimal is {}\".format(bin(9876),oct(9876),hex(9876)))\n"
   ]
  },
  {
   "cell_type": "code",
   "execution_count": 49,
   "metadata": {
    "colab": {},
    "colab_type": "code",
    "id": "Hm0r03lH2E0i"
   },
   "outputs": [
    {
     "name": "stdout",
     "output_type": "stream",
     "text": [
      "80\n",
      "3870\n",
      "64222\n",
      "0b1010000\n",
      "0o7436\n",
      "0xfade\n",
      "0b1010000\n",
      "0b1111101011011110\n",
      "0o175336\n",
      "0o7436\n",
      "0x50\n",
      "0xfade\n"
     ]
    }
   ],
   "source": [
    "#What will be the outut of following:-\n",
    "a = 0b1010000\n",
    "print(a)\n",
    "\n",
    "b = 0o7436\n",
    "print(b)\n",
    "\n",
    "c = 0xfade\n",
    "print(c)\n",
    "\n",
    "print(bin(80))\n",
    "\n",
    "print(oct(3870))\n",
    "\n",
    "print(hex(64222))\n",
    "\n",
    "print(bin(0b1010000))\n",
    "\n",
    "print(bin(0xfade))\n",
    "\n",
    "print(oct(0xfade))\n",
    "\n",
    "print(oct(0o7436))\n",
    "\n",
    "print(hex(0b1010000))\n",
    "\n",
    "print(hex(0xfade))\n",
    "\n",
    "# Answer: 80\n",
    "# 3870\n",
    "# 64222\n",
    "# 0b1010000\n",
    "# 0o7436\n",
    "# 0xfade\n",
    "# 0b1010000\n",
    "# 0b1111101011011110\n",
    "# 0o175336\n",
    "# 0o7436\n",
    "# 0x50\n",
    "# 0xfade"
   ]
  }
 ],
 "metadata": {
  "colab": {
   "name": "int_assignment.ipynb",
   "provenance": []
  },
  "kernelspec": {
   "display_name": "Python 3",
   "language": "python",
   "name": "python3"
  },
  "language_info": {
   "codemirror_mode": {
    "name": "ipython",
    "version": 3
   },
   "file_extension": ".py",
   "mimetype": "text/x-python",
   "name": "python",
   "nbconvert_exporter": "python",
   "pygments_lexer": "ipython3",
   "version": "3.7.3"
  }
 },
 "nbformat": 4,
 "nbformat_minor": 1
}
