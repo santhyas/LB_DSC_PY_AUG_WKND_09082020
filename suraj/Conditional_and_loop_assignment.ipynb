{
 "cells": [
  {
   "cell_type": "markdown",
   "metadata": {
    "colab_type": "text",
    "id": "wNRNTbrsc53d"
   },
   "source": [
    "# If - elif - else statement"
   ]
  },
  {
   "cell_type": "code",
   "execution_count": 13,
   "metadata": {
    "colab": {},
    "colab_type": "code",
    "id": "MiPfTnBycxNa"
   },
   "outputs": [
    {
     "name": "stdout",
     "output_type": "stream",
     "text": [
      "Enter a Number1\n",
      "The nmber you entered is one\n",
      "Enter a Number again 89\n",
      "Number is outside of range Exiting loop\n"
     ]
    }
   ],
   "source": [
    "#W. A P. which takes one number from 0 to 9 from the user and prints it in the word. And if the word is not from 0 to 9 then\n",
    "#it should print that number is outside of the range and program should exit.\n",
    "# For exapmple:- \n",
    "# input = 1\n",
    "# output = one\n",
    "\n",
    "# Answer:\n",
    "var_dict={0:'zero',1:'one',2:'two',3:'three',4:'four',5:'five',6:'six',7:'seven',8:'eight',9:'nine',10:'ten'}\n",
    "inp=int(input(\"Enter a Number\"))\n",
    "while True:\n",
    "    print(\"The nmber you entered is {}\".format(var_dict[inp]))\n",
    "    inp=int(input(\"Enter a Number again \"))\n",
    "    if inp <0 or inp >9:\n",
    "        print(\"Number is outside of range Exiting loop\")\n",
    "        break;\n"
   ]
  },
  {
   "cell_type": "code",
   "execution_count": null,
   "metadata": {
    "colab": {},
    "colab_type": "code",
    "id": "vEMNOv9zdA39"
   },
   "outputs": [
    {
     "name": "stdout",
     "output_type": "stream",
     "text": [
      "Please select any one operation from below:-\n",
      "    * To add enter 1\n",
      "    * to subtract enter 2\n",
      "    * To multiply enter 3\n",
      "    * To divide enter 4\n",
      "    * To divide and find quotient enter 5\n",
      "    * To divide and find remainder enter 6\n",
      "    * To divide and find num1 to the power of num2 enter 7\n",
      "    * To Come out of the program enter 8\n",
      "Input your choice3\n",
      "Enter a number15\n",
      "Enter second number12\n",
      "Result is 180\n",
      "Input your choice6\n",
      "Enter a number45\n",
      "Enter second number89\n",
      "Result is 45\n"
     ]
    }
   ],
   "source": [
    "#W. A P. to implement calculator but the operation to be done and two numbers will be taken as input from user:-\n",
    "#Operation console should show below:-\n",
    "#     Please select any one operation from below:-\n",
    "#         * To add enter 1\n",
    "#         * to subtract enter 2\n",
    "#         * To multiply enter 3\n",
    "#         * To divide enter 4\n",
    "#         * To divide and find quotient enter 5\n",
    "#         * To divide and find remainder enter 6\n",
    "#         * To divide and find num1 to the power of num2 enter 7\n",
    "#         * To Come out of the program enter 8\n",
    "import math\n",
    "print ('''Please select any one operation from below:-\n",
    "    * To add enter 1\n",
    "    * to subtract enter 2\n",
    "    * To multiply enter 3\n",
    "    * To divide enter 4\n",
    "    * To divide and find quotient enter 5\n",
    "    * To divide and find remainder enter 6\n",
    "    * To divide and find num1 to the power of num2 enter 7\n",
    "    * To Come out of the program enter 8''')\n",
    "tup=(1,2,3,4,5,6,7,8)\n",
    "\n",
    "while True:\n",
    "    ope=int(input(\"Input your choice\"))\n",
    "    if ope not in tup:\n",
    "        print(\"Invalid Input\")\n",
    "        break;\n",
    "    var1=int(input(\"Enter a number\"))\n",
    "    var2=int(input(\"Enter second number\"))\n",
    "    if ope==1:\n",
    "        print(\"Result is {}\".format(var1+var2))\n",
    "    elif ope==2:\n",
    "        print(\"Result is {}\".format(var1-var2))\n",
    "    elif ope==3:\n",
    "        print(\"Result is {}\".format(var1*var2))\n",
    "    elif ope==4:\n",
    "        print(\"Result is {}\".format(var1/var2))\n",
    "    elif ope==5:\n",
    "        print(\"Result is {}\".format(var1//var2))\n",
    "    elif ope==6:\n",
    "        print(\"Result is {}\".format(var1%var2))\n",
    "    elif ope==7:\n",
    "        print(\"Result is {}\".format(pow(var1,var2)))\n",
    "    else:\n",
    "        print(\"Exit\")\n",
    "        break;\n",
    "        \n",
    "\n"
   ]
  },
  {
   "cell_type": "code",
   "execution_count": 3,
   "metadata": {
    "colab": {},
    "colab_type": "code",
    "id": "1e2gwYLqdC1s"
   },
   "outputs": [
    {
     "name": "stdout",
     "output_type": "stream",
     "text": [
      "Enter an year2000\n",
      "year 2000 is a leap year\n"
     ]
    }
   ],
   "source": [
    "#W A P to check whether a year entered by user is an leap year or not?\n",
    "#Check with below input:-1\n",
    "\n",
    "    #leap year:- 2012, 1968, 2004, 1200, 1600,2400\n",
    "    #Non-lear year:- 1971, 2006, 1700,1800,1900\n",
    "    \n",
    "#Answer\n",
    "\n",
    "inp=int(input(\"Enter an year\"))\n",
    "if inp%400==0:\n",
    "    print(\"year {} is a leap year\".format(inp))\n",
    "elif inp%100==0:\n",
    "    print(\"year {} is not  a leap year\".format(inp))\n",
    "elif inp%4==0:\n",
    "    print(\"year {} is a leap year\".format(inp))\n",
    "else:\n",
    "    print(\"year {} is not a leap year\".format(inp))\n",
    "\n"
   ]
  },
  {
   "cell_type": "code",
   "execution_count": 1,
   "metadata": {
    "colab": {},
    "colab_type": "code",
    "id": "_tpXv1EtdEre"
   },
   "outputs": [
    {
     "name": "stdout",
     "output_type": "stream",
     "text": [
      "Enter a number15\n",
      "THe number 15 is odd number\n"
     ]
    }
   ],
   "source": [
    "#W A P which takes one number from the user and checks whether it is an even or odd number?, If it even then prints number is \n",
    "#even number else prints that number is odd number.\n",
    "\n",
    "inp=int(input(\"Enter a number\"))\n",
    "if inp%2==0:\n",
    "    print(\"THe number {} is even number\".format(inp))\n",
    "else:\n",
    "    print(\"THe number {} is odd number\".format(inp))"
   ]
  },
  {
   "cell_type": "code",
   "execution_count": 3,
   "metadata": {
    "colab": {},
    "colab_type": "code",
    "id": "Q1HumymCdG6i"
   },
   "outputs": [
    {
     "name": "stdout",
     "output_type": "stream",
     "text": [
      "Enter a number14\n",
      "Enter second number12\n",
      "14 is greater than 12\n"
     ]
    }
   ],
   "source": [
    "#W A P which takes two numbers from the user and prints below output:-\n",
    "#     1. num1 is greater than num2 if num1 is greater than num2\n",
    "#     2. num1 is smaller than num2 if num1 is smaller than num2\n",
    "#     3. num1 is equal to num2 if num1 and num2 are equal\n",
    "\n",
    "#Note:- 1. Do this problem using if - else \n",
    "#       2. Do this using ternary operator\n",
    "inp1=int(input(\"Enter a number\"))\n",
    "inp2=int(input(\"Enter second number\"))\n",
    "if inp1>inp2:\n",
    "    print (\"{} is greater than {}\".format(inp1,inp2))\n",
    "elif inp<inp2:\n",
    "    print (\"{} is smaller than {}\".format(inp1,inp2))\n",
    "else:\n",
    "    print (\"{} and {} are equal\".format(inp1,inp2))\n"
   ]
  },
  {
   "cell_type": "code",
   "execution_count": 7,
   "metadata": {
    "colab": {},
    "colab_type": "code",
    "id": "LR6TVB-DdOPf"
   },
   "outputs": [
    {
     "name": "stdout",
     "output_type": "stream",
     "text": [
      "Enter a number96\n",
      "Enter second number56\n",
      "Enter third number14\n",
      "96 is greater than 56 and 14\n"
     ]
    }
   ],
   "source": [
    "#W A P which takes three numbers from the user and prints below output:-\n",
    "#     1. num1 is greater than num2 and num3 if num1 is greater than num2 and num3\n",
    "#     2. num2 is greater than num1 and num3 if num2 is greater than num1 and num3\n",
    "#     3. num3 is greater than num1 and num2 if num3 is greater than num1 and num2\n",
    "\n",
    "#Note:- 1. Do this problem using if - elif - else \n",
    "#       2. Do this using ternary operator\n",
    "\n",
    "# a = a if a>b else b\n",
    "#expr if cond1 else expr2 if cond2 else expr3\n",
    "\n",
    "inp1=int(input(\"Enter a number\"))\n",
    "inp2=int(input(\"Enter second number\"))\n",
    "inp3=int(input(\"Enter third number\"))\n",
    "if inp1 > inp2 and inp1 > inp3 :\n",
    "    print (\"{} is greater than {} and {}\".format(inp1,inp2,inp3))\n",
    "elif inp2 > inp1 and inp2 > inp3:\n",
    "    print (\"{} is greater than {} and {}\".format(inp2,inp1,inp3))\n",
    "else:\n",
    "    print (\"{} is greater than {} and {}\".format(inp3,inp1,inp2))\n"
   ]
  },
  {
   "cell_type": "markdown",
   "metadata": {
    "colab_type": "text",
    "id": "IoOLQMUGdSox"
   },
   "source": [
    "# Loops - for loop, while loop"
   ]
  },
  {
   "cell_type": "code",
   "execution_count": 8,
   "metadata": {
    "colab": {},
    "colab_type": "code",
    "id": "9K23Uld8dQfA"
   },
   "outputs": [
    {
     "name": "stdout",
     "output_type": "stream",
     "text": [
      "55\n"
     ]
    }
   ],
   "source": [
    "#Write a Python program to find the length of the my_str using loop:-\n",
    "\n",
    "#Input:- 'Write a Python program to find the length of the my_str'\n",
    "#Output:- 55\n",
    "cnt=0\n",
    "str1='Write a Python program to find the length of the my_str'\n",
    "for ind in str1:\n",
    "    cnt+=1\n",
    "print(cnt)"
   ]
  },
  {
   "cell_type": "code",
   "execution_count": 9,
   "metadata": {
    "colab": {},
    "colab_type": "code",
    "id": "bp6AcqTsdYxy"
   },
   "outputs": [
    {
     "name": "stdout",
     "output_type": "stream",
     "text": [
      "9\n"
     ]
    }
   ],
   "source": [
    "#Write a Python program to find the total number of times letter 'p' is appeared in the below string using loop:-\n",
    "    \n",
    "#Input:- 'peter piper picked a peck of pickled peppers.\\n'\n",
    "#Output:- 9\n",
    "cnt=0\n",
    "str1='peter piper picked a peck of pickled peppers.\\n'\n",
    "for ind in str1:\n",
    "    if ind=='p':\n",
    "        cnt+=1\n",
    "print(cnt)\n"
   ]
  },
  {
   "cell_type": "code",
   "execution_count": 13,
   "metadata": {
    "colab": {},
    "colab_type": "code",
    "id": "xvxSBhTJdav1"
   },
   "outputs": [
    {
     "name": "stdout",
     "output_type": "stream",
     "text": [
      "0\n",
      "6\n",
      "8\n",
      "12\n",
      "21\n",
      "29\n",
      "37\n",
      "39\n",
      "40\n"
     ]
    }
   ],
   "source": [
    "#Write a Python Program, to print all the indexes of all occurences of letter 'p' appeared in the string using loop:-\n",
    "    \n",
    "#Input:- 'peter piper picked a peck of pickled peppers.'\n",
    "#Output:- \n",
    "# 0\n",
    "# 6\n",
    "# 8\n",
    "# 12\n",
    "# 21\n",
    "# 29\n",
    "# 37\n",
    "# 39\n",
    "# 40\n",
    "cnt=0\n",
    "str1='peter piper picked a peck of pickled peppers.\\n'\n",
    "for ind in str1:\n",
    "    cnt+=1\n",
    "    if ind=='p':\n",
    "        print(cnt-1)"
   ]
  },
  {
   "cell_type": "code",
   "execution_count": 22,
   "metadata": {
    "colab": {},
    "colab_type": "code",
    "id": "79L_feMadbmw"
   },
   "outputs": [
    {
     "name": "stdout",
     "output_type": "stream",
     "text": [
      "['peter', 'piper', 'picked', 'a', 'peck', 'of', 'pickled', 'peppers']\n"
     ]
    }
   ],
   "source": [
    "#Write a python program to find below output using loop:-\n",
    "\n",
    "#Input:- 'peter piper picked a peck of pickled peppers.'\n",
    "#Output:- ['peter', 'piper', 'picked', 'a', 'peck', 'of', 'pickled', 'peppers']\n",
    "\n",
    "str1='peter piper picked a peck of pickled peppers.'\n",
    "str_list=''\n",
    "lst_st=[]\n",
    "for ind in str1:\n",
    "    if ind.isspace() or str1[len(str1)-1] == ind:\n",
    "        lst_st.append(str_list)\n",
    "        str_list=''\n",
    "    else:\n",
    "        str_list+=ind\n",
    "\n",
    "print(lst_st)"
   ]
  },
  {
   "cell_type": "code",
   "execution_count": 18,
   "metadata": {
    "colab": {},
    "colab_type": "code",
    "id": "vzs5AJ53deVS"
   },
   "outputs": [
    {
     "name": "stdout",
     "output_type": "stream",
     "text": [
      "peppers pickled of peck a picked piper peter\n"
     ]
    }
   ],
   "source": [
    "#Write a python program to find below output using loop:-\n",
    "\n",
    "#Input:- 'peter piper picked a peck of pickled peppers.'\n",
    "#Output:- 'peppers pickled of peck a picked piper peter'\n",
    "\n",
    "str1='peter piper picked a peck of pickled peppers'\n",
    "lst=' '.join(str1.split()[::-1])\n",
    "print(lst)\n"
   ]
  },
  {
   "cell_type": "code",
   "execution_count": 21,
   "metadata": {
    "colab": {},
    "colab_type": "code",
    "id": "i-HP7DrCdhwS"
   },
   "outputs": [
    {
     "name": "stdout",
     "output_type": "stream",
     "text": [
      ".sreppep delkcip fo kcep a dekcip repip retep\n"
     ]
    }
   ],
   "source": [
    "#Write a python program to find below output using loop:-\n",
    "\n",
    "#Input:- 'peter piper picked a peck of pickled peppers.'\n",
    "#Output:- '.sreppep delkcip fo kcep a dekcip repip retep'\n",
    "\n",
    "str1='peter piper picked a peck of pickled peppers.'\n",
    "print(str1[::-1])"
   ]
  },
  {
   "cell_type": "code",
   "execution_count": 27,
   "metadata": {
    "colab": {},
    "colab_type": "code",
    "id": "3rt6p0ytdkq0"
   },
   "outputs": [
    {
     "name": "stdout",
     "output_type": "stream",
     "text": [
      " retep repip dekcip a kcep fo delkcip .sreppep\n"
     ]
    }
   ],
   "source": [
    "#Write a python program to find below output using loop:-\n",
    "\n",
    "#Input:- 'peter piper picked a peck of pickled peppers.'\n",
    "#Output:- 'retep repip dekcip a kcep fo delkcip sreppep'\n",
    "\n",
    "str1='peter piper picked a peck of pickled peppers.'\n",
    "lst=(str1[::-1].split()[::-1])\n",
    "str2=''\n",
    "for ind in lst:\n",
    "    str2=str2+' '+ind\n",
    "print(str2)"
   ]
  },
  {
   "cell_type": "code",
   "execution_count": 47,
   "metadata": {
    "colab": {},
    "colab_type": "code",
    "id": "HdlAWgT2dnKO"
   },
   "outputs": [
    {
     "name": "stdout",
     "output_type": "stream",
     "text": [
      " Peter Piper Picked A Peck Of Pickled Peppers.\n"
     ]
    }
   ],
   "source": [
    "#Write a python program to find below output using loop:-\n",
    "\n",
    "#Input:- 'peter piper picked a peck of pickled peppers.'\n",
    "#Output:- 'Peter Piper Picked A Peck Of Pickled Peppers'\n",
    "str=''\n",
    "str1='peter piper picked a peck of pickled peppers.'\n",
    "lst=(str1.split())\n",
    "for ind in lst:\n",
    "    str=str+' '+ind[0].upper()+ind[1:]\n",
    "print(str)"
   ]
  },
  {
   "cell_type": "code",
   "execution_count": 51,
   "metadata": {
    "colab": {},
    "colab_type": "code",
    "id": "OthUuacodrNl"
   },
   "outputs": [
    {
     "name": "stdout",
     "output_type": "stream",
     "text": [
      " Peter piper picked a peck of pickled peppers.\n"
     ]
    }
   ],
   "source": [
    "#Write a python program to find below output using loop:-\n",
    "\n",
    "#Input:- 'Peter Piper Picked A Peck Of Pickled Peppers.'\n",
    "#Output:- 'Peter piper picked a peck of pickled peppers'\n",
    "\n",
    "cnt=0\n",
    "str=''\n",
    "str1='Peter Piper Picked A Peck Of Pickled Peppers.'\n",
    "lst=(str1.split())\n",
    "for ind in lst:\n",
    "    if cnt>0:\n",
    "        str=str+' '+ind[0].lower()+ind[1:]\n",
    "    else:\n",
    "        str=str+' '+ind\n",
    "    cnt+=1\n",
    "print(str)"
   ]
  },
  {
   "cell_type": "code",
   "execution_count": 75,
   "metadata": {
    "colab": {
     "base_uri": "https://localhost:8080/",
     "height": 34
    },
    "colab_type": "code",
    "id": "scmDJE-ldsI9",
    "outputId": "4b1d1979-9f4a-4bc6-c505-b88b1bbd4d5d"
   },
   "outputs": [
    {
     "name": "stdout",
     "output_type": "stream",
     "text": [
      "21\n"
     ]
    }
   ],
   "source": [
    "#Write a python program to implement index method using loop. If sub_str is found in my_str then it will print the index\n",
    "# of first occurrence of first character of matching string in my_str:-\n",
    "\n",
    "#Input:- my_str = 'Peter Piper Picked A Peck Of Pickled Peppers.', sub_str = 'Pickl'\n",
    "#Output:- 29\n",
    "\n",
    "inp1='Peter Piper Picked A Peck Of Pickled Peppers.'\n",
    "sub_str='Peck'\n",
    "new_str=''\n",
    "j=0\n",
    "for i in range(len(inp1)):\n",
    "    if inp1[i]==sub_str[j]:\n",
    "        new_str= new_str + sub_str[j]\n",
    "        j+=1\n",
    "        if new_str==sub_str:\n",
    "            break\n",
    "    else:\n",
    "        new_str=''\n",
    "        j=0\n",
    "ind = i-(j-1)\n",
    "print(ind)\n",
    "\n"
   ]
  },
  {
   "cell_type": "code",
   "execution_count": 2,
   "metadata": {
    "colab": {},
    "colab_type": "code",
    "id": "Kq_fwdb_dvYE"
   },
   "outputs": [
    {
     "name": "stdout",
     "output_type": "stream",
     "text": [
      "Peter Pack Picked A Peck Of Pickled Peppers.\n"
     ]
    }
   ],
   "source": [
    "#Write a python program to implement replace method using loop. If sub_str is found in my_str then it will replace the first \n",
    "#occurrence of sub_str with new_str else it will will print sub_str not found:-\n",
    "\n",
    "#Input:- my_str = 'Peter Piper Picked A Peck Of Pickled Peppers.', sub_str = 'Peck', new_str = 'Pack'\n",
    "#Output:- 'Peter Piper Picked A Pack Of Pickled Peppers.'\n",
    "\n",
    "inp1='Peter Piper Picked A Peck Of Pickled Peppers.'\n",
    "sub_str='Piper'\n",
    "rep_str = 'Pack'\n",
    "new_str=''\n",
    "rep_new_str=''\n",
    "j=0\n",
    "cnt=0\n",
    "for i in range(len(inp1)):\n",
    "    if inp1[i]==sub_str[j]:\n",
    "        new_str= new_str + sub_str[j]\n",
    "        j+=1\n",
    "        if new_str==sub_str:\n",
    "            ind = i-(j-1)\n",
    "            break\n",
    "    else:\n",
    "        new_str=''\n",
    "        j=0\n",
    "if j>0:\n",
    "    for i in range(len(inp1)):\n",
    "        if i >= ind and i < ind+len(sub_str):\n",
    "            if cnt >= len(rep_str):\n",
    "                rep_new_str=rep_new_str+''\n",
    "            else:\n",
    "                rep_new_str=rep_new_str+rep_str[cnt]\n",
    "            cnt+=1\n",
    "        else:\n",
    "            rep_new_str=rep_new_str+inp1[i]\n",
    "    print(rep_new_str)\n",
    "else:\n",
    "    print(f\"{sub_str} is not found\")\n",
    "\n",
    "\n",
    "        \n"
   ]
  },
  {
   "cell_type": "code",
   "execution_count": 4,
   "metadata": {
    "colab": {},
    "colab_type": "code",
    "id": "4Qes5D0cdyd1"
   },
   "outputs": [
    {
     "name": "stdout",
     "output_type": "stream",
     "text": [
      "********************Peck*********************\n"
     ]
    }
   ],
   "source": [
    "#Write a python program to find below output (implements rjust and ljust) using loop:-\n",
    "\n",
    "#Input:- 'Peter Piper Picked A Peck Of Pickled Peppers.', sub_str = 'Peck', \n",
    "#Output:- '*********************Peck********************'\n",
    "inp1='Peter Piper Picked A Peck Of Pickled Peppers.'\n",
    "sub_str='Peck'\n",
    "new_str=''\n",
    "j=0\n",
    "for i in range(len(inp1)):\n",
    "    if inp1[i]==sub_str[j]:\n",
    "        new_str= new_str + sub_str[j]\n",
    "        j+=1\n",
    "        if new_str==sub_str:\n",
    "            break\n",
    "    else:\n",
    "        new_str=''\n",
    "        j=0\n",
    "ind = i-(j-1)\n",
    "print('*'*(ind-1)+sub_str+((len(inp1)-(ind+len(sub_str))+1)*'*'))\n",
    "\n"
   ]
  },
  {
   "cell_type": "code",
   "execution_count": 5,
   "metadata": {
    "colab": {},
    "colab_type": "code",
    "id": "DsOrb07Od0lR"
   },
   "outputs": [],
   "source": [
    "#Write a python program to find below output using loop:-\n",
    "\n",
    "#Input:- 'This is Python class', sep = 'is', \n",
    "#Output:- ['This', 'is', 'Python class']\n"
   ]
  },
  {
   "cell_type": "code",
   "execution_count": 10,
   "metadata": {
    "colab": {},
    "colab_type": "code",
    "id": "jRnBVufmd2Ay"
   },
   "outputs": [
    {
     "name": "stdout",
     "output_type": "stream",
     "text": [
      "R{vjqp\n",
      "Rwvfql\n",
      "R{vjml\n"
     ]
    }
   ],
   "source": [
    "#Write a python program which takes one input string from user and encode it in below format:-\n",
    "    # 1. #Input:- 'Python'\n",
    "       #Output:- 'R{vjqp'\n",
    "inp = \"Python\"\n",
    "out=''\n",
    "for i in range(len(inp)):\n",
    "        out+=chr(ord(inp[i]) +2)\n",
    "print(out)\n",
    "        \n",
    "        \n",
    "# 2. #Input:- 'Python'\n",
    "       #Output:- 'Rwvfql'\n",
    "\n",
    "inp = \"Python\"\n",
    "out=''\n",
    "for i in range(len(inp)):\n",
    "    if i%2 == 0:\n",
    "        out+=chr(ord(inp[i]) +2)\n",
    "    else:\n",
    "        out+=chr(ord(inp[i]) -2)\n",
    "print(out)       \n",
    "        \n",
    "        \n",
    "        \n",
    "    # 3. #Input:- 'Python'\n",
    "       #Output:- 'R{vjml'\n",
    "inp = \"Python\"\n",
    "out=''\n",
    "for i in range(len(inp)):\n",
    "    if i <= len(inp)//2:\n",
    "        out+=chr(ord(inp[i]) +2)\n",
    "    else:\n",
    "        out+=chr(ord(inp[i]) -2)\n",
    "print(out)\n",
    "\n"
   ]
  }
 ],
 "metadata": {
  "colab": {
   "name": "Conditional_and_loop_assignment.ipynb",
   "provenance": []
  },
  "kernelspec": {
   "display_name": "Python 3",
   "language": "python",
   "name": "python3"
  },
  "language_info": {
   "codemirror_mode": {
    "name": "ipython",
    "version": 3
   },
   "file_extension": ".py",
   "mimetype": "text/x-python",
   "name": "python",
   "nbconvert_exporter": "python",
   "pygments_lexer": "ipython3",
   "version": "3.7.3"
  }
 },
 "nbformat": 4,
 "nbformat_minor": 1
}
