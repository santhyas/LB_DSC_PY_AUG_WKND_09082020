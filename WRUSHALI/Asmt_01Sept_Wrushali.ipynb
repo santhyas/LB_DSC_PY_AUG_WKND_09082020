{
 "cells": [
  {
   "cell_type": "code",
   "execution_count": 4,
   "metadata": {},
   "outputs": [
    {
     "name": "stdout",
     "output_type": "stream",
     "text": [
      "Enter a nuber from 0 to 9: 6\n",
      "Six\n"
     ]
    }
   ],
   "source": [
    "#W. A P. which takes one number from 0 to 9 from the user and prints it in the word. And if the word is not from 0 to 9 then\n",
    "#it should print that number is outside of the range and program should exit.\n",
    "# For exapmple:- \n",
    "# input = 1\n",
    "# output = one\n",
    "inp=int(input(\"Enter a nuber from 0 to 9: \"))\n",
    "if inp in range (10):\n",
    "    if inp==0:\n",
    "        print(\"Zero\")\n",
    "    elif inp==1:\n",
    "        print(\"One\")\n",
    "    elif inp==2:\n",
    "        print(\"Two\")\n",
    "    elif inp==3:\n",
    "        print(\"Three\")\n",
    "    elif inp==4:\n",
    "        print(\"Four\")\n",
    "    elif inp==5:\n",
    "        print(\"Five\")\n",
    "    elif inp==6:\n",
    "        print(\"Six\")\n",
    "    elif inp==7:\n",
    "        print(\"Seven\")\n",
    "    elif inp==8:\n",
    "        print(\"Eight\")\n",
    "    elif inp==9:\n",
    "        print(\"Nine\")\n",
    "else:\n",
    "    print(\"The number is outside of range\")"
   ]
  },
  {
   "cell_type": "code",
   "execution_count": 9,
   "metadata": {},
   "outputs": [
    {
     "name": "stdout",
     "output_type": "stream",
     "text": [
      "To add enter 1\n",
      "to subtract enter 2\n",
      "To multiply enter 3\n",
      "To divide enter 4\n",
      "To divide and find quotient enter 5\n",
      "To divide and find remainder enter 6\n",
      "To divide and find num1 to the power of num2 enter 7\n",
      "To Come out of the program enter 8\n",
      "4\n",
      "Enter the first number: 5\n",
      "Enter the Second number: 10\n",
      "The dividing of two numbers is:  0.5\n",
      "The value of num1 to the powerr of num2 is:  9765625\n"
     ]
    }
   ],
   "source": [
    "#W. A P. to implement calculator but the operation to be done and two numbers will be taken as input from user:-\n",
    "#Operation console should show below:-\n",
    "#     Please select any one operation from below:-\n",
    "#         * To add enter 1\n",
    "#         * to subtract enter 2\n",
    "#         * To multiply enter 3\n",
    "#         * To divide enter 4\n",
    "#         * To divide and find quotient enter 5\n",
    "#         * To divide and find remainder enter 6\n",
    "#         * To divide and find num1 to the power of num2 enter 7\n",
    "#         * To Come out of the program enter 8\n",
    "\n",
    "Display='''To add enter 1\n",
    "to subtract enter 2\n",
    "To multiply enter 3\n",
    "To divide enter 4\n",
    "To divide and find quotient enter 5\n",
    "To divide and find remainder enter 6\n",
    "To divide and find num1 to the power of num2 enter 7\n",
    "To Come out of the program enter 8\n",
    "'''\n",
    "\n",
    "n=int(input(Display))\n",
    "if n in range(8):\n",
    "    num1=int(input(\"Enter the first number: \"))\n",
    "    num2=int(input(\"Enter the Second number: \"))\n",
    "    if n==1:\n",
    "        print(\"The addition of two numbers is: \", num1+num2)\n",
    "    if n==2:\n",
    "        print(\"The Substraction of two numbers is: \", num1-num2)\n",
    "    if n==3:\n",
    "        print(\"The multiplication of two numbers is: \", num1*num2)\n",
    "    if n==4:\n",
    "        print(\"The dividing of two numbers is: \", num1/num2)\n",
    "    if n==5:\n",
    "        print(\"quotient value after dividing num1 by num2 is: \", num1//num2)\n",
    "    if n==6:\n",
    "        print(\"The remainder value after dividing num1 and num2 is: \", num1%num2)\n",
    "    else:\n",
    "        print(\"The value of num1 to the powerr of num2 is: \", num1**num2)\n",
    "elif n==8:\n",
    "    print(\"Out of Program\")\n",
    "else:\n",
    "    print(\"Invalid input\")"
   ]
  },
  {
   "cell_type": "code",
   "execution_count": 14,
   "metadata": {},
   "outputs": [
    {
     "name": "stdout",
     "output_type": "stream",
     "text": [
      "2012 is a leap year\n",
      "1968 is a leap year\n",
      "2004 is a leap year\n",
      "1200 is not a leap year\n",
      "1600 is not a leap year\n",
      "2400 is not a leap year\n",
      "1971  is not a leap year\n",
      "2006  is not a leap year\n",
      "1700 is a Leap year\n",
      "1800 is a Leap year\n",
      "1900 is a Leap year\n"
     ]
    }
   ],
   "source": [
    "#W A P to check whether a year entered by user is an leap year or not?\n",
    "#Check with below input:-\n",
    "    #leap year:- 2012, 1968, 2004, 1200, 1600,2400\n",
    "    #Non-lear year:- 1971, 2006, 1700,1800,1900\n",
    "    \n",
    "a=[2012, 1968, 2004, 1200, 1600, 2400, 1971, 2006, 1700,1800,1900]\n",
    "for i in range (len(a)):\n",
    "    if a[i]%4==0:\n",
    "        if a[i]%100==0:\n",
    "            if a[i]%400:\n",
    "               print(a[i], \"is a Leap year\")\n",
    "            else:\n",
    "              print(a[i], \"is not a leap year\")\n",
    "        else:\n",
    "            print(a[i],\"is a leap year\")\n",
    "    else:\n",
    "        print(a[i], \" is not a leap year\")\n",
    "              \n"
   ]
  },
  {
   "cell_type": "code",
   "execution_count": 15,
   "metadata": {},
   "outputs": [
    {
     "name": "stdout",
     "output_type": "stream",
     "text": [
      "enter a number=4\n",
      "4 is even number\n"
     ]
    }
   ],
   "source": [
    "#W A P which takes one number from the user and checks whether it is an even or odd number?, If it even then prints number is \n",
    "#even number else prints that number is odd number.\n",
    "num=int(input(\"enter a number=\"))\n",
    "if num%2==0:\n",
    "    print(num,\"is even number\")\n",
    "else:\n",
    "    print(num,\"is an odd number\")\n"
   ]
  },
  {
   "cell_type": "code",
   "execution_count": 17,
   "metadata": {},
   "outputs": [
    {
     "name": "stdout",
     "output_type": "stream",
     "text": [
      "enter a number=5\n",
      "enter a number=5\n",
      "\n",
      "\n",
      "num1 is equal to num2\n"
     ]
    }
   ],
   "source": [
    "#W A P which takes two numbers from the user and prints below output:-\n",
    "#     1. num1 is greater than num2 if num1 is greater than num2\n",
    "#     2. num1 is smaller than num2 if num1 is smaller than num2\n",
    "#     3. num1 is equal to num2 if num1 and num2 are equal\n",
    "\n",
    "#Note:- 1. Do this problem using if - else \n",
    "#       2. Do this using ternary operator\n",
    "\n",
    "num1=int(input(\"enter a number=\"))\n",
    "num2=int(input(\"enter a number=\"))\n",
    "\n",
    "print(\"num1 is greater than num2\" if num1>num2 else \"\")\n",
    "print(\"num1 is smaller than num2\" if num1<num2 else \"\")\n",
    "print(\"num1 is equal to num2\" if num1==num2 else \"\")"
   ]
  },
  {
   "cell_type": "code",
   "execution_count": 20,
   "metadata": {},
   "outputs": [
    {
     "name": "stdout",
     "output_type": "stream",
     "text": [
      "enter a number=6\n",
      "enter a number=8\n",
      "enter a number=9\n",
      "num3 is greater than num1 and num2\n"
     ]
    }
   ],
   "source": [
    "#W A P which takes three numbers from the user and prints below output:-\n",
    "#     1. num1 is greater than num2 and num3 if num1 is greater than num2 and num3\n",
    "#     2. num2 is greater than num1 and num3 if num2 is greater than num1 and num3\n",
    "#     3. num3 is greater than num1 and num2 if num3 is greater than num1 and num2\n",
    "\n",
    "#Note:- 1. Do this problem using if - elif - else \n",
    "#       2. Do this using ternary operator\n",
    "\n",
    "# a = a if a>b else b\n",
    "#expr if cond1 else expr2 if cond2 else expr3\n",
    "\n",
    "num1=int(input(\"enter a number=\"))\n",
    "num2=int(input(\"enter a number=\"))\n",
    "num3=int(input(\"enter a number=\"))\n",
    "\n",
    "print(\"num1 is greater than num2 and num3\" if num1>num2 and num1>num3 else \n",
    "\"num2 is greater than num1 and num3\" if num2>num1 and num2>num3 else \"num3 is greater than num1 and num2\")\n",
    "\n"
   ]
  },
  {
   "cell_type": "markdown",
   "metadata": {},
   "source": [
    "# Loops - for loop, while loop"
   ]
  },
  {
   "cell_type": "code",
   "execution_count": 22,
   "metadata": {},
   "outputs": [
    {
     "name": "stdout",
     "output_type": "stream",
     "text": [
      "The length of the string is:  55\n"
     ]
    }
   ],
   "source": [
    "#Write a Python program to find the length of the my_str using loop:-\n",
    "\n",
    "#Input:- 'Write a Python program to find the length of the my_str'\n",
    "#Output:- 55\n",
    "\n",
    "my_str='Write a Python program to find the length of the my_str'\n",
    "\n",
    "count=0\n",
    "for i in my_str:\n",
    "    count+=1\n",
    "print(\"The length of the string is: \", count)\n",
    "\n"
   ]
  },
  {
   "cell_type": "code",
   "execution_count": 23,
   "metadata": {},
   "outputs": [
    {
     "name": "stdout",
     "output_type": "stream",
     "text": [
      "The number of times lettet 'p' apperared is :  9\n"
     ]
    }
   ],
   "source": [
    "#Write a Python program to find the total number of times letter 'p' is appeared in the below string using loop:-\n",
    "    \n",
    "#Input:- 'peter piper picked a peck of pickled peppers.\\n'\n",
    "#Output:- 9\n",
    "\n",
    "string =  \"peter piper picked a peck of pickled peppers.\\n\"\n",
    "new=''\n",
    "for i in range(len(string)):\n",
    "    a=string[i]\n",
    "    if 'p'==a:\n",
    "        new+=a\n",
    "print(\"The number of times lettet 'p' apperared is : \", len(new))\n"
   ]
  },
  {
   "cell_type": "code",
   "execution_count": 26,
   "metadata": {},
   "outputs": [
    {
     "name": "stdout",
     "output_type": "stream",
     "text": [
      "0\n",
      "6\n",
      "8\n",
      "12\n",
      "21\n",
      "29\n",
      "37\n",
      "39\n",
      "40\n"
     ]
    }
   ],
   "source": [
    "#Write a Python Program, to print all the indexes of all occurences of letter 'p' appeared in the string using loop:-\n",
    "    \n",
    "#Input:- 'peter piper picked a peck of pickled peppers.'\n",
    "#Output:- \n",
    "# 0\n",
    "# 6\n",
    "# 8\n",
    "# 12\n",
    "# 21\n",
    "# 29\n",
    "# 37\n",
    "# 39\n",
    "# 40\n",
    "\n",
    "string = 'peter piper picked a peck of pickled peppers.'\n",
    "\n",
    "i=0\n",
    "while(i<len(string)):\n",
    "    n=string[i]\n",
    "    i+=1\n",
    "    if 'p' == n :             #instaed of == try using \"is\"\n",
    "        print(i-1)\n",
    "\n"
   ]
  },
  {
   "cell_type": "code",
   "execution_count": 27,
   "metadata": {},
   "outputs": [
    {
     "name": "stdout",
     "output_type": "stream",
     "text": [
      "['peter', 'piper', 'picked', 'a', 'peck', 'of', 'pickled', 'peppers']\n"
     ]
    }
   ],
   "source": [
    "#Write a python program to find below output using loop:-\n",
    "\n",
    "#Input:- 'peter piper picked a peck of pickled peppers.'\n",
    "#Output:- ['peter', 'piper', 'picked', 'a', 'peck', 'of', 'pickled', 'peppers']\n",
    "\n",
    "str1='peter piper picked a peck of pickled peppers.'\n",
    "str_list=''\n",
    "lst_st=[]\n",
    "for ind in str1:\n",
    "    if ind.isspace() or str1[len(str1)-1] == ind:\n",
    "        lst_st.append(str_list)\n",
    "        str_list=''\n",
    "    else:\n",
    "        str_list+=ind\n",
    "\n",
    "print(lst_st)\n"
   ]
  },
  {
   "cell_type": "code",
   "execution_count": 28,
   "metadata": {},
   "outputs": [
    {
     "name": "stdout",
     "output_type": "stream",
     "text": [
      "peppers pickled of peck a picked piper peter\n"
     ]
    }
   ],
   "source": [
    "#Write a python program to find below output using loop:-\n",
    "\n",
    "#Input:- 'peter piper picked a peck of pickled peppers.'\n",
    "#Output:- 'peppers pickled of peck a picked piper peter'\n",
    "\n",
    "str1='peter piper picked a peck of pickled peppers'\n",
    "lst=' '.join(str1.split()[::-1])\n",
    "print(lst)"
   ]
  },
  {
   "cell_type": "code",
   "execution_count": 29,
   "metadata": {},
   "outputs": [
    {
     "name": "stdout",
     "output_type": "stream",
     "text": [
      ".sreppep delkcip fo kcep a dekcip repip retep\n"
     ]
    }
   ],
   "source": [
    "#Write a python program to find below output using loop:-\n",
    "\n",
    "#Input:- 'peter piper picked a peck of pickled peppers.'\n",
    "#Output:- '.sreppep delkcip fo kcep a dekcip repip retep'\n",
    "\n",
    "str1='peter piper picked a peck of pickled peppers.'\n",
    "print(str1[::-1])"
   ]
  },
  {
   "cell_type": "code",
   "execution_count": 30,
   "metadata": {},
   "outputs": [
    {
     "name": "stdout",
     "output_type": "stream",
     "text": [
      " retep repip dekcip a kcep fo delkcip .sreppep\n"
     ]
    }
   ],
   "source": [
    "#Write a python program to find below output using loop:-\n",
    "\n",
    "#Input:- 'peter piper picked a peck of pickled peppers.'\n",
    "#Output:- 'retep repip dekcip a kcep fo delkcip sreppep'\n",
    "str1='peter piper picked a peck of pickled peppers.'\n",
    "lst=(str1[::-1].split()[::-1])\n",
    "str2=''\n",
    "for ind in lst:\n",
    "    str2=str2+' '+ind\n",
    "print(str2)\n"
   ]
  },
  {
   "cell_type": "code",
   "execution_count": 31,
   "metadata": {},
   "outputs": [
    {
     "name": "stdout",
     "output_type": "stream",
     "text": [
      " Peter Piper Picked A Peck Of Pickled Peppers.\n"
     ]
    }
   ],
   "source": [
    "#Write a python program to find below output using loop:-\n",
    "\n",
    "#Input:- 'peter piper picked a peck of pickled peppers.'\n",
    "#Output:- 'Peter Piper Picked A Peck Of Pickled Peppers'\n",
    "\n",
    "str=''\n",
    "str1='peter piper picked a peck of pickled peppers.'\n",
    "lst=(str1.split())\n",
    "for ind in lst:\n",
    "    str=str+' '+ind[0].upper()+ind[1:]\n",
    "print(str)\n"
   ]
  },
  {
   "cell_type": "code",
   "execution_count": 32,
   "metadata": {},
   "outputs": [
    {
     "name": "stdout",
     "output_type": "stream",
     "text": [
      " Peter piper picked a peck of pickled peppers.\n"
     ]
    }
   ],
   "source": [
    "#Write a python program to find below output using loop:-\n",
    "\n",
    "#Input:- 'Peter Piper Picked A Peck Of Pickled Peppers.'\n",
    "#Output:- 'Peter piper picked a peck of pickled peppers'\n",
    "\n",
    "cnt=0\n",
    "str=''\n",
    "str1='Peter Piper Picked A Peck Of Pickled Peppers.'\n",
    "lst=(str1.split())\n",
    "for ind in lst:\n",
    "    if cnt>0:\n",
    "        str=str+' '+ind[0].lower()+ind[1:]\n",
    "    else:\n",
    "        str=str+' '+ind\n",
    "    cnt+=1\n",
    "print(str)\n"
   ]
  },
  {
   "cell_type": "code",
   "execution_count": 36,
   "metadata": {},
   "outputs": [
    {
     "name": "stdout",
     "output_type": "stream",
     "text": [
      "29\n"
     ]
    }
   ],
   "source": [
    "#Write a python program to implement index method using loop. If sub_str is found in my_str then it will print the index\n",
    "# of first occurrence of first character of matching string in my_str:-\n",
    "\n",
    "#Input:- my_str = 'Peter Piper Picked A Peck Of Pickled Peppers.', sub_str = 'Pickl'\n",
    "#Output:- 29\n",
    "\n",
    "inp1='Peter Piper Picked A Peck Of Pickled Peppers.'\n",
    "sub_str='Pickl'\n",
    "new_str=''\n",
    "j=0\n",
    "for i in range(len(inp1)):\n",
    "    if inp1[i]==sub_str[j]:\n",
    "        new_str+=sub_str[j]\n",
    "        j+=1\n",
    "        if new_str==sub_str:\n",
    "            break\n",
    "    else:\n",
    "        new_str=''\n",
    "        j=0\n",
    "        ind = i-(j-1)\n",
    "print(ind)\n",
    "\n"
   ]
  },
  {
   "cell_type": "code",
   "execution_count": 39,
   "metadata": {},
   "outputs": [
    {
     "name": "stdout",
     "output_type": "stream",
     "text": [
      "Peter Piper Picked A Pack Of Pickled Peppers.\n"
     ]
    }
   ],
   "source": [
    "#Write a python program to implement replace method using loop. If sub_str is found in my_str then it will replace the first \n",
    "#occurrence of sub_str with new_str else it will will print sub_str not found:-\n",
    "\n",
    "#Input:- my_str = 'Peter Piper Picked A Peck Of Pickled Peppers.', sub_str = 'Peck', new_str = 'Pack'\n",
    "#Output:- 'Peter Piper Picked A Pack Of Pickled Peppers.'\n",
    "\n",
    "my_str = 'Peter Piper Picked A Peck Of Pickled Peppers.'\n",
    "sub_str = 'Peck' \n",
    "new_str = 'Pack'\n",
    "new=''\n",
    "\n",
    "j=0\n",
    "for i in range(len(my_str)):\n",
    "    if my_str[i]==sub_str[j]:\n",
    "        new+=sub_str[j]\n",
    "        j+=1\n",
    "        if new==sub_str:\n",
    "            break\n",
    "    else:\n",
    "        new=''\n",
    "        j=0\n",
    "        ind=i-j+1\n",
    "print(my_str[:ind]+new_str+my_str[ind+4:])"
   ]
  },
  {
   "cell_type": "code",
   "execution_count": 40,
   "metadata": {},
   "outputs": [
    {
     "name": "stdout",
     "output_type": "stream",
     "text": [
      "21\n",
      "********************Peck*********************\n"
     ]
    }
   ],
   "source": [
    "#Write a python program to find below output (implements rjust and ljust) using loop:-\n",
    "\n",
    "#Input:- 'Peter Piper Picked A Peck Of Pickled Peppers.', sub_str = 'Peck', \n",
    "#Output:- '*********************Peck********************'\n",
    "inp_str = 'Peter Piper Picked A Peck Of Pickled Peppers.'\n",
    "sub_str = 'Peck'\n",
    "new_str = ''\n",
    "j = 0\n",
    "ind = -1\n",
    "for i in range(len(inp_str)):\n",
    "    if inp_str[i] == sub_str[j]:\n",
    "        new_str += sub_str[j]\n",
    "        j += 1\n",
    "        if new_str == sub_str:\n",
    "            ind = i - (len(sub_str) - 1)\n",
    "            break\n",
    "    else:\n",
    "        new_str = ''\n",
    "        j = 0\n",
    "print(ind)\n",
    "if ind == -1:\n",
    "    print('Sub_str is not found')\n",
    "else:\n",
    "    print('*'*(ind-1) + sub_str + '*'*(len(inp_str)-(ind+(len(sub_str)-1))))\n",
    "\n",
    "\n",
    "\n"
   ]
  },
  {
   "cell_type": "code",
   "execution_count": 43,
   "metadata": {},
   "outputs": [
    {
     "name": "stdout",
     "output_type": "stream",
     "text": [
      "['This', 'is', 'Python class']\n"
     ]
    }
   ],
   "source": [
    "#Write a python program to find below output using loop:-\n",
    "\n",
    "#Input:- 'This is Python class', sep = 'is', \n",
    "#Output:- ['This', 'is', 'Python class']\n",
    "\n",
    "string='This is Python class'\n",
    "sep = 'is'\n",
    "\n",
    "new=[]\n",
    "str_new=''\n",
    "for word in string.split():\n",
    "    if word==sep:\n",
    "        new.append(str_new)\n",
    "        str_new=''\n",
    "        new.append(word)\n",
    "    else:\n",
    "        str_new=str_new+' '+word\n",
    "new.append(str_new)\n",
    "for i in range(len(new)):\n",
    "    new[i]=new[i].lstrip()\n",
    "print(new)\n"
   ]
  },
  {
   "cell_type": "code",
   "execution_count": 52,
   "metadata": {},
   "outputs": [
    {
     "name": "stdout",
     "output_type": "stream",
     "text": [
      "R{vjqp\n",
      "output:  Rwvfql\n",
      "output :  R{vfml\n"
     ]
    }
   ],
   "source": [
    "#Write a python program which takes one input string from user and encode it in below format:-\n",
    "    # 1. #Input:- 'Python'\n",
    "       #Output:- 'R{vjqp'\n",
    "        \n",
    "inp = \"Python\"\n",
    "out=''\n",
    "for i in range(len(inp)):\n",
    "    out+=chr(ord(inp[i]) +2)\n",
    "print(out)\n",
    "            \n",
    "        \n",
    "# 2. #Input:- 'Python'\n",
    "#Output:- 'Rwvfql'\n",
    "        \n",
    "Inp='Python'\n",
    "out_str=''\n",
    "for i in range(len(inp)):\n",
    "    if i%2==0:\n",
    "        out_str+=chr((ord(inp[i]))+2)\n",
    "    else:\n",
    "        out_str+=chr((ord(inp[i]))-2)\n",
    "print(\"output: \", out_str)      \n",
    "\n",
    "\n",
    "\n",
    "# 3. #Input:- 'Python'\n",
    "#Output:- 'R{vkfml'\n",
    "\n",
    "Inp='Python'\n",
    "out_str=''\n",
    "for i in range(len(inp)):\n",
    "    if i<len(inp)//2:\n",
    "        out_str+=chr(ord(inp[i])+2)\n",
    "    else:\n",
    "        out_str+=chr(ord(inp[i])-2)\n",
    "print(\"output : \",out_str)\n",
    "\n",
    "# inp = \"Python\"\n",
    "# out=''\n",
    "# for i in range(len(inp)):\n",
    "#     if i <= len(inp)//2:\n",
    "#         out+=chr(ord(inp[i]) +2)\n",
    "#     else:\n",
    "#         out+=chr(ord(inp[i]) -2)\n",
    "# print(out)\n"
   ]
  },
  {
   "cell_type": "code",
   "execution_count": null,
   "metadata": {},
   "outputs": [],
   "source": []
  },
  {
   "cell_type": "code",
   "execution_count": null,
   "metadata": {},
   "outputs": [],
   "source": []
  }
 ],
 "metadata": {
  "kernelspec": {
   "display_name": "Python 3",
   "language": "python",
   "name": "python3"
  },
  "language_info": {
   "codemirror_mode": {
    "name": "ipython",
    "version": 3
   },
   "file_extension": ".py",
   "mimetype": "text/x-python",
   "name": "python",
   "nbconvert_exporter": "python",
   "pygments_lexer": "ipython3",
   "version": "3.8.3"
  }
 },
 "nbformat": 4,
 "nbformat_minor": 4
}
