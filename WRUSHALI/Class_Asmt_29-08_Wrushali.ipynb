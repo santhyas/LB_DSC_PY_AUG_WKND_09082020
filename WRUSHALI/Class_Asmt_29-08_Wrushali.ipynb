{
 "cells": [
  {
   "cell_type": "code",
   "execution_count": 3,
   "metadata": {},
   "outputs": [
    {
     "name": "stdout",
     "output_type": "stream",
     "text": [
      "[[0, 0, 0, 0], [0, 1, 2, 3], [0, 2, 4, 6], [0, 3, 6, 9]]\n"
     ]
    }
   ],
   "source": [
    "#Question 1:\n",
    "#Print following pattern using while loop\n",
    "#Output:    [[0, 0, 0, 0], [0, 1, 2, 3], [0, 2, 4, 6], [0, 3, 6, 9]]\n",
    "\n",
    "i=0\n",
    "j=0\n",
    "out_lst = []\n",
    "while i<4:\n",
    "    in_lst = []\n",
    "    while j<4:\n",
    "        in_lst.append(i*j)\n",
    "        j+=1\n",
    "    out_lst.append(in_lst)\n",
    "    i+=1\n",
    "    j=0\n",
    "print(out_lst)"
   ]
  },
  {
   "cell_type": "code",
   "execution_count": 13,
   "metadata": {},
   "outputs": [
    {
     "name": "stdout",
     "output_type": "stream",
     "text": [
      "Enter number: 5\n",
      "*\n",
      "**\n",
      "***\n",
      "****\n",
      "*****\n"
     ]
    }
   ],
   "source": [
    "#Question 2:\n",
    "#Print following pattern\n",
    "#Output:\n",
    "# Enter number of rows: 5\n",
    "# * \n",
    "# * * \n",
    "# * * * \n",
    "# * * * * \n",
    "# * * * * * \n",
    "\n",
    "\n",
    "num1 = int(input(\"Enter number: \"))\n",
    "row = 0\n",
    "while row<num1:\n",
    "    star=row+1\n",
    "    while star>0:\n",
    "        print('*', end=\"\")\n",
    "        star=star-1\n",
    "    row=row+1\n",
    "    print()\n"
   ]
  },
  {
   "cell_type": "code",
   "execution_count": 12,
   "metadata": {},
   "outputs": [
    {
     "name": "stdout",
     "output_type": "stream",
     "text": [
      "Enter the number:5\n",
      "    * \n",
      "   * * \n",
      "  * * * \n",
      " * * * * \n",
      "* * * * * \n"
     ]
    }
   ],
   "source": [
    "#Question 3:\n",
    "#Print following pattern\n",
    "#Output:\n",
    "# Enter number of rows: 5\n",
    "#       * \n",
    "#      * * \n",
    "#     * * * \n",
    "#    * * * * \n",
    "#   * * * * * \n",
    "#  * * * * * *\n",
    "num=int(input(\"Enter the number:\"))\n",
    "row=0\n",
    "while row<num:\n",
    "    space=num-row-1\n",
    "    while space>0:\n",
    "        print(end=(\" \"))\n",
    "        space=space-1\n",
    "    star=row+1\n",
    "    while star>0:\n",
    "        print(\"*\", end=(\" \"))\n",
    "        star=star-1\n",
    "    row=row+1\n",
    "    print()\n",
    "\n"
   ]
  },
  {
   "cell_type": "code",
   "execution_count": 14,
   "metadata": {},
   "outputs": [
    {
     "name": "stdout",
     "output_type": "stream",
     "text": [
      "*\n",
      "**\n",
      "***\n",
      "****\n",
      "*****\n"
     ]
    }
   ],
   "source": [
    "s= \"*****\"\n",
    "for i in range(len(s)):\n",
    "    print(s[i]*(i+1))"
   ]
  },
  {
   "cell_type": "code",
   "execution_count": 15,
   "metadata": {},
   "outputs": [
    {
     "name": "stdout",
     "output_type": "stream",
     "text": [
      "enter no of rows5\n",
      "*\n",
      "**\n",
      "***\n",
      "****\n",
      "*****\n"
     ]
    }
   ],
   "source": [
    "x=int(input('enter no of rows'))\n",
    "i=0\n",
    "for n in range(x):\n",
    "    i+=1\n",
    "    print('*'*i,end='\\n')"
   ]
  },
  {
   "cell_type": "code",
   "execution_count": null,
   "metadata": {},
   "outputs": [],
   "source": []
  },
  {
   "cell_type": "code",
   "execution_count": null,
   "metadata": {},
   "outputs": [],
   "source": []
  },
  {
   "cell_type": "code",
   "execution_count": null,
   "metadata": {},
   "outputs": [],
   "source": []
  },
  {
   "cell_type": "code",
   "execution_count": null,
   "metadata": {},
   "outputs": [],
   "source": []
  },
  {
   "cell_type": "code",
   "execution_count": null,
   "metadata": {},
   "outputs": [],
   "source": []
  }
 ],
 "metadata": {
  "kernelspec": {
   "display_name": "Python 3",
   "language": "python",
   "name": "python3"
  },
  "language_info": {
   "codemirror_mode": {
    "name": "ipython",
    "version": 3
   },
   "file_extension": ".py",
   "mimetype": "text/x-python",
   "name": "python",
   "nbconvert_exporter": "python",
   "pygments_lexer": "ipython3",
   "version": "3.8.3"
  }
 },
 "nbformat": 4,
 "nbformat_minor": 4
}
