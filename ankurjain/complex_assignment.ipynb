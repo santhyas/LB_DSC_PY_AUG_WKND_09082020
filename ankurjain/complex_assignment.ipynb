{
 "cells": [
  {
   "cell_type": "code",
   "execution_count": 49,
   "metadata": {},
   "outputs": [
    {
     "name": "stdout",
     "output_type": "stream",
     "text": [
      "<class 'complex'>\n",
      "2350033337264\n"
     ]
    }
   ],
   "source": [
    "a=10+20j         #Declare a complex number and store it in a variable. \n",
    "print(type(a))   #Checking the type.\n",
    "print(id(a))     #Print the id of the same."
   ]
  },
  {
   "cell_type": "code",
   "execution_count": 27,
   "metadata": {},
   "outputs": [
    {
     "name": "stdout",
     "output_type": "stream",
     "text": [
      "(60+70j)\n",
      "(-20-10j)\n",
      "(-400+2000j)\n",
      "(0.625+0.125j)\n",
      "(1.4088331063825827e+45+7.728824902347485e+44j)\n"
     ]
    }
   ],
   "source": [
    "b=20+30j         #Declare a complex number and store it in a variable. \n",
    "c=40+40j         #Declare a complex number and store it in a variable. \n",
    "print(b+c)       #sum of both numbers\n",
    "print(b-c)       #Difference of both numbers\n",
    "print(b*c)       #Multiplication of both numbers\n",
    "print(b/c)       #Division of one number with another\n",
    "print(b**c)      #first number to the power second number\n"
   ]
  },
  {
   "cell_type": "code",
   "execution_count": 38,
   "metadata": {},
   "outputs": [
    {
     "name": "stdout",
     "output_type": "stream",
     "text": [
      "True\n",
      "False\n"
     ]
    }
   ],
   "source": [
    "d=10+30j         #Declare a complex number and store it in a variable\n",
    "e=10+30j         #Declare a complex number and store it in a variable\n",
    "print(d==e)      #Equating using == operator\n",
    "print(d!=e)      #Equating using != operator"
   ]
  },
  {
   "cell_type": "code",
   "execution_count": 46,
   "metadata": {},
   "outputs": [
    {
     "name": "stdout",
     "output_type": "stream",
     "text": [
      "(20+30j)\n",
      "0j\n",
      "0j\n",
      "0j\n",
      "(10+20j)\n",
      "(20+30j)\n",
      "(20+30j)\n",
      "0j\n",
      "False\n",
      "True\n"
     ]
    }
   ],
   "source": [
    "print(10+20j and 20+30j)    #True&True=> checks false but both true hence will return last truevalue\n",
    "print(0+0j and 20+30j)      #False&True=> Returns first false value\n",
    "print(20+30j and 0+0j)      #True&False=> Returns second false value\n",
    "print(0+0j and 0+0j)        #False&False=> Returns first false value\n",
    "\n",
    "print(10+20j or 20+30j)     #True&True=> Returns first true value\n",
    "print(0+0j or 20+30j)       #False&True=> Returns second true value\n",
    "print(20+30j or 0+0j)       #True&False=> Returns first true value\n",
    "print(0+0j or 0+0j)         #False&False=> checks true but both false hence will return last false value\n",
    "\n",
    "print(not 10+20j)           # Not True => False\n",
    "print(not 0+0j)             # Not false => True"
   ]
  },
  {
   "cell_type": "code",
   "execution_count": 47,
   "metadata": {},
   "outputs": [
    {
     "name": "stdout",
     "output_type": "stream",
     "text": [
      "False\n",
      "True\n"
     ]
    }
   ],
   "source": [
    "a = 10+20j\n",
    "b = 10+20j\n",
    "print(a is b)       #False  since object are diffrent although content is same \n",
    "print(a is not b)   #True   Since both are different objects\n"
   ]
  },
  {
   "cell_type": "code",
   "execution_count": 48,
   "metadata": {},
   "outputs": [
    {
     "name": "stdout",
     "output_type": "stream",
     "text": [
      "True\n",
      "True\n",
      "True\n",
      "True\n",
      "True\n",
      "True\n"
     ]
    }
   ],
   "source": [
    "print('2.7' in 'Python2.7.8')                      #True\n",
    "print(10+20j in [10,10.20,10+20j,'Python'])        #True\n",
    "print(10+20j in (10,10.20,10+20j,'Python'))        #True\n",
    "print(30+40j in {1,20.30,30+40j})                  #True\n",
    "print(30+40j in {1:100, 2.3:200, 30+40j:300})      #True\n",
    "print(10 in range(20))                             #True"
   ]
  },
  {
   "cell_type": "code",
   "execution_count": null,
   "metadata": {},
   "outputs": [],
   "source": []
  }
 ],
 "metadata": {
  "kernelspec": {
   "display_name": "Python 3",
   "language": "python",
   "name": "python3"
  },
  "language_info": {
   "codemirror_mode": {
    "name": "ipython",
    "version": 3
   },
   "file_extension": ".py",
   "mimetype": "text/x-python",
   "name": "python",
   "nbconvert_exporter": "python",
   "pygments_lexer": "ipython3",
   "version": "3.8.3"
  }
 },
 "nbformat": 4,
 "nbformat_minor": 4
}
