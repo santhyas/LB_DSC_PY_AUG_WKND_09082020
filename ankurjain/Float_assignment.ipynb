{
 "cells": [
  {
   "cell_type": "code",
   "execution_count": 7,
   "metadata": {},
   "outputs": [
    {
     "name": "stdout",
     "output_type": "stream",
     "text": [
      "<class 'float'>\n",
      "1316842644144\n"
     ]
    }
   ],
   "source": [
    "a=10.0           #Declare a float value and store it in a variable. \n",
    "print(type(a))   #Checking the type.\n",
    "print(id(a))     #Print the id of the same."
   ]
  },
  {
   "cell_type": "code",
   "execution_count": 3,
   "metadata": {},
   "outputs": [
    {
     "name": "stdout",
     "output_type": "stream",
     "text": [
      "24.0\n",
      "16.0\n",
      "80.0\n",
      "5.0\n",
      "0.0\n",
      "5.0\n",
      "160000.0\n"
     ]
    }
   ],
   "source": [
    "b=20.0           #Declare a float value and store it in a variable. \n",
    "c=4.0            #Declare a float value and store it in a variable. \n",
    "print(b+c)       #sum of both numbers\n",
    "print(b-c)       #Difference of both numbers\n",
    "print(b*c)       #Multiplication of both numbers\n",
    "print(b/c)       #Division of one number with another\n",
    "print(b%c)       #Remainder after dividing first number with second number\n",
    "print(b//c)      #quotient after dividing first number with second number\n",
    "print(b**c)      #first number to the power second number"
   ]
  },
  {
   "cell_type": "code",
   "execution_count": 6,
   "metadata": {},
   "outputs": [
    {
     "name": "stdout",
     "output_type": "stream",
     "text": [
      "True\n",
      "False\n",
      "True\n",
      "False\n"
     ]
    }
   ],
   "source": [
    "d=10.4\n",
    "e=3.2    \n",
    "print(d>e)      #Greater than    \n",
    "print(d<e)      #Smaller than\n",
    "print(d>=e)     #Greater than or equal to\n",
    "print(d<=e)     #Less than or equal to \n"
   ]
  },
  {
   "cell_type": "code",
   "execution_count": 8,
   "metadata": {},
   "outputs": [
    {
     "name": "stdout",
     "output_type": "stream",
     "text": [
      "False\n",
      "True\n"
     ]
    }
   ],
   "source": [
    "f=20.4\n",
    "g=40.3\n",
    "print(f==g)   #Eqaul to\n",
    "print(f!=g)   #Not equal to"
   ]
  },
  {
   "cell_type": "code",
   "execution_count": 19,
   "metadata": {},
   "outputs": [
    {
     "name": "stdout",
     "output_type": "stream",
     "text": [
      "20.3\n",
      "0.0\n",
      "0.0\n",
      "0.0\n",
      "\n",
      "10.2\n",
      "20.3\n",
      "20.3\n",
      "0.0\n",
      "\n",
      "False\n",
      "True\n"
     ]
    }
   ],
   "source": [
    "print(10.20 and 20.30)       #both are true and second value taken \n",
    "print(0.0 and 20.30)         #First is false so first value taken\n",
    "print(20.30 and 0.0)         #Goes to till second and second value is false so second is taken\n",
    "print(0.0 and 0.0)           #First is false so first value is taken\n",
    "print()\n",
    "print(10.20 or 20.30)        #First is True so first value is taken\n",
    "print(0.0 or 20.30)          #Goes to till second and second is true second value is taken\n",
    "print(20.30 or 0.0)          #First is True so first value is taken\n",
    "print(0.0 or 0.0)            #Goes to till second and secod is also false and second value is taken\n",
    "print()\n",
    "print(not 10.20)             #-Not of true is false\n",
    "print(not 0.0)               #Not of false is True"
   ]
  },
  {
   "cell_type": "code",
   "execution_count": 17,
   "metadata": {},
   "outputs": [
    {
     "name": "stdout",
     "output_type": "stream",
     "text": [
      "1316842645072\n",
      "1316842645424\n",
      "False\n",
      "True\n",
      "True\n"
     ]
    }
   ],
   "source": [
    "h = 10.2\n",
    "i = 10.2\n",
    "print(id(a))\n",
    "print(id(b))\n",
    "print(a is b)     # value same but id differnt     \n",
    "print(a is not b) # value same but id different    \n",
    "\n",
    "h=i\n",
    "print(h is i)"
   ]
  },
  {
   "cell_type": "code",
   "execution_count": 18,
   "metadata": {},
   "outputs": [
    {
     "name": "stdout",
     "output_type": "stream",
     "text": [
      "True\n",
      "True\n",
      "True\n",
      "True\n",
      "True\n",
      "True\n"
     ]
    }
   ],
   "source": [
    "print('2.7' in 'Python2.7.8')              #True\n",
    "print(10.20 in [10,10.20,10+20j,'Python']) #True\n",
    "print(10.20 in (10,10.20,10+20j,'Python')) # True\n",
    "print(20.30 in {1,20.30,30+40j})           # True\n",
    "print(2.3 in {1:100, 2.3:200, 30+40j:300}) # True\n",
    "print(10 in range(20))                     # True"
   ]
  },
  {
   "cell_type": "code",
   "execution_count": 20,
   "metadata": {},
   "outputs": [
    {
     "name": "stdout",
     "output_type": "stream",
     "text": [
      "True\n",
      "True\n",
      "True\n",
      "True\n",
      "True\n",
      "True\n"
     ]
    }
   ],
   "source": [
    "print('2' in 'Python2.7.8')\n",
    "print(10 in [10,10.20,10+20j,'Python'])\n",
    "print(10 in (10,10.20,10+20j,'Python'))\n",
    "print(2 in {1,2,3})\n",
    "print(3 in {1:100, 2:200, 3:300})\n",
    "print(10 in range(20))"
   ]
  },
  {
   "cell_type": "code",
   "execution_count": null,
   "metadata": {},
   "outputs": [],
   "source": []
  }
 ],
 "metadata": {
  "kernelspec": {
   "display_name": "Python 3",
   "language": "python",
   "name": "python3"
  },
  "language_info": {
   "codemirror_mode": {
    "name": "ipython",
    "version": 3
   },
   "file_extension": ".py",
   "mimetype": "text/x-python",
   "name": "python",
   "nbconvert_exporter": "python",
   "pygments_lexer": "ipython3",
   "version": "3.8.3"
  }
 },
 "nbformat": 4,
 "nbformat_minor": 4
}
