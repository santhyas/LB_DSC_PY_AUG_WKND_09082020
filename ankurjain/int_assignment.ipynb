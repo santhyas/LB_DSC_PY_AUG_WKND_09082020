{
 "cells": [
  {
   "cell_type": "code",
   "execution_count": 1,
   "metadata": {},
   "outputs": [
    {
     "name": "stdout",
     "output_type": "stream",
     "text": [
      "<class 'int'>\n",
      "140721126717504\n"
     ]
    }
   ],
   "source": [
    "a=10             #Declare a int value and store it in a variable. \n",
    "print(type(a))   #Checking the type.\n",
    "print(id(a))     #Print the id of the same."
   ]
  },
  {
   "cell_type": "code",
   "execution_count": 47,
   "metadata": {},
   "outputs": [
    {
     "name": "stdout",
     "output_type": "stream",
     "text": [
      "140721126434640\n",
      "140721126434640\n",
      "140721126434672\n",
      "140721126434672\n"
     ]
    }
   ],
   "source": [
    "c=True\n",
    "d=True\n",
    "print(id(c))\n",
    "print(id(d))\n",
    "e=False\n",
    "f=False\n",
    "print(id(e))\n",
    "print(id(f))"
   ]
  },
  {
   "cell_type": "code",
   "execution_count": 11,
   "metadata": {},
   "outputs": [
    {
     "name": "stdout",
     "output_type": "stream",
     "text": [
      "24\n",
      "16\n",
      "80\n",
      "5.0\n",
      "0\n",
      "5\n",
      "160000\n"
     ]
    }
   ],
   "source": [
    "g=20             #Declare a integer value and store it in a variable. \n",
    "h=4              #Declare a integer value and store it in a variable. \n",
    "print(g+h)       #sum of both numbers\n",
    "print(g-h)       #Difference of both numbers\n",
    "print(g*h)       #Multiplication of both numbers\n",
    "print(g/h)       #Division of one number with another\n",
    "print(g%h)       #Remainder after dividing first number with second number\n",
    "print(g//h)      #quotient after dividing first number with second number\n",
    "print(g**h)      #first number to the power second number"
   ]
  },
  {
   "cell_type": "code",
   "execution_count": 12,
   "metadata": {},
   "outputs": [
    {
     "name": "stdout",
     "output_type": "stream",
     "text": [
      "True\n",
      "False\n",
      "True\n",
      "False\n"
     ]
    }
   ],
   "source": [
    "i=10\n",
    "j=3  \n",
    "print(i>j)      #Greater than    \n",
    "print(i<j)      #Smaller than\n",
    "print(i>=j)     #Greater than or equal to\n",
    "print(i<=j)     #Less than or equal to "
   ]
  },
  {
   "cell_type": "code",
   "execution_count": 14,
   "metadata": {},
   "outputs": [
    {
     "name": "stdout",
     "output_type": "stream",
     "text": [
      "False\n",
      "True\n"
     ]
    }
   ],
   "source": [
    "k=20\n",
    "l=40\n",
    "print(k==l)   #Eqaul to\n",
    "print(k!=l)   #Not equal to"
   ]
  },
  {
   "cell_type": "code",
   "execution_count": 16,
   "metadata": {},
   "outputs": [
    {
     "name": "stdout",
     "output_type": "stream",
     "text": [
      "20\n",
      "0\n",
      "0\n",
      "0\n",
      "\n",
      "10\n",
      "20\n",
      "20\n",
      "0\n",
      "\n",
      "False\n",
      "True\n"
     ]
    }
   ],
   "source": [
    "print(10 and 20)       \n",
    "print(0 and 20)        \n",
    "print(20 and 0)        \n",
    "print(0 and 0)         \n",
    "print()\n",
    "print(10 or 20)        \n",
    "print(0 or 20)         \n",
    "print(20 or 0)         \n",
    "print(0 or 0)  \n",
    "print()\n",
    "print(not 10)          \n",
    "print(not 0)           "
   ]
  },
  {
   "cell_type": "code",
   "execution_count": 25,
   "metadata": {},
   "outputs": [
    {
     "name": "stdout",
     "output_type": "stream",
     "text": [
      "0b1010\n",
      "0b10100\n",
      "0\n",
      "30\n",
      "30\n",
      "-11\n",
      "40\n",
      "2\n"
     ]
    }
   ],
   "source": [
    "m=10\n",
    "n=20 \n",
    "print(bin(m))          #01010\n",
    "print(bin(n))          #10100\n",
    "print(10&20)           #00000\n",
    "print(10|20)           #11110\n",
    "print(10^20)           #11110\n",
    "print(~10)             #-(n+1)\n",
    "print(10<<2)           #00000000000000000000000000001010=>101000\n",
    "print(10>>2)           #00000000000000000000000000001010=>000010\n",
    "\n",
    "\n",
    "\n",
    "\n",
    "#Bitwise and(&) -----------------------------------------> 10, 20   -------> Output is 0\n",
    "    #Bitwise or(|)  -----------------------------------------> 10, 20   -------> Output is 30\n",
    "    #Bitwise(^)     -----------------------------------------> 10, 20   -------> Output is 30\n",
    "    #Bitwise negation(~) ------------------------------------> 10       -------> Output is -11\n",
    "    #Bitwise left shift  ------------------------------------> 10,2     -------> Output is 40\n",
    "    #Bitwise right shift ------------------------------------> 10,2     -------> Output is 2"
   ]
  },
  {
   "cell_type": "code",
   "execution_count": 26,
   "metadata": {},
   "outputs": [
    {
     "name": "stdout",
     "output_type": "stream",
     "text": [
      "True\n",
      "False\n",
      "False\n",
      "True\n"
     ]
    }
   ],
   "source": [
    "o = 10\n",
    "p = 10\n",
    "print(o is p)          #Id same=> True\n",
    "print(o is not p)      #Id same=> false\n",
    "\n",
    "q = 1000\n",
    "r = 1000\n",
    "print(q is r)          #Id different=>False\n",
    "print(q is not r)      #Id differen=>True"
   ]
  },
  {
   "cell_type": "code",
   "execution_count": 37,
   "metadata": {},
   "outputs": [
    {
     "name": "stdout",
     "output_type": "stream",
     "text": [
      "20\n",
      "16\n"
     ]
    }
   ],
   "source": [
    "print(10+(10*32)//2**5&20+(~(-10))<<2) #print(10+(320)//2**5&20+(9)<<2)=>print(10+320//32&20+36)=>print(20&56)"
   ]
  },
  {
   "cell_type": "code",
   "execution_count": 44,
   "metadata": {},
   "outputs": [
    {
     "name": "stdout",
     "output_type": "stream",
     "text": [
      "10\n",
      "2541\n",
      "215055\n",
      "0b10011010010100\n",
      "0x2694\n",
      "0o23224\n"
     ]
    }
   ],
   "source": [
    "s=0b1010\n",
    "t=0o4755\n",
    "u=0x3480f\n",
    "print(s)\n",
    "print(t)\n",
    "print(u)\n",
    "v=9876\n",
    "print(bin(v))\n",
    "print(hex(v))\n",
    "print(oct(v))\n"
   ]
  },
  {
   "cell_type": "code",
   "execution_count": 45,
   "metadata": {},
   "outputs": [
    {
     "name": "stdout",
     "output_type": "stream",
     "text": [
      "80\n",
      "3870\n",
      "64222\n",
      "0b1010000\n",
      "0o7436\n",
      "0xfade\n",
      "0b1010000\n",
      "0b1111101011011110\n",
      "0o175336\n",
      "0o7436\n",
      "0x50\n",
      "0xfade\n"
     ]
    }
   ],
   "source": [
    "a = 0b1010000\n",
    "print(a)\n",
    "\n",
    "b = 0o7436\n",
    "print(b)\n",
    "\n",
    "c = 0xfade\n",
    "print(c)\n",
    "\n",
    "print(bin(80))\n",
    "\n",
    "print(oct(3870))\n",
    "\n",
    "print(hex(64222))\n",
    "\n",
    "print(bin(0b1010000))\n",
    "\n",
    "print(bin(0xfade))\n",
    "\n",
    "print(oct(0xfade))\n",
    "\n",
    "print(oct(0o7436))\n",
    "\n",
    "print(hex(0b1010000))\n",
    "\n",
    "print(hex(0xfade))"
   ]
  },
  {
   "cell_type": "code",
   "execution_count": null,
   "metadata": {},
   "outputs": [],
   "source": []
  }
 ],
 "metadata": {
  "kernelspec": {
   "display_name": "Python 3",
   "language": "python",
   "name": "python3"
  },
  "language_info": {
   "codemirror_mode": {
    "name": "ipython",
    "version": 3
   },
   "file_extension": ".py",
   "mimetype": "text/x-python",
   "name": "python",
   "nbconvert_exporter": "python",
   "pygments_lexer": "ipython3",
   "version": "3.8.3"
  }
 },
 "nbformat": 4,
 "nbformat_minor": 4
}
