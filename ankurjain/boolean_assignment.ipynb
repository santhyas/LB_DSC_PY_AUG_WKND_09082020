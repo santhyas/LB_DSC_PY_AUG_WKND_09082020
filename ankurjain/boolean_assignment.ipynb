{
 "cells": [
  {
   "cell_type": "code",
   "execution_count": 1,
   "metadata": {},
   "outputs": [
    {
     "name": "stdout",
     "output_type": "stream",
     "text": [
      "<class 'bool'>\n",
      "140721126434640\n"
     ]
    }
   ],
   "source": [
    "a=True            #Declare a int value and store it in a variable. \n",
    "print(type(a))   #Checking the type.\n",
    "print(id(a))     #Print the id of the same."
   ]
  },
  {
   "cell_type": "code",
   "execution_count": 2,
   "metadata": {},
   "outputs": [
    {
     "name": "stdout",
     "output_type": "stream",
     "text": [
      "140721126717728\n",
      "140721126717728\n",
      "2346627879120\n",
      "2346627879760\n"
     ]
    }
   ],
   "source": [
    "c=17\n",
    "d=17\n",
    "print(id(c))\n",
    "print(id(d))\n",
    "e=259\n",
    "f=259\n",
    "print(id(e))\n",
    "print(id(f))"
   ]
  },
  {
   "cell_type": "code",
   "execution_count": 4,
   "metadata": {},
   "outputs": [
    {
     "name": "stdout",
     "output_type": "stream",
     "text": [
      "1\n",
      "-1\n",
      "0\n",
      "0.0\n",
      "0\n",
      "0\n",
      "0\n"
     ]
    }
   ],
   "source": [
    "g=False             #Declare a boolean value and store it in a variable. \n",
    "h=True              #Declare a boolean value and store it in a variable. \n",
    "print(g+h)       #sum of both numbers\n",
    "print(g-h)       #Difference of both numbers\n",
    "print(g*h)       #Multiplication of both numbers\n",
    "print(g/h)       #Division of one number with another\n",
    "print(g%h)       #Remainder after dividing first number with second number\n",
    "print(g//h)      #quotient after dividing first number with second number\n",
    "print(g**h)      #first number to the power second number"
   ]
  },
  {
   "cell_type": "code",
   "execution_count": 5,
   "metadata": {},
   "outputs": [
    {
     "name": "stdout",
     "output_type": "stream",
     "text": [
      "True\n",
      "False\n",
      "True\n",
      "False\n"
     ]
    }
   ],
   "source": [
    "i=True\n",
    "j=False \n",
    "print(i>j)      #Greater than    \n",
    "print(i<j)      #Smaller than\n",
    "print(i>=j)     #Greater than or equal to\n",
    "print(i<=j)     #Less than or equal to "
   ]
  },
  {
   "cell_type": "code",
   "execution_count": 6,
   "metadata": {},
   "outputs": [
    {
     "name": "stdout",
     "output_type": "stream",
     "text": [
      "True\n",
      "False\n"
     ]
    }
   ],
   "source": [
    "k=True\n",
    "l=True\n",
    "print(k==l)   #Eqaul to\n",
    "print(k!=l)   #Not equal to"
   ]
  },
  {
   "cell_type": "code",
   "execution_count": 7,
   "metadata": {},
   "outputs": [
    {
     "name": "stdout",
     "output_type": "stream",
     "text": [
      "True\n",
      "False\n",
      "False\n",
      "False\n",
      "\n",
      "True\n",
      "True\n",
      "True\n",
      "False\n",
      "\n",
      "False\n",
      "True\n"
     ]
    }
   ],
   "source": [
    "print(True and True)        \n",
    "print(False and True)        \n",
    "print(True and False)        \n",
    "print(False and False)       \n",
    "print()\n",
    "print(True or True)          \n",
    "print(False or True)         \n",
    "print(True or False)         \n",
    "print(False or False)        \n",
    "print()\n",
    "print(not True)             \n",
    "print(not False)             "
   ]
  },
  {
   "cell_type": "code",
   "execution_count": 13,
   "metadata": {},
   "outputs": [
    {
     "name": "stdout",
     "output_type": "stream",
     "text": [
      "True\n",
      "True\n",
      "True\n",
      "-2\n",
      "4\n",
      "0\n"
     ]
    }
   ],
   "source": [
    "print(True&True)            #1&1\n",
    "print(True|False)           #1|0\n",
    "print(True^False)           #1^0\n",
    "print(~True)                #-(n+1)\n",
    "print(True<<2)              #00000000000000000000000000000001=>100\n",
    "print(True>>2)              #00000000000000000000000000000001=>000"
   ]
  },
  {
   "cell_type": "code",
   "execution_count": 14,
   "metadata": {},
   "outputs": [
    {
     "name": "stdout",
     "output_type": "stream",
     "text": [
      "True\n",
      "False\n",
      "True\n",
      "False\n"
     ]
    }
   ],
   "source": [
    "a = True\n",
    "b = True\n",
    "print(a is b)          #True or False?   \n",
    "print(a is not b)      #True or False?\n",
    "\n",
    "a = False\n",
    "b = False\n",
    "print(a is b)          #True or False?\n",
    "print(a is not b)      #True or False?"
   ]
  },
  {
   "cell_type": "code",
   "execution_count": 15,
   "metadata": {},
   "outputs": [
    {
     "name": "stdout",
     "output_type": "stream",
     "text": [
      "True\n",
      "True\n",
      "True\n",
      "True\n",
      "True\n"
     ]
    }
   ],
   "source": [
    "print(True in [10,10.20,10+20j,'Python', True])\n",
    "print(False in (10,10.20,10+20j,'Python', False))\n",
    "print(True in {1,2,3, True})\n",
    "print(True in {True:100, False:200, True:300})\n",
    "print(False in {True:100, False:200, True:300})"
   ]
  },
  {
   "cell_type": "code",
   "execution_count": null,
   "metadata": {},
   "outputs": [],
   "source": []
  }
 ],
 "metadata": {
  "kernelspec": {
   "display_name": "Python 3",
   "language": "python",
   "name": "python3"
  },
  "language_info": {
   "codemirror_mode": {
    "name": "ipython",
    "version": 3
   },
   "file_extension": ".py",
   "mimetype": "text/x-python",
   "name": "python",
   "nbconvert_exporter": "python",
   "pygments_lexer": "ipython3",
   "version": "3.8.3"
  }
 },
 "nbformat": 4,
 "nbformat_minor": 4
}
