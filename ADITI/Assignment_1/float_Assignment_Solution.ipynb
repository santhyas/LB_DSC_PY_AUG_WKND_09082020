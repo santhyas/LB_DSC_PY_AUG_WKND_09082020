{
 "cells": [
  {
   "cell_type": "code",
   "execution_count": 1,
   "metadata": {},
   "outputs": [
    {
     "name": "stdout",
     "output_type": "stream",
     "text": [
      "Type of a1 is:  <class 'float'>\n",
      "ID of a1 is:  2102411147632\n"
     ]
    }
   ],
   "source": [
    "#Declare a float value and store it in a variable. \n",
    "a1 = 2.5\n",
    "\n",
    "#Check the type and print the id of the same.\n",
    "print(\"Type of a1 is: \",type(a1))\n",
    "print(\"ID of a1 is: \",id(a1))"
   ]
  },
  {
   "cell_type": "code",
   "execution_count": 3,
   "metadata": {},
   "outputs": [
    {
     "name": "stdout",
     "output_type": "stream",
     "text": [
      "Sum of a2 and a3 is :  12.75\n",
      "Difference of a2 and a3 is :  8.25\n",
      "Product of a2 and a3 is :  23.625\n",
      "Dividing a2 with a3 :  4.666666666666667\n",
      "Remainder after dividing a2 with a3 is :  1.5\n",
      "Quotient after dividing a2 with a3 is :  4.0\n",
      "a2 to the power a3 is :  4.0\n"
     ]
    }
   ],
   "source": [
    "#Arithmatic Operations on float\n",
    "#Take two different float values.\n",
    "#Store them in two different variables.\n",
    "a2 = 10.5\n",
    "a3 = 2.25\n",
    "\n",
    "#Do below operations on them:-\n",
    "#Find sum of both numbers\n",
    "print(\"Sum of a2 and a3 is : \",a2+a3)\n",
    "\n",
    "#Find differce between them\n",
    "print(\"Difference of a2 and a3 is : \",a2-a3)\n",
    "\n",
    "#Find the product of both numbers.\n",
    "print(\"Product of a2 and a3 is : \",a2*a3)\n",
    "\n",
    "#Find value after dividing first num with second number\n",
    "print(\"Value after dividing a2 with a3 : \",a2/a3)\n",
    "\n",
    "#Find the remainder after dividing first number with second number\n",
    "print(\"Remainder after dividing a2 with a3 is : \",a2%a3)\n",
    "\n",
    "#Find the quotient after dividing first number with second number\n",
    "print(\"Quotient after dividing a2 with a3 is : \",a2//a3)\n",
    "\n",
    "#Find the result of first num to the power of second number.\n",
    "print(\"a2 to the power a3 is : \",a2//a3)"
   ]
  },
  {
   "cell_type": "code",
   "execution_count": 1,
   "metadata": {},
   "outputs": [
    {
     "name": "stdout",
     "output_type": "stream",
     "text": [
      "c1 is greater than c2 :  True\n",
      "c1 is smaller than c2 :  False\n",
      "c1 is greater than or equal to c2 :  True\n",
      "c1 is smaller than or equal to c2 :  False\n"
     ]
    }
   ],
   "source": [
    "#Comparison Operators on float\n",
    "#Take two different float values.\n",
    "#Store them in two different variables.\n",
    "c1 = 20.6\n",
    "c2 = 13.5\n",
    "\n",
    "#Do below operations on them:-\n",
    "#Compare these two numbers with below operator:-\n",
    "#Greater than, '>'\n",
    "print(\"c1 is greater than c2 : \",c1>c2)\n",
    "\n",
    "#Smaller than, '<'\n",
    "print(\"c1 is smaller than c2 : \",c1<c2)\n",
    "\n",
    "#Greater than or equal to, '>='\n",
    "print(\"c1 is greater than or equal to c2 : \",c1>=c2)\n",
    "\n",
    "#Less than or equal to, '<='\n",
    "print(\"c1 is smaller than or equal to c2 : \",c1<=c2)\n",
    "\n",
    "#Observe their output(return type should be boolean)"
   ]
  },
  {
   "cell_type": "code",
   "execution_count": 2,
   "metadata": {},
   "outputs": [
    {
     "name": "stdout",
     "output_type": "stream",
     "text": [
      "d1 is equal to d2 :  False\n",
      "d1 is not equal to d2 :  True\n"
     ]
    }
   ],
   "source": [
    "#Equality Operator\n",
    "#Take two different float values.\n",
    "#Store them in two different variables.\n",
    "d1 = 10.2\n",
    "d2 = 43.3\n",
    "\n",
    "#Equuate them using equality operator (==, !=)\n",
    "print(\"d1 is equal to d2 : \",d1==d2)\n",
    "print(\"d1 is not equal to d2 : \",d1!=d2)\n",
    "#Observe the output(return type should be boolean)"
   ]
  },
  {
   "cell_type": "code",
   "execution_count": 3,
   "metadata": {},
   "outputs": [
    {
     "name": "stdout",
     "output_type": "stream",
     "text": [
      "20.3\n",
      "0.0\n",
      "0.0\n",
      "0.0\n",
      "10.2\n",
      "20.3\n",
      "20.3\n",
      "0.0\n",
      "False\n",
      "True\n"
     ]
    }
   ],
   "source": [
    "#Logical operators\n",
    "#Observe the output of below code\n",
    "#Cross check the output manually\n",
    "\n",
    "print(10.20 and 20.30)       #both are true and second value taken >Output is 20.3\n",
    "print(0.0 and 20.30)         #First is false so first value taken->Output is 0.0\n",
    "print(20.30 and 0.0)         #Goes to till second and second value is false so second is taken>Output is 0.0\n",
    "print(0.0 and 0.0)           #First is false so first value is taken->Output is 0.0\n",
    "\n",
    "print(10.20 or 20.30)        #First is True so first value is taken>Output is 10.2\n",
    "print(0.0 or 20.30)          #Goes to till second and second is true second value is taken->Output is 20.3\n",
    "print(20.30 or 0.0)          #First is True so first value is taken->Output is 20.3\n",
    "print(0.0 or 0.0)            #Goes to till second and secod is also false and second value is taken>Output is 0.0\n",
    "\n",
    "print(not 10.20)             #-Not of true is false->Output is False\n",
    "print(not 0.0)               #Not of false is True>Output is True"
   ]
  },
  {
   "cell_type": "code",
   "execution_count": 1,
   "metadata": {},
   "outputs": [
    {
     "name": "stdout",
     "output_type": "stream",
     "text": [
      "False\n",
      "True\n",
      "ID of a is :  2155256261168\n",
      "ID of b is :  2155255904624\n"
     ]
    }
   ],
   "source": [
    "#What is the output of expression inside print statement. Cross check before running the program.\n",
    "a = 10.20\n",
    "b = 10.20\n",
    "print(a is b)          #True or False? True 10.20<256\n",
    "print(a is not b)      #True or False? False\n",
    "# Why the Id of float values are different when the same value is assigned to two different variables\n",
    "# ex: a = 10.5 b=10.5. but id will be same if I assign the variable having float i.e. a=c then both a anc c's\n",
    "# Id are same\n",
    "print(\"ID of a is : \",id(a))           #Since the ids are different that's why we got these results.\n",
    "print(\"ID of b is : \",id(b))\n",
    "#Bitwise operation is not applicable between instances of float.\n",
    "#Object reusability concept is not applicable on float values."
   ]
  },
  {
   "cell_type": "code",
   "execution_count": 8,
   "metadata": {},
   "outputs": [
    {
     "name": "stdout",
     "output_type": "stream",
     "text": [
      "True\n",
      "True\n",
      "True\n",
      "True\n",
      "True\n",
      "True\n"
     ]
    }
   ],
   "source": [
    "#Membership operation\n",
    "#in, not in are two membership operators and it returns boolean value\n",
    "\n",
    "print('2.7' in 'Python2.7.8')              #True\n",
    "print(10.20 in [10,10.20,10+20j,'Python']) #True\n",
    "print(10.20 in (10,10.20,10+20j,'Python')) # True\n",
    "print(20.30 in {1,20.30,30+40j})           # True\n",
    "print(2.3 in {1:100, 2.3:200, 30+40j:300}) # True\n",
    "print(10 in range(20))                     # True"
   ]
  }
 ],
 "metadata": {
  "kernelspec": {
   "display_name": "Python 3",
   "language": "python",
   "name": "python3"
  },
  "language_info": {
   "codemirror_mode": {
    "name": "ipython",
    "version": 3
   },
   "file_extension": ".py",
   "mimetype": "text/x-python",
   "name": "python",
   "nbconvert_exporter": "python",
   "pygments_lexer": "ipython3",
   "version": "3.7.6"
  }
 },
 "nbformat": 4,
 "nbformat_minor": 4
}
