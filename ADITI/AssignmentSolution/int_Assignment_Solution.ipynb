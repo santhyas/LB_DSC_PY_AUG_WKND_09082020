{
 "cells": [
  {
   "cell_type": "code",
   "execution_count": 5,
   "metadata": {},
   "outputs": [
    {
     "name": "stdout",
     "output_type": "stream",
     "text": [
      "Type of a is:  <class 'int'>\n",
      "Id of a is:  140736893461168\n"
     ]
    }
   ],
   "source": [
    "#Declare an int value and store it in a variable. \n",
    "a = 10\n",
    "#Check the type and print the id of the same.\n",
    "print(\"Type of a is: \",type(a))\n",
    "print(\"Id of a is: \",id(a))"
   ]
  },
  {
   "cell_type": "code",
   "execution_count": 6,
   "metadata": {},
   "outputs": [
    {
     "name": "stdout",
     "output_type": "stream",
     "text": [
      "ID of b is :  140736893461488\n",
      "ID of c is :  140736893461488\n",
      "True\n"
     ]
    }
   ],
   "source": [
    "#Take one int value between 0 - 256.\n",
    "#Assign it to two different variables.\n",
    "#Check the id of both the variables. It should come same. Check why?\n",
    "b = 20\n",
    "c = 20\n",
    "print(\"ID of b is : \",id(b))\n",
    "print(\"ID of c is : \",id(c))\n",
    "print(b is c) #Object resuability"
   ]
  },
  {
   "cell_type": "code",
   "execution_count": 7,
   "metadata": {},
   "outputs": [
    {
     "name": "stdout",
     "output_type": "stream",
     "text": [
      "ID of d is :  2173295983152\n",
      "ID of e is :  2173295982992\n",
      "False\n"
     ]
    }
   ],
   "source": [
    "#Take one int value either less than -5 or greater than 256.\n",
    "#Assign it to two different variables.\n",
    "#Check the id of both the variables. It should come different.Check why?\n",
    "d = -6\n",
    "e = 258\n",
    "print(\"ID of d is : \",id(d))\n",
    "print(\"ID of e is : \",id(e))\n",
    "print(d is e) "
   ]
  },
  {
   "cell_type": "code",
   "execution_count": 12,
   "metadata": {},
   "outputs": [
    {
     "name": "stdout",
     "output_type": "stream",
     "text": [
      "Sum of two numbers is:  30\n",
      "Difference of two numbers is:  10\n",
      "Product of two numbers is:  200\n",
      "Division of two numbers is:  2.0\n",
      "Remainder is:  0\n",
      "Quotient is:  2\n",
      "num1 to the power num2 is:  10240000000000\n"
     ]
    }
   ],
   "source": [
    "#Arithmatic Operations on integers\n",
    "#Take two different intger values.\n",
    "#Store them in two different variables.\n",
    "num1 = 20\n",
    "num2 = 10\n",
    "#Do below operations on them:-\n",
    "#Find sum of both numbers\n",
    "print(\"Sum of two numbers is: \",num1 + num2)\n",
    "#Find differce between them\n",
    "print(\"Difference of two numbers is: \",num1 - num2)\n",
    "#Find the product of both numbers.\n",
    "print(\"Product of two numbers is: \",num1 * num2)\n",
    "#Find value after dividing first num with second number\n",
    "print(\"Value after dividing num1 with num2 is : \",num1/num2)\n",
    "#Find the remainder after dividing first number with second number\n",
    "print(\"Remainder is: \",num1%num2)\n",
    "#Find the quotient after dividing first number with second number\n",
    "print(\"Quotient is: \",num1//num2)\n",
    "#Find the result of first num to the power of second number.\n",
    "print(\"num1 to the power num2 is: \",num1**num2)"
   ]
  },
  {
   "cell_type": "code",
   "execution_count": 13,
   "metadata": {},
   "outputs": [
    {
     "name": "stdout",
     "output_type": "stream",
     "text": [
      "n1 is greater than n2:  False\n",
      "n2 is greater than n1:  True\n",
      "n1 is smaller than n2:  True\n",
      "n2 is smaller than n1:  False\n",
      "n1 is greater than or equal to n2:  False\n",
      "n2 is greater than or equal to n1:  True\n",
      "n1 is less than or equal to n2:  True\n",
      "n2 is less than or equal to n1:  False\n"
     ]
    }
   ],
   "source": [
    "#Comparison Operators on integers\n",
    "#Take two different intger values.\n",
    "#Store them in two different variables.\n",
    "n1 = 40\n",
    "n2 = 50\n",
    "#Do below operations on them:-\n",
    "#Compare se two numbers with below operator:-\n",
    "#Greater than, '>'\n",
    "print(\"n1 is greater than n2: \",n1>n2)\n",
    "print(\"n2 is greater than n1: \",n2>n1)\n",
    "#Smaller than, '<'\n",
    "print(\"n1 is smaller than n2: \",n1<n2)\n",
    "print(\"n2 is smaller than n1: \",n2<n1)\n",
    "#Greater than or equal to, '>='\n",
    "print(\"n1 is greater than or equal to n2: \",n1>=n2)\n",
    "print(\"n2 is greater than or equal to n1: \",n2>=n1)\n",
    "#Less than or equal to, '<='\n",
    "print(\"n1 is less than or equal to n2: \",n1<=n2)\n",
    "print(\"n2 is less than or equal to n1: \",n2<=n1)\n",
    "#Observe their output(return type should be boolean)"
   ]
  },
  {
   "cell_type": "code",
   "execution_count": 8,
   "metadata": {},
   "outputs": [
    {
     "name": "stdout",
     "output_type": "stream",
     "text": [
      "b1 is equal to b2 :  False\n",
      "b1 is not equal to b2 :  True\n"
     ]
    }
   ],
   "source": [
    "#Equality Operator\n",
    "#Take two different intger values.\n",
    "#Store them in two different variables.\n",
    "#Equuate them using equality operator (==, !=)\n",
    "#Observe the output(return type should be boolean)\n",
    "b1 = 37\n",
    "b2 = 58\n",
    "print(\"b1 is equal to b2 : \",b1==b2)\n",
    "print(\"b1 is not equal to b2 : \",b1!=b2)"
   ]
  },
  {
   "cell_type": "code",
   "execution_count": 15,
   "metadata": {},
   "outputs": [
    {
     "name": "stdout",
     "output_type": "stream",
     "text": [
      "20\n",
      "0\n",
      "0\n",
      "0\n",
      "10\n",
      "20\n",
      "20\n",
      "0\n",
      "False\n",
      "True\n"
     ]
    }
   ],
   "source": [
    "#Logical operators\n",
    "#Observe the output of below code\n",
    "#Cross check the output manually\n",
    "\n",
    "print(10 and 20)       #----------------------------------------->Output is 20\n",
    "print(0 and 20)        #----------------------------------------->Output is 0\n",
    "print(20 and 0)        #----------------------------------------->Output is 0\n",
    "print(0 and 0)         #----------------------------------------->Output is 0\n",
    "\n",
    "print(10 or 20)        #----------------------------------------->Output is 10\n",
    "print(0 or 20)         #----------------------------------------->Output is 20\n",
    "print(20 or 0)         #----------------------------------------->Output is 20\n",
    "print(0 or 0)          #----------------------------------------->Output is 0\n",
    "\n",
    "print(not 10)          #----------------------------------------->Output is False\n",
    "print(not 0)           #----------------------------------------->Output is True"
   ]
  },
  {
   "cell_type": "code",
   "execution_count": 31,
   "metadata": {},
   "outputs": [
    {
     "name": "stdout",
     "output_type": "stream",
     "text": [
      "0\n",
      "30\n",
      "30\n",
      "-11\n",
      "40\n",
      "2\n"
     ]
    }
   ],
   "source": [
    "#Bitwise Operators\n",
    "#Do below operations on the values provided below:-\n",
    "#Bitwise and(&) -----------------------------------------> 10, 20   -------> Output is 0\n",
    "print(10 & 20)\n",
    "#Bitwise or(|)  -----------------------------------------> 10, 20   -------> Output is 30\n",
    "print(10|20)\n",
    "#Bitwise(^)     -----------------------------------------> 10, 20   -------> Output is 30\n",
    "print(10^20)\n",
    "#Bitwise negation(~) ------------------------------------> 10       -------> Output is -11\n",
    "print(~10)\n",
    "#Bitwise left shift  ------------------------------------> 10,2     -------> Output is 40\n",
    "print(10<<2)\n",
    "#Bitwise right shift ------------------------------------> 10,2     -------> Output is 2\n",
    "print(10>>2)\n",
    "#Cross check the output manually"
   ]
  },
  {
   "cell_type": "code",
   "execution_count": 24,
   "metadata": {},
   "outputs": [
    {
     "name": "stdout",
     "output_type": "stream",
     "text": [
      "True\n",
      "False\n"
     ]
    }
   ],
   "source": [
    "#What is the output of expression inside print statement. Cross check before running the program.\n",
    "a = 10\n",
    "b = 10\n",
    "print(a is b)          #True or False?\n",
    "print(a is not b)      #True or False?"
   ]
  },
  {
   "cell_type": "code",
   "execution_count": 25,
   "metadata": {},
   "outputs": [
    {
     "name": "stdout",
     "output_type": "stream",
     "text": [
      "False\n",
      "True\n"
     ]
    }
   ],
   "source": [
    "a = 1000\n",
    "b = 1000\n",
    "print(a is b)          #True or False?\n",
    "print(a is not b)      #True or False?"
   ]
  },
  {
   "cell_type": "code",
   "execution_count": 34,
   "metadata": {},
   "outputs": [
    {
     "name": "stdout",
     "output_type": "stream",
     "text": [
      "20\n"
     ]
    }
   ],
   "source": [
    "#What is the output of expression inside print statement. Cross check before running the program.\n",
    "print(10+(10*32)//2**5&20+(~(-10))<<2)"
   ]
  },
  {
   "cell_type": "code",
   "execution_count": 37,
   "metadata": {},
   "outputs": [
    {
     "name": "stdout",
     "output_type": "stream",
     "text": [
      "True\n",
      "True\n",
      "True\n",
      "True\n",
      "True\n",
      "True\n"
     ]
    }
   ],
   "source": [
    "#Membership operation\n",
    "#in, not in are two membership operators and it returns boolean value\n",
    "\n",
    "print('2' in 'Python2.7.8')\n",
    "print(10 in [10,10.20,10+20j,'Python'])\n",
    "print(10 in (10,10.20,10+20j,'Python'))\n",
    "print(2 in {1,2,3})\n",
    "print(3 in {1:100, 2:200, 3:300})\n",
    "print(10 in range(20))"
   ]
  },
  {
   "cell_type": "code",
   "execution_count": 38,
   "metadata": {},
   "outputs": [
    {
     "name": "stdout",
     "output_type": "stream",
     "text": [
      "80\n",
      "3870\n",
      "64222\n",
      "0b1010000\n",
      "0o7436\n",
      "0xfade\n",
      "0b1010000\n",
      "0b1111101011011110\n",
      "0o175336\n",
      "0o7436\n",
      "0x50\n",
      "0xfade\n"
     ]
    }
   ],
   "source": [
    "#An integer can be represented in binary, octal or hexadecimal form.\n",
    "#Declare one binary, one octal and one hexadecimal value and store them in three different variables.\n",
    "#Convert 9876 to its binary, octal and hexadecimal equivalent and print their corresponding value.\n",
    "\n",
    "#What will be the outut of following:-\n",
    "a = 0b1010000\n",
    "print(a)\n",
    "\n",
    "b = 0o7436\n",
    "print(b)\n",
    "\n",
    "c = 0xfade\n",
    "print(c)\n",
    "\n",
    "print(bin(80))\n",
    "\n",
    "print(oct(3870))\n",
    "\n",
    "print(hex(64222))\n",
    "\n",
    "print(bin(0b1010000))\n",
    "\n",
    "print(bin(0xfade))\n",
    "\n",
    "print(oct(0xfade))\n",
    "\n",
    "print(oct(0o7436))\n",
    "\n",
    "print(hex(0b1010000))\n",
    "\n",
    "print(hex(0xfade))"
   ]
  }
 ],
 "metadata": {
  "kernelspec": {
   "display_name": "Python 3",
   "language": "python",
   "name": "python3"
  },
  "language_info": {
   "codemirror_mode": {
    "name": "ipython",
    "version": 3
   },
   "file_extension": ".py",
   "mimetype": "text/x-python",
   "name": "python",
   "nbconvert_exporter": "python",
   "pygments_lexer": "ipython3",
   "version": "3.7.6"
  }
 },
 "nbformat": 4,
 "nbformat_minor": 4
}
