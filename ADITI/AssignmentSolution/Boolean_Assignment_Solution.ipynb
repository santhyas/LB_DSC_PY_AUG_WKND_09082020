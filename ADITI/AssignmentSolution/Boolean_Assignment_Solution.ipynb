{
 "cells": [
  {
   "cell_type": "code",
   "execution_count": 33,
   "metadata": {},
   "outputs": [
    {
     "name": "stdout",
     "output_type": "stream",
     "text": [
      "Type of n is:  <class 'bool'>\n",
      "Id of n is:  140736892938576\n"
     ]
    }
   ],
   "source": [
    "#Declare a boolean value and store it in a variable. \n",
    "n = True\n",
    "#Check the type and print the id of the same.\n",
    "print(\"Type of n is: \",type(n))\n",
    "print(\"Id of n is: \",id(n))"
   ]
  },
  {
   "cell_type": "code",
   "execution_count": 1,
   "metadata": {},
   "outputs": [
    {
     "name": "stdout",
     "output_type": "stream",
     "text": [
      "ID of n1 is:  140736818749808\n",
      "ID of n2 is:  140736818749808\n",
      "n1 is n2 :  True\n"
     ]
    }
   ],
   "source": [
    "#Take one boolean value between 0 - 256.\n",
    "#Assign it to two different variables.\n",
    "n1 = 0\n",
    "n2 = 0\n",
    "#Check the id of both the variables. It should come same. Check why?\n",
    "print(\"ID of n1 is: \",id(n1))\n",
    "print(\"ID of n2 is: \",id(n2))\n",
    "print(\"n1 is n2 : \",n1 is n2)              #Object resuability"
   ]
  },
  {
   "cell_type": "code",
   "execution_count": 32,
   "metadata": {},
   "outputs": [
    {
     "name": "stdout",
     "output_type": "stream",
     "text": [
      "Sum of both:  1\n",
      "Difference of both:  -1\n",
      "Product of both:  0\n",
      "Dividing a1 with a2:  0.0\n",
      "Remainder after diviing a1 with a2:  0\n",
      "Quotient after diviing a1 with a2:  0\n",
      "a1 to the power a2:  0\n"
     ]
    }
   ],
   "source": [
    "#Arithmatic Operations on boolean data\n",
    "#Take two different boolean values.\n",
    "#Store them in two different variables.\n",
    "\n",
    "a1 = False\n",
    "a2 = True\n",
    "\n",
    "#Do below operations on them:-\n",
    "#Find sum of both values\n",
    "print(\"Sum of both: \",a1+a2) \n",
    "\n",
    "#Find differce between them\n",
    "print(\"Difference of both: \",a1-a2)\n",
    "\n",
    "\n",
    "#Find the product of both.\n",
    "print(\"Product of both: \",a1*a2)\n",
    "\n",
    "\n",
    "#Find value after dividing first value with second value\n",
    "print(\"Dividing a1 with a2: \",a1/a2)\n",
    "    \n",
    "#Find the remainder after dividing first value with second value\n",
    "print(\"Remainder after diviing a1 with a2: \",a1%a2)   \n",
    "\n",
    "    \n",
    "#Find the quotient after dividing first value with second value\n",
    "print(\"Quotient after diviing a1 with a2: \",a1//a2)   \n",
    "\n",
    "    \n",
    "#Find the result of first value to the power of second value.\n",
    "print(\"a1 to the power a2: \",a1**a2) "
   ]
  },
  {
   "cell_type": "code",
   "execution_count": 38,
   "metadata": {},
   "outputs": [
    {
     "name": "stdout",
     "output_type": "stream",
     "text": [
      "b1 greater than b2:  True\n",
      "b1 lesser than b2:  False\n",
      "b1 greater than or equal to b2:  True\n",
      "b1 lesser than or equal to b2:  False\n"
     ]
    }
   ],
   "source": [
    "#Comparison Operators on boolean values\n",
    "#Take two different boolean values.\n",
    "#Store them in two different variables.\n",
    "b1 = True \n",
    "b2 = False\n",
    "\n",
    "#Do below operations on them:-\n",
    "#Compare these two values with below operator:-\n",
    "#Greater than, '>'\n",
    "print(\"b1 greater than b2: \",b1>b2)  \n",
    "\n",
    "#less than, '<'\n",
    "print(\"b1 lesser than b2: \",b1<b2) \n",
    "    \n",
    "#Greater than or equal to, '>='\n",
    "print(\"b1 greater than or equal to b2: \",b1>=b2) \n",
    "\n",
    "#Less than or equal to, '<='    \n",
    "print(\"b1 lesser than or equal to b2: \",b1<=b2) \n",
    "\n",
    "#Observe their output(return type should be boolean)"
   ]
  },
  {
   "cell_type": "code",
   "execution_count": 27,
   "metadata": {},
   "outputs": [
    {
     "name": "stdout",
     "output_type": "stream",
     "text": [
      "Are these values equal?  False\n",
      "Are these values not equal?  True\n"
     ]
    }
   ],
   "source": [
    "#Equality Operator\n",
    "#Take two different boolean values.\n",
    "#Store them in two different variables.\n",
    "c1 = True\n",
    "c2 = False\n",
    "\n",
    "#Equate them using equality operator (==, !=)\n",
    "print(\"Are these values equal? \",c1==c2)\n",
    "print(\"Are these values not equal? \",c1!=c2)\n",
    "\n",
    "\n",
    "#Observe the output(return type should be boolean)"
   ]
  },
  {
   "cell_type": "code",
   "execution_count": 28,
   "metadata": {},
   "outputs": [
    {
     "name": "stdout",
     "output_type": "stream",
     "text": [
      "True\n",
      "False\n",
      "False\n",
      "False\n",
      "True\n",
      "True\n",
      "True\n",
      "False\n",
      "False\n",
      "True\n"
     ]
    }
   ],
   "source": [
    "#Logical operators\n",
    "#Observe the output of below code\n",
    "#Cross check the output manually\n",
    "\n",
    "print(True and True)        #----------------------------------------->Output is True\n",
    "print(False and True)        #----------------------------------------->Output is False\n",
    "print(True and False)        #----------------------------------------->Output is False\n",
    "print(False and False)       #----------------------------------------->Output is False\n",
    "\n",
    "print(True or True)          #----------------------------------------->Output is True\n",
    "print(False or True)         #----------------------------------------->Output is True\n",
    "print(True or False)         #----------------------------------------->Output is True\n",
    "print(False or False)        #----------------------------------------->Output is False\n",
    "\n",
    "print(not True)              #----------------------------------------->Output is False\n",
    "print(not False)             #----------------------------------------->Output is True"
   ]
  },
  {
   "cell_type": "code",
   "execution_count": 37,
   "metadata": {},
   "outputs": [
    {
     "name": "stdout",
     "output_type": "stream",
     "text": [
      "Output using & operator:  True\n",
      "Output using | operator:  True\n",
      "Output using ^ operator:  True\n",
      "Output using ~ operator:  -2\n",
      "Output using << operator:  4\n",
      "Output using >> operator:  0\n"
     ]
    }
   ],
   "source": [
    "#Bitwise Operators\n",
    "#Do below operations on the values provided below:-\n",
    "#Bitwise and(&) -----------------------------------------> True, True    -------> Output is True\n",
    "print(\"Output using & operator: \",True & True)\n",
    "\n",
    "\n",
    "#Bitwise or(|)  -----------------------------------------> True, False   -------> Output is True\n",
    "print(\"Output using | operator: \",True | False)\n",
    "\n",
    "\n",
    "#Bitwise(^)     -----------------------------------------> True, False   -------> Output is True\n",
    "print(\"Output using ^ operator: \",True ^ False)\n",
    "  \n",
    "\n",
    "#Bitwise negation(~) ------------------------------------> True          -------> Output is -2\n",
    "print(\"Output using ~ operator: \",~True)\n",
    "   \n",
    "\n",
    "#Bitwise left shift  ------------------------------------> True,2        -------> Output is 4\n",
    "print(\"Output using << operator: \",True << 2)\n",
    "\n",
    "\n",
    "#Bitwise right shift ------------------------------------> True,2        -------> Output is 0\n",
    "print(\"Output using >> operator: \",True >> 2)\n",
    "\n",
    "\n",
    "#Cross check the output manually"
   ]
  },
  {
   "cell_type": "code",
   "execution_count": 30,
   "metadata": {},
   "outputs": [
    {
     "name": "stdout",
     "output_type": "stream",
     "text": [
      "True\n",
      "False\n",
      "True\n",
      "False\n"
     ]
    }
   ],
   "source": [
    "#What is the output of expression inside print statement. Cross check before running the program.\n",
    "a = True\n",
    "b = True\n",
    "print(a is b)          #True or False?   #\n",
    "print(a is not b)      #True or False?\n",
    "\n",
    "a = False\n",
    "b = False\n",
    "print(a is b)          #True or False?\n",
    "print(a is not b)      #True or False?"
   ]
  },
  {
   "cell_type": "code",
   "execution_count": 31,
   "metadata": {},
   "outputs": [
    {
     "name": "stdout",
     "output_type": "stream",
     "text": [
      "True\n",
      "True\n",
      "True\n",
      "True\n",
      "True\n"
     ]
    }
   ],
   "source": [
    "#Membership operation\n",
    "#in, not in are two membership operators and it returns boolean value\n",
    "\n",
    "print(True in [10,10.20,10+20j,'Python', True])\n",
    "print(False in (10,10.20,10+20j,'Python', False))\n",
    "print(True in {1,2,3, True})\n",
    "print(True in {True:100, False:200, True:300})\n",
    "print(False in {True:100, False:200, True:300})"
   ]
  }
 ],
 "metadata": {
  "kernelspec": {
   "display_name": "Python 3",
   "language": "python",
   "name": "python3"
  },
  "language_info": {
   "codemirror_mode": {
    "name": "ipython",
    "version": 3
   },
   "file_extension": ".py",
   "mimetype": "text/x-python",
   "name": "python",
   "nbconvert_exporter": "python",
   "pygments_lexer": "ipython3",
   "version": "3.7.6"
  }
 },
 "nbformat": 4,
 "nbformat_minor": 4
}
