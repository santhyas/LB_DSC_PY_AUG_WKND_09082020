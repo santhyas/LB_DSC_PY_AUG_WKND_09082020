{
 "cells": [
  {
   "cell_type": "markdown",
   "metadata": {},
   "source": [
    "# If - elif - else statement"
   ]
  },
  {
   "cell_type": "code",
   "execution_count": 1,
   "metadata": {},
   "outputs": [
    {
     "name": "stdout",
     "output_type": "stream",
     "text": [
      "Enter a number from 0 to 9 : 7\n",
      "seven\n"
     ]
    }
   ],
   "source": [
    "#W. A P. which takes one number from 0 to 9 from the user and prints it in the word. And if the word is not from 0 to 9 then\n",
    "#it should print that number is outside of the range and program should exit.\n",
    "# For exapmple:- \n",
    "# input = 1\n",
    "# output = one\n",
    "\n",
    "inp=int(input(\"Enter a number from 0 to 9 : \"))\n",
    "\n",
    "if inp in range(10):\n",
    "    if inp==0:\n",
    "        print(\"zero\")\n",
    "    elif inp==1:\n",
    "        print(\"one\")\n",
    "    elif inp==2:\n",
    "        print(\"two\")\n",
    "    elif inp==3:\n",
    "        print(\"three\")\n",
    "    elif inp==4:\n",
    "        print(\"four\")\n",
    "    elif inp==5:\n",
    "        print(\"five\")\n",
    "    elif inp==6:\n",
    "        print(\"six\")\n",
    "    elif inp==7:\n",
    "        print(\"seven\")\n",
    "    elif inp==8:\n",
    "        print(\"eight\")\n",
    "    elif inp==9:\n",
    "        print(\"nine\")\n",
    "else:\n",
    "    print(\"The number is outside of range\")"
   ]
  },
  {
   "cell_type": "code",
   "execution_count": 2,
   "metadata": {},
   "outputs": [
    {
     "name": "stdout",
     "output_type": "stream",
     "text": [
      "    Please select any one operation from below:-\n",
      "        * To add enter 1\n",
      "        * to subtract enter 2\n",
      "        * To multiply enter 3\n",
      "        * To divide enter 4\n",
      "        * To divide and find quotient enter 5\n",
      "        * To divide and find remainder enter 6\n",
      "        * To find num1 to the power of num2 enter 7\n",
      "        * To Come out of the program enter 8\n",
      "3\n",
      "Enter first number : 8\n",
      "Enter second number : 7\n",
      "The multiplication of two numbers is  :  56\n"
     ]
    }
   ],
   "source": [
    "#W. A P. to implement calculator but the operation to be done and two numbers will be taken as input from user:-\n",
    "#Operation console should show below:-\n",
    "#     Please select any one operation from below:-\n",
    "#         * To add enter 1\n",
    "#         * to subtract enter 2\n",
    "#         * To multiply enter 3\n",
    "#         * To divide enter 4\n",
    "#         * To divide and find quotient enter 5\n",
    "#         * To divide and find remainder enter 6\n",
    "#         * To find num1 to the power of num2 enter 7\n",
    "#         * To Come out of the program enter 8\n",
    "\n",
    "\n",
    "\n",
    "display='''    Please select any one operation from below:-\n",
    "        * To add enter 1\n",
    "        * to subtract enter 2\n",
    "        * To multiply enter 3\n",
    "        * To divide enter 4\n",
    "        * To divide and find quotient enter 5\n",
    "        * To divide and find remainder enter 6\n",
    "        * To find num1 to the power of num2 enter 7\n",
    "        * To Come out of the program enter 8\\n'''\n",
    "\n",
    "inp=int(input(display))\n",
    "if inp in range(8):\n",
    "    num1=int(input(\"Enter first number : \"))\n",
    "    num2=int(input(\"Enter second number : \"))\n",
    "    if inp==1:\n",
    "        print(\"The addition of two numbers is  : \",num1+num2)\n",
    "    elif inp==2:\n",
    "        print(\"The subtraction of two numbers is  : \",num1-num2)\n",
    "    elif inp==3:\n",
    "        print(\"The multiplication of two numbers is  : \",num1*num2)\n",
    "    elif inp==4:\n",
    "        print(\"The value after dividing num1 by num2 is  : \",num1/num2)\n",
    "    elif inp==5:\n",
    "        print(\"The quotient value after dividing num1 by num2 is  : \",num1//num2)\n",
    "    elif inp==6:\n",
    "        print(\"The remainder value after dividing num1 by num2 is  : \",num1%num2)\n",
    "    else: \n",
    "        print(\"The value of num1 to the power of num2 is : \",num1**num2)\n",
    "elif inp==8:\n",
    "    print(\"Out of the program\")\n",
    "else:\n",
    "    print(\"Invalid input\")"
   ]
  },
  {
   "cell_type": "code",
   "execution_count": 3,
   "metadata": {},
   "outputs": [
    {
     "name": "stdout",
     "output_type": "stream",
     "text": [
      "2012  is a leap year\n",
      "1968  is a leap year\n",
      "2004  is a leap year\n",
      "1200  is a leap year\n",
      "1600  is a leap year\n",
      "2400  is a leap year\n",
      "1971  is not a leap year\n",
      "2006  is not a leap year\n",
      "1700  is not a leap year\n",
      "1800  is not a leap year\n",
      "1900  is not a leap year\n"
     ]
    }
   ],
   "source": [
    "#W A P to check whether a year entered by user is an leap year or not?\n",
    "#Check with below input:-\n",
    "#leap year:- 2012, 1968, 2004, 1200, 1600,2400\n",
    "#Non-lear year:- 1971, 2006, 1700,1800,1900\n",
    "\n",
    "a=[2012, 1968, 2004, 1200, 1600,2400,1971, 2006, 1700,1800,1900]\n",
    "\n",
    "for i in range(len(a)):\n",
    "    if a[i]%4==0:\n",
    "        if a[i]%100==0:\n",
    "            if a[i]%400==0:\n",
    "                print(a[i],\" is a leap year\")\n",
    "            else:\n",
    "                print(a[i],\" is not a leap year\")\n",
    "        else:\n",
    "            print(a[i],\" is a leap year\")\n",
    "    else:\n",
    "        print(a[i],\" is not a leap year\")"
   ]
  },
  {
   "cell_type": "code",
   "execution_count": 4,
   "metadata": {},
   "outputs": [
    {
     "name": "stdout",
     "output_type": "stream",
     "text": [
      "Enter a number : 758\n",
      "758 is even number\n"
     ]
    }
   ],
   "source": [
    "#W A P which takes one number from the user and checks whether it is an even or odd number?, If it even then prints number is \n",
    "#even number else prints that number is odd number.\n",
    "\n",
    "num=int(input(\"Enter a number : \"))\n",
    "\n",
    "if num%2==0:\n",
    "    print(num,\"is even number\")\n",
    "else:\n",
    "    print(num,\"is an odd number\")"
   ]
  },
  {
   "cell_type": "code",
   "execution_count": 5,
   "metadata": {},
   "outputs": [
    {
     "name": "stdout",
     "output_type": "stream",
     "text": [
      "Enter first number : 85\n",
      "Enter second number : 41\n",
      "num1 is greater than num2\n",
      "\n",
      "\n"
     ]
    }
   ],
   "source": [
    "#W A P which takes two numbers from the user and prints below output:-\n",
    "#     1. num1 is greater than num2 if num1 is greater than num2\n",
    "#     2. num1 is smaller than num2 if num1 is smaller than num2\n",
    "#     3. num1 is equal to num2 if num1 and num2 are equal\n",
    "\n",
    "#Note:- 1. Do this problem using if - else \n",
    "#       2. Do this using ternary operator\n",
    "\n",
    "num1=int(input(\"Enter first number : \"))\n",
    "num2=int(input(\"Enter second number : \"))\n",
    "\n",
    "\n",
    "print(\"num1 is greater than num2\" if num1>num2 else \"\")\n",
    "print(\"num1 is smaller than num2\" if num1<num2 else \"\")\n",
    "print(\"num1 is equal to num2\" if num1==num2 else \"\")"
   ]
  },
  {
   "cell_type": "code",
   "execution_count": 6,
   "metadata": {},
   "outputs": [
    {
     "name": "stdout",
     "output_type": "stream",
     "text": [
      "Enter first number : 89\n",
      "Enter first number : 88\n",
      "Enter first number : 90\n",
      "num3 is greater than num1 and num2\n"
     ]
    }
   ],
   "source": [
    "#W A P which takes three numbers from the user and prints below output:-\n",
    "#     1. num1 is greater than num2 and num3 if num1 is greater than num2 and num3\n",
    "#     2. num2 is greater than num1 and num3 if num2 is greater than num1 and num3\n",
    "#     3. num3 is greater than num1 and num2 if num3 is greater than num1 and num2\n",
    "\n",
    "#Note:- 1. Do this problem using if - elif - else \n",
    "#       2. Do this using ternary operator\n",
    "\n",
    "# a = a if a>b else b\n",
    "# expr if cond1 else expr2 if cond2 else expr3\n",
    "\n",
    "\n",
    "num1=int(input(\"Enter first number : \"))\n",
    "num2=int(input(\"Enter first number : \"))\n",
    "num3=int(input(\"Enter first number : \"))\n",
    "\n",
    "print(\"num1 is greater than num2 and num3\" if num1>num2 and num1>num3 else \"num2 is greater than num1 and num3\" if num2>num1 and num2>num3 else \"num3 is greater than num1 and num2\") \n"
   ]
  },
  {
   "cell_type": "markdown",
   "metadata": {},
   "source": [
    "# Loops - for loop, while loop"
   ]
  },
  {
   "cell_type": "code",
   "execution_count": 7,
   "metadata": {},
   "outputs": [
    {
     "name": "stdout",
     "output_type": "stream",
     "text": [
      "The length of the string is :  55\n"
     ]
    }
   ],
   "source": [
    "#Write a Python program to find the length of the my_str using loop:-\n",
    "\n",
    "#Input:- 'Write a Python program to find the length of the my_str'\n",
    "#Output:- 55\n",
    "\n",
    "my_str = 'Write a Python program to find the length of the my_str'\n",
    "\n",
    "count=0\n",
    "for i in my_str:\n",
    "    count+=1\n",
    "print(\"The length of the string is : \",count)"
   ]
  },
  {
   "cell_type": "code",
   "execution_count": 8,
   "metadata": {},
   "outputs": [
    {
     "name": "stdout",
     "output_type": "stream",
     "text": [
      "The number of times letter 'p' appeared is :  9\n"
     ]
    }
   ],
   "source": [
    "#Write a Python program to find the total number of times letter 'p' is appeared in the below string using loop:-\n",
    "    \n",
    "#Input:- 'peter piper picked a peck of pickled peppers.\\n'\n",
    "#Output:- 9\n",
    "\n",
    "string = 'peter piper picked a peck of pickled peppers.\\n'\n",
    "\n",
    "new=''\n",
    "for i in range(len(string)):\n",
    "    a=string[i]\n",
    "    if 'p'== a:\n",
    "        new+=a\n",
    "print(\"The number of times letter 'p' appeared is : \",len(new))"
   ]
  },
  {
   "cell_type": "code",
   "execution_count": 9,
   "metadata": {},
   "outputs": [
    {
     "name": "stdout",
     "output_type": "stream",
     "text": [
      "0\n",
      "6\n",
      "8\n",
      "12\n",
      "21\n",
      "29\n",
      "37\n",
      "39\n",
      "40\n"
     ]
    }
   ],
   "source": [
    "#Write a Python Program, to print all the indexes of all occurences of letter 'p' appeared in the string using loop:-\n",
    "    \n",
    "#Input:- 'peter piper picked a peck of pickled peppers.'\n",
    "#Output:- \n",
    "# 0\n",
    "# 6\n",
    "# 8\n",
    "# 12\n",
    "# 21\n",
    "# 29\n",
    "# 37\n",
    "# 39\n",
    "# 40\n",
    "\n",
    "\n",
    "string='peter piper picked a peck of pickled peppers.'\n",
    "\n",
    "i=0\n",
    "while(i<len(string)):\n",
    "    n=string[i]\n",
    "    i+=1\n",
    "    if 'p' is n :\n",
    "        print(i-1)"
   ]
  },
  {
   "cell_type": "code",
   "execution_count": 10,
   "metadata": {},
   "outputs": [
    {
     "name": "stdout",
     "output_type": "stream",
     "text": [
      "['peter', 'piper', 'picked', 'a', 'peck', 'of', 'pickled', 'peppers']\n"
     ]
    }
   ],
   "source": [
    "#Write a python program to find below output using loop:-\n",
    "\n",
    "#Input:- 'peter piper picked a peck of pickled peppers.'\n",
    "#Output:- ['peter', 'piper', 'picked', 'a', 'peck', 'of', 'pickled', 'peppers']\n",
    "\n",
    "my_str='peter piper picked a peck of pickled peppers.'\n",
    "\n",
    "new=[]\n",
    "str_new=''\n",
    "for word in my_str:\n",
    "    if word.isspace() or my_str[len(my_str)-1]==word:\n",
    "        new.append(str_new)\n",
    "        str_new=''\n",
    "    else:\n",
    "        str_new+=word\n",
    "\n",
    "print(new)  "
   ]
  },
  {
   "cell_type": "code",
   "execution_count": 11,
   "metadata": {},
   "outputs": [
    {
     "name": "stdout",
     "output_type": "stream",
     "text": [
      "peppers pickled of peck a picked piper peter\n"
     ]
    }
   ],
   "source": [
    "#Write a python program to find below output using loop:-\n",
    "\n",
    "#Input:- 'peter piper picked a peck of pickled peppers.'\n",
    "#Output:- 'peppers pickled of peck a picked piper peter'\n",
    "\n",
    "\n",
    "string='peter piper picked a peck of pickled peppers.'\n",
    "\n",
    "str_new=''\n",
    "new=[]\n",
    "for word in string:\n",
    "    if word.isspace() or string[len(string)-1]==word:\n",
    "        new.append(str_new)\n",
    "        str_new=''\n",
    "        a=new[::-1]\n",
    "        b=' '.join(a)\n",
    "    else:\n",
    "        str_new+=word\n",
    "\n",
    "print(b)"
   ]
  },
  {
   "cell_type": "code",
   "execution_count": 12,
   "metadata": {},
   "outputs": [
    {
     "name": "stdout",
     "output_type": "stream",
     "text": [
      ".sreppep delkcip fo kcep a dekcip repip retep"
     ]
    }
   ],
   "source": [
    "#Write a python program to find below output using loop:-\n",
    "\n",
    "#Input:- 'peter piper picked a peck of pickled peppers.'\n",
    "#Output:- '.sreppep delkcip fo kcep a dekcip repip retep'\n",
    "\n",
    "string='peter piper picked a peck of pickled peppers.'\n",
    "\n",
    "for i in range((len(string)-1),-1,-1):\n",
    "    print(string[i],end=\"\") "
   ]
  },
  {
   "cell_type": "code",
   "execution_count": 13,
   "metadata": {},
   "outputs": [
    {
     "name": "stdout",
     "output_type": "stream",
     "text": [
      "retep repip dekcip a kcep fo delkcip sreppep\n"
     ]
    }
   ],
   "source": [
    "#Write a python program to find below output using loop:-\n",
    "\n",
    "#Input:- 'peter piper picked a peck of pickled peppers.'\n",
    "#Output:- 'retep repip dekcip a kcep fo delkcip sreppep'\n",
    "\n",
    "string='peter piper picked a peck of pickled peppers.'\n",
    "\n",
    "i=0\n",
    "j=0\n",
    "new=[]\n",
    "lst=string.replace('.','').split()\n",
    "for n in lst:\n",
    "    n=lst[i]\n",
    "    i+=1\n",
    "    c=n[::-1]\n",
    "    new.insert(j,c)\n",
    "    j+=1\n",
    "    d=' '.join(new)\n",
    "print(d)"
   ]
  },
  {
   "cell_type": "code",
   "execution_count": 14,
   "metadata": {},
   "outputs": [
    {
     "name": "stdout",
     "output_type": "stream",
     "text": [
      "Peter Piper Picked A Peck Of Pickled Peppers\n"
     ]
    }
   ],
   "source": [
    "#Write a python program to find below output using loop:-\n",
    "\n",
    "#Input:- 'peter piper picked a peck of pickled peppers.'\n",
    "#Output:- 'Peter Piper Picked A Peck Of Pickled Peppers'\n",
    "\n",
    "string='peter piper picked a peck of pickled peppers.'\n",
    "\n",
    "i=0\n",
    "out=[]\n",
    "for first in new:\n",
    "    new=string.replace('.','').split()\n",
    "    first=new[i][0]\n",
    "    rest=new[i][1:]\n",
    "    i+=1\n",
    "    a=first.upper()+rest\n",
    "    out.insert(i,a)\n",
    "    b=' '.join(out)\n",
    "print(b)  "
   ]
  },
  {
   "cell_type": "code",
   "execution_count": 15,
   "metadata": {},
   "outputs": [
    {
     "name": "stdout",
     "output_type": "stream",
     "text": [
      "Peter piper picked a peck of pickled peppers\n"
     ]
    }
   ],
   "source": [
    "#Write a python program to find below output using loop:-\n",
    "\n",
    "#Input:- 'Peter Piper Picked A Peck Of Pickled Peppers.'\n",
    "#Output:- 'Peter piper picked a peck of pickled peppers'\n",
    "\n",
    "string='peter piper picked a peck of pickled peppers.'\n",
    "\n",
    "new=string.replace('.','').split()\n",
    "for first in new:   \n",
    "    first=new[0][0]\n",
    "    rest=new[0][1:]\n",
    "    a=first.upper()+rest\n",
    "    new.insert(0,a)\n",
    "    new.pop(1)\n",
    "    out=' '.join(new)\n",
    "print(out)"
   ]
  },
  {
   "cell_type": "code",
   "execution_count": 16,
   "metadata": {},
   "outputs": [
    {
     "name": "stdout",
     "output_type": "stream",
     "text": [
      "The index of first occurence of first character of matching sub string is :  29\n"
     ]
    }
   ],
   "source": [
    "#Write a python program to implement index method using loop. If sub_str is found in my_str then it will print the index\n",
    "# of first occurrence of first character of matching string in my_str:-\n",
    "\n",
    "#Input:- my_str = 'Peter Piper Picked A Peck Of Pickled Peppers.', sub_str = 'Pickl'\n",
    "#Output:- 29\n",
    "\n",
    "my_str = 'Peter Piper Picked A Peck Of Pickled Peppers.'\n",
    "sub_str = 'Pickl'\n",
    "       \n",
    "new_str=''\n",
    "j=0\n",
    "for i in range(len(my_str)):\n",
    "    if my_str[i]==sub_str[j]:\n",
    "        new_str+=sub_str[j]\n",
    "        j+=1\n",
    "        if new_str==sub_str:\n",
    "            break\n",
    "    else:\n",
    "        new_str=''\n",
    "        j=0\n",
    "        ind = i-(j-1)\n",
    "print(\"The index of first occurence of first character of matching sub string is : \",ind)"
   ]
  },
  {
   "cell_type": "code",
   "execution_count": 17,
   "metadata": {},
   "outputs": [
    {
     "name": "stdout",
     "output_type": "stream",
     "text": [
      "Peter Piper Picked A Pack Of Pickled Peppers.\n"
     ]
    }
   ],
   "source": [
    "#Write a python program to implement replace method using loop. If sub_str is found in my_str then it will replace the first \n",
    "#occurrence of sub_str with new_str else it will print sub_str not found:-\n",
    "\n",
    "#Input:- my_str = 'Peter Piper Picked A Peck Of Pickled Peppers.', sub_str = 'Peck', new_str = 'Pack'\n",
    "#Output:- 'Peter Piper Picked A Pack Of Pickled Peppers.'\n",
    "\n",
    "string='Peter Piper Picked A Peck Of Pickled Peppers.'\n",
    "sub_str = 'Peck'\n",
    "new_str='Pack'\n",
    "new=''\n",
    "\n",
    "j=0\n",
    "for i in range(len(string)):\n",
    "    if string[i]==sub_str[j]:\n",
    "        new+=sub_str[j]\n",
    "        j+=1\n",
    "        if new==sub_str:\n",
    "            break\n",
    "    else:\n",
    "        new=''\n",
    "        j=0\n",
    "        ind=i-j+1\n",
    "\n",
    "print(string[:ind]+new_str+string[ind+4:])"
   ]
  },
  {
   "cell_type": "code",
   "execution_count": 18,
   "metadata": {},
   "outputs": [
    {
     "name": "stdout",
     "output_type": "stream",
     "text": [
      "********************Peck*********************\n"
     ]
    }
   ],
   "source": [
    "#Write a python program to find below output (implements rjust and ljust) using loop:-\n",
    "\n",
    "#Input:- 'Peter Piper Picked A Peck Of Pickled Peppers.', sub_str = 'Peck', \n",
    "#Output:- '*********************Peck********************'\n",
    "\n",
    "string='Peter Piper Picked A Peck Of Pickled Peppers.'\n",
    "sub_str = 'Peck'\n",
    "new_str=''\n",
    "j=0\n",
    "for i in range(len(string)):\n",
    "    if string[i]==sub_str[j]:\n",
    "        new_str+=sub_str[j]\n",
    "        j+=1\n",
    "        if new_str==sub_str:\n",
    "            break\n",
    "    else:\n",
    "        new_str=''\n",
    "        j=0\n",
    "        ind=i-j+1\n",
    "            \n",
    "        \n",
    "print('*'*(ind-1)+sub_str+'*'*(len(string)-(ind-1+len(sub_str))))"
   ]
  },
  {
   "cell_type": "code",
   "execution_count": 19,
   "metadata": {},
   "outputs": [
    {
     "name": "stdout",
     "output_type": "stream",
     "text": [
      "['This', 'is', 'Python class']\n"
     ]
    }
   ],
   "source": [
    "#Write a python program to find below output using loop:-\n",
    "\n",
    "#Input:- 'This is Python class', sep = 'is', \n",
    "#Output:- ['This', 'is', 'Python class']\n",
    "\n",
    "string='This is Python class'\n",
    "sep='is'\n",
    "\n",
    "new=[]\n",
    "str_new=''\n",
    "for word in string.split():\n",
    "    if word==sep:\n",
    "        new.append(str_new)\n",
    "        str_new = ''\n",
    "        new.append(word)\n",
    "    else:\n",
    "        str_new=str_new+' '+word\n",
    "new.append(str_new)\n",
    "for i in range(len(new)):\n",
    "    new[i]=new[i].lstrip()\n",
    "print(new)"
   ]
  },
  {
   "cell_type": "code",
   "execution_count": 20,
   "metadata": {},
   "outputs": [
    {
     "name": "stdout",
     "output_type": "stream",
     "text": [
      "Output :  R{vjqp\n"
     ]
    }
   ],
   "source": [
    "#Write a python program which takes one input string from user and encode it in below format:-\n",
    "# 1. #Input:- 'Python'\n",
    "#Output:- 'R{vjqp'\n",
    "\n",
    "inp='Python'\n",
    "\n",
    "out_str=''\n",
    "\n",
    "for i in range(len(inp)):\n",
    "    out_str+=chr((ord(inp[i])+2))\n",
    "print(\"Output : \",out_str)"
   ]
  },
  {
   "cell_type": "code",
   "execution_count": 21,
   "metadata": {},
   "outputs": [
    {
     "name": "stdout",
     "output_type": "stream",
     "text": [
      "Output :  Rwvfql\n"
     ]
    }
   ],
   "source": [
    "# 2. #Input:- 'Python'\n",
    "#Output:- 'Rwvfql'\n",
    "\n",
    "inp='Python'\n",
    "\n",
    "out_str=''\n",
    "for i in range(len(inp)):\n",
    "    if i%2==0:\n",
    "        out_str+=chr((ord(inp[i]))+2)\n",
    "    else:\n",
    "        out_str+=chr((ord(inp[i]))-2)\n",
    "print(\"Output : \",out_str)"
   ]
  },
  {
   "cell_type": "code",
   "execution_count": 22,
   "metadata": {},
   "outputs": [
    {
     "name": "stdout",
     "output_type": "stream",
     "text": [
      "Output :  R{vfml\n"
     ]
    }
   ],
   "source": [
    "# 3. #Input:- 'Python'\n",
    "#Output:- 'R{vkfml'\n",
    "\n",
    "inp='Python'\n",
    "\n",
    "out_str=''\n",
    "for i in range(len(inp)):\n",
    "    if i<len(inp)//2:\n",
    "        out_str+=chr((ord(inp[i])+2))\n",
    "    else:\n",
    "        out_str+=chr((ord(inp[i])-2))          \n",
    "print(\"Output : \",out_str)"
   ]
  }
 ],
 "metadata": {
  "kernelspec": {
   "display_name": "Python 3",
   "language": "python",
   "name": "python3"
  },
  "language_info": {
   "codemirror_mode": {
    "name": "ipython",
    "version": 3
   },
   "file_extension": ".py",
   "mimetype": "text/x-python",
   "name": "python",
   "nbconvert_exporter": "python",
   "pygments_lexer": "ipython3",
   "version": "3.7.6"
  }
 },
 "nbformat": 4,
 "nbformat_minor": 4
}
