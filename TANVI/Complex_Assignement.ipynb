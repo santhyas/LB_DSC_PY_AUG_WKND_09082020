{
 "cells": [
  {
   "cell_type": "code",
   "execution_count": 1,
   "metadata": {
    "colab": {},
    "colab_type": "code",
    "id": "JoMbQLjK3uHZ"
   },
   "outputs": [
    {
     "name": "stdout",
     "output_type": "stream",
     "text": [
      "Variable a type is <class 'complex'> and id is 4393393744\n",
      "Variable b type is <class 'complex'> and id is 4393393712\n"
     ]
    }
   ],
   "source": [
    "#Declare a complex number and store it in a variable. \n",
    "\n",
    "a=10+20j\n",
    "b=20.3+4j\n",
    "\n",
    "#Check the type and print the id of the same.\n",
    "\n",
    "print('Variable ''a'' type is', type(a), 'and ' 'id is',id(a))\n",
    "print('Variable ''b'' type is', type(b), 'and ' 'id is',id(b))\n",
    "\n"
   ]
  },
  {
   "cell_type": "code",
   "execution_count": 2,
   "metadata": {
    "colab": {},
    "colab_type": "code",
    "id": "6N6Ee4BU33jk"
   },
   "outputs": [
    {
     "name": "stdout",
     "output_type": "stream",
     "text": [
      "(38.7+24j)\n",
      "(-4.699999999999999+16j)\n",
      "(288.9+502j)\n",
      "(0.9219741625418473+0.7517098317895212j)\n",
      "(1.7519317265189494e+29+8.534540585988491e+28j)\n"
     ]
    }
   ],
   "source": [
    "#Arithmatic Operations on complex number\n",
    "#Take two different complex number.\n",
    "#Store them in two different variables.\n",
    "a=17+20j\n",
    "b=21.7+4j\n",
    "#Do below operations on them:-\n",
    "print(a+b)    #Find sum of both numbers\n",
    "print(a-b)    #Find differce between them\n",
    "print(a*b)    #Find the product of both numbers.\n",
    "print(a/b)    #Find value after dividing first num with second number\n",
    "print(a**b)    #Find the result of first num to the power of second number.\n",
    "\n",
    "\n"
   ]
  },
  {
   "cell_type": "code",
   "execution_count": 7,
   "metadata": {
    "colab": {},
    "colab_type": "code",
    "id": "xhkdg7LD352y"
   },
   "outputs": [
    {
     "name": "stdout",
     "output_type": "stream",
     "text": [
      "Id of x 4393393424\n",
      "Id of y 4393392944\n",
      "False\n"
     ]
    }
   ],
   "source": [
    "#Comparison Operation not applicable between instance of complex values\n",
    "x=10+2j\n",
    "y=10+2j\n",
    "\n",
    "#print(x>=y) #TypeError: '>=' not supported between instances of 'complex' and 'complex'\n",
    "\n",
    "\n",
    "#Object reusability concept is not applicable on complex numebr\n",
    "print('Id of x',id(x))\n",
    "print('Id of y',id(y))\n",
    "print(x is y)\n"
   ]
  },
  {
   "cell_type": "code",
   "execution_count": 8,
   "metadata": {
    "colab": {},
    "colab_type": "code",
    "id": "4lzPH2sb38KM"
   },
   "outputs": [
    {
     "name": "stdout",
     "output_type": "stream",
     "text": [
      "False\n",
      "True\n"
     ]
    }
   ],
   "source": [
    "#Equality Operator\n",
    "#Take two different complex numbers.\n",
    "\n",
    "p=10+4j\n",
    "q=30-5j\n",
    "\n",
    "#Store them in two different variables.\n",
    "#Equuate them using equality operator (==, !=)\n",
    "\n",
    "print(p==q)\n",
    "print(p!=q)\n",
    "\n",
    "#Observe the output(return type should be boolean)\n",
    "\n",
    "\n",
    "\n",
    "\n",
    "\n"
   ]
  },
  {
   "cell_type": "code",
   "execution_count": 6,
   "metadata": {
    "colab": {},
    "colab_type": "code",
    "id": "EDEl19UD3_tr"
   },
   "outputs": [
    {
     "name": "stdout",
     "output_type": "stream",
     "text": [
      "(20+30j)\n",
      "0j\n",
      "0j\n",
      "0j\n",
      "(10+20j)\n",
      "(20+30j)\n",
      "(20+30j)\n",
      "0j\n",
      "False\n",
      "True\n"
     ]
    }
   ],
   "source": [
    "#Logical operators\n",
    "#Observe the output of below code\n",
    "#Cross check the output manually\n",
    "\n",
    "print(10+20j and 20+30j)    #20+30j    #----------------------------------------->Output is 20+30j\n",
    "print(0+0j and 20+30j)      #0+0j    #----------------------------------------->Output is 0j\n",
    "print(20+30j and 0+0j)      #0+0j   #----------------------------------------->Output is 0j\n",
    "print(0+0j and 0+0j)        #0+0j   #----------------------------------------->Output is 0j\n",
    "\n",
    "print(10+20j or 20+30j)     #10+20j   #----------------------------------------->Output is 10+20j\n",
    "print(0+0j or 20+30j)       #20+30j   #----------------------------------------->Output is 20+30j\n",
    "print(20+30j or 0+0j)       #20+30j  #----------------------------------------->Output is 20+30j\n",
    "print(0+0j or 0+0j)         #0+0j   #----------------------------------------->Output is 0j\n",
    "\n",
    "print(not 10+20j)           #False   #----------------------------------------->Output is False\n",
    "print(not 0+0j)             #True   #----------------------------------------->Output is True"
   ]
  },
  {
   "cell_type": "code",
   "execution_count": 9,
   "metadata": {
    "colab": {},
    "colab_type": "code",
    "id": "4ifueKbP4Br1"
   },
   "outputs": [
    {
     "name": "stdout",
     "output_type": "stream",
     "text": [
      "False\n",
      "True\n"
     ]
    }
   ],
   "source": [
    "#What is the output of expression inside print statement. Cross check before running the program.\n",
    "a = 10+20j\n",
    "b = 10+20j\n",
    "print(a is b)       #False   #True or False?\n",
    "print(a is not b)   #True   #True or False?\n"
   ]
  },
  {
   "cell_type": "code",
   "execution_count": 10,
   "metadata": {
    "colab": {},
    "colab_type": "code",
    "id": "TxMbr5jQ4Dwl"
   },
   "outputs": [
    {
     "name": "stdout",
     "output_type": "stream",
     "text": [
      "True\n",
      "True\n",
      "True\n",
      "True\n",
      "True\n",
      "True\n"
     ]
    }
   ],
   "source": [
    "#Membership operation\n",
    "#in, not in are two membership operators and it returns boolean value\n",
    "\n",
    "print('2.7' in 'Python2.7.8')                      #True\n",
    "print(10+20j in [10,10.20,10+20j,'Python'])        #True\n",
    "print(10+20j in (10,10.20,10+20j,'Python'))        #True\n",
    "print(30+40j in {1,20.30,30+40j})                  #True\n",
    "print(30+40j in {1:100, 2.3:200, 30+40j:300})      #True\n",
    "print(10 in range(20))                             #True"
   ]
  },
  {
   "cell_type": "code",
   "execution_count": null,
   "metadata": {},
   "outputs": [],
   "source": []
  }
 ],
 "metadata": {
  "colab": {
   "name": "Complex_Assignement.ipynb",
   "provenance": []
  },
  "kernelspec": {
   "display_name": "Python 3",
   "language": "python",
   "name": "python3"
  },
  "language_info": {
   "codemirror_mode": {
    "name": "ipython",
    "version": 3
   },
   "file_extension": ".py",
   "mimetype": "text/x-python",
   "name": "python",
   "nbconvert_exporter": "python",
   "pygments_lexer": "ipython3",
   "version": "3.8.3"
  }
 },
 "nbformat": 4,
 "nbformat_minor": 1
}
