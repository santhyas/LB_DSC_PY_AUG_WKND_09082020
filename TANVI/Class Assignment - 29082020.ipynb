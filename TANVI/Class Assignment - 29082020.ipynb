{
 "cells": [
  {
   "cell_type": "markdown",
   "metadata": {},
   "source": [
    "# Class Assignment"
   ]
  },
  {
   "cell_type": "code",
   "execution_count": 2,
   "metadata": {},
   "outputs": [
    {
     "name": "stdout",
     "output_type": "stream",
     "text": [
      "[[0, 0, 0, 0], [0, 1, 2, 3], [0, 2, 4, 6], [0, 3, 6, 9]]\n"
     ]
    }
   ],
   "source": [
    "#Question 1:\n",
    "#Print following pattern using while loop\n",
    "#Output:    [[0, 0, 0, 0], [0, 1, 2, 3], [0, 2, 4, 6], [0, 3, 6, 9]]\n",
    "\n",
    "i=0\n",
    "j=0\n",
    "out_lst = []\n",
    "while i<4:\n",
    "    in_lst = []\n",
    "    while j<4:\n",
    "        in_lst.append(i*j)\n",
    "        j+=1\n",
    "    out_lst.append(in_lst)\n",
    "    i+=1\n",
    "    j=0\n",
    "print(out_lst)"
   ]
  },
  {
   "cell_type": "code",
   "execution_count": 3,
   "metadata": {},
   "outputs": [
    {
     "name": "stdout",
     "output_type": "stream",
     "text": [
      "Enter number of rows: 5\n",
      "* \n",
      "* * \n",
      "* * * \n",
      "* * * * \n",
      "* * * * * \n"
     ]
    }
   ],
   "source": [
    "#Question 2:\n",
    "#Print following pattern\n",
    "#Output:\n",
    "# Enter number of rows: 5\n",
    "# * \n",
    "# * * \n",
    "# * * * \n",
    "# * * * * \n",
    "# * * * * * \n",
    "\n",
    "a = int(input(\"Enter number of rows: \"))\n",
    "#a=5\n",
    "def RightAngleTriangle(a):\n",
    "    for b in range(0,a,1):\n",
    "        print('* '*(b+1))\n",
    "        a-=1\n",
    "RightAngleTriangle(a)"
   ]
  },
  {
   "cell_type": "code",
   "execution_count": 4,
   "metadata": {},
   "outputs": [
    {
     "name": "stdout",
     "output_type": "stream",
     "text": [
      "Enter number of rows: 5\n",
      "     * \n",
      "    * * \n",
      "   * * * \n",
      "  * * * * \n",
      " * * * * * \n"
     ]
    }
   ],
   "source": [
    "#Question 3:\n",
    "#Print following pattern\n",
    "#Output:\n",
    "# Enter number of rows: 5\n",
    "#       * \n",
    "#      * * \n",
    "#     * * * \n",
    "#    * * * * \n",
    "#   * * * * * \n",
    "#  * * * * * *\n",
    "\n",
    "a = int(input(\"Enter number of rows: \"))\n",
    "def pyramid(a):\n",
    "    for b in range(0,a,1):\n",
    "        print(' '*(a-1),'* '*(b+1))\n",
    "        a-=1\n",
    "pyramid(a)"
   ]
  },
  {
   "cell_type": "code",
   "execution_count": null,
   "metadata": {},
   "outputs": [],
   "source": []
  },
  {
   "cell_type": "code",
   "execution_count": null,
   "metadata": {},
   "outputs": [],
   "source": []
  }
 ],
 "metadata": {
  "kernelspec": {
   "display_name": "Python 3",
   "language": "python",
   "name": "python3"
  },
  "language_info": {
   "codemirror_mode": {
    "name": "ipython",
    "version": 3
   },
   "file_extension": ".py",
   "mimetype": "text/x-python",
   "name": "python",
   "nbconvert_exporter": "python",
   "pygments_lexer": "ipython3",
   "version": "3.8.3"
  }
 },
 "nbformat": 4,
 "nbformat_minor": 4
}
