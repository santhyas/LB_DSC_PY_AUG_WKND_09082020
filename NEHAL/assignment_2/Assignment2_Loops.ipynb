{
 "cells": [
  {
   "cell_type": "code",
   "execution_count": null,
   "metadata": {},
   "outputs": [],
   "source": [
    "a = int(input(\"Please enter a value: \"))\n",
    "\n",
    "if a in range(0,9):\n",
    "    if(a == 0):\n",
    "        print(\"Zero\")\n",
    "        \n",
    "    elif (a == 1):\n",
    "        print(\"One\")\n",
    "    elif (a == 2):\n",
    "        print(\"Two\")\n",
    "    elif(a == 3):\n",
    "        print(\"Three\")\n",
    "    elif(a == 4):\n",
    "        print(\"Four\")\n",
    "    elif(a == 5):\n",
    "        print(\"Five\")\n",
    "    elif(a == 6):\n",
    "        print(\"Six\")\n",
    "    elif(a == 7):\n",
    "        print(\"Seven\")\n",
    "    elif(a == 8):\n",
    "        print(\"Eight\")\n",
    "    elif(a == 9):\n",
    "        print(\"Nine\")\n",
    "else:\n",
    "    print(\"Number not in range\")\n"
   ]
  },
  {
   "cell_type": "code",
   "execution_count": null,
   "metadata": {},
   "outputs": [],
   "source": [
    "#Function to add 2 numbers\n",
    "def add(a,b):\n",
    "    return a + b\n",
    "\n",
    "#Function to subtract 2 numbers\n",
    "def subtract(a,b):\n",
    "    return  a - b\n",
    "\n",
    "#Function to multiply 2 numbers\n",
    "def multiply(a,b):\n",
    "    return a * b\n",
    "\n",
    "#Function to divide 2 numbers:\n",
    "def divide(a,b):\n",
    "    return a / b\n",
    "\n",
    "#Function to find quotient:\n",
    "def quotient(a,b):\n",
    "    return a//b\n",
    "\n",
    "#Function to find remainder:\n",
    "def remainder(a,b):\n",
    "    return a%b\n",
    "\n",
    "#Function to find Power of a number:\n",
    "def power(a,b):\n",
    "    return a**b\n",
    "\n",
    "print(\"Please select a choice\" \"\\n\" \"1. Add\" \"\\n\" \"2. Subtract\" \"\\n\" \"3. Multiply\" \"\\n\" \"4. Divide\" \"\\n\" \"5. Quotient\" \"\\n\" \"6. Remainder\" \"\\n\" \"7. Power\" \"\\n\")\n",
    "\n",
    "choice = input(\"\")\n",
    "\n",
    "if choice in ('1','2','3','4','5','6','7'):\n",
    "    x = float(input(\"Enter first number: \"))\n",
    "    y = float(input(\"Enter second number: \"))\n",
    "\n",
    "    if choice == '1':\n",
    "        print(add(x, y))\n",
    "\n",
    "    elif choice == '2':\n",
    "        print(subtract(x, y))\n",
    "\n",
    "    elif choice == '3':\n",
    "        print(multiply(x, y))\n",
    "\n",
    "    elif choice == '4':\n",
    "        print(divide(x, y))\n",
    "\n",
    "    elif choice == '5':\n",
    "        print(quotient(x,y))\n",
    "\n",
    "    elif choice == '6':\n",
    "        print(remainder(x,y))\n",
    "\n",
    "    elif choice == '7':\n",
    "        print(power(int(x),int(y)))\n",
    "\n",
    "else : print(\"***Invalid Input***\")\n"
   ]
  },
  {
   "cell_type": "code",
   "execution_count": 7,
   "metadata": {},
   "outputs": [
    {
     "name": "stdout",
     "output_type": "stream",
     "text": [
      "Year is a leap year\n",
      "Year is a leap year\n",
      "Year is a leap year\n",
      "Year is a leap year\n",
      "Year is a leap year\n",
      "Year is a leap year\n",
      "Year is not a leap year\n",
      "Year is not a leap year\n",
      "Year is not a leap year\n",
      "Year is not a leap year\n",
      "Year is not a leap year\n"
     ]
    }
   ],
   "source": [
    "def leap_year(a):\n",
    "    if (a % 4 ==0 and a%100 !=0):\n",
    "        print(\"Year is a leap year\")\n",
    "    elif(a%400 == 0):\n",
    "        print(\"Year is a leap year\")\n",
    "    else:\n",
    "        print(\"Year is not a leap year\")\n",
    "\n",
    "c = [2012,1968,2004,1200,1600,2400,1971,2006,1700,1800,1900]\n",
    "for i in range(len(c)):\n",
    "    leap_year(c[i])\n",
    "\n",
    "    \n"
   ]
  },
  {
   "cell_type": "code",
   "execution_count": null,
   "metadata": {},
   "outputs": [],
   "source": [
    "#Check if number is Even or Odd\n",
    "print(\"Please enter a number to check if it is even or odd\")\n",
    "a = int(input(\"You entered : \"))\n",
    "\n",
    "if(a > 0):\n",
    "\n",
    "    if(a % 2 == 0):\n",
    "        print(a,\"is an even number!!\")\n",
    "    elif(a % 2 != 0):\n",
    "        print(a,\"is an odd number!!\")\n",
    "\n",
    "else : print(\"Enter a valid number\")\n",
    "    \n",
    "\n",
    "    \n"
   ]
  },
  {
   "cell_type": "code",
   "execution_count": null,
   "metadata": {},
   "outputs": [],
   "source": [
    "a = float(input(\"Please enter first number:\"))\n",
    "b = float(input(\"Please enter second number:\"))\n",
    "\n",
    "if a > b:\n",
    "    print(a,\"is greater than\",b)\n",
    "elif a < b:\n",
    "    print(a,\"is smaller than\",b)\n",
    "else:\n",
    "    print(a,\"is equal to\",b)\n"
   ]
  },
  {
   "cell_type": "code",
   "execution_count": null,
   "metadata": {},
   "outputs": [],
   "source": [
    "a = 'Write a Python program to find the length of the my_str'\n",
    "print(len(a))\n",
    "\n",
    "    \n"
   ]
  },
  {
   "cell_type": "code",
   "execution_count": null,
   "metadata": {},
   "outputs": [],
   "source": [
    "b = 'peter piper picked a peck of pickled peppers.\\n'\n",
    "c = 0\n",
    "for i in range(len(b)):\n",
    "    if b[i] == 'p':\n",
    "        c +=1\n",
    "print(c)\n"
   ]
  },
  {
   "cell_type": "code",
   "execution_count": 1,
   "metadata": {},
   "outputs": [
    {
     "name": "stdout",
     "output_type": "stream",
     "text": [
      "0\n",
      "6\n",
      "8\n",
      "12\n",
      "21\n",
      "29\n",
      "37\n",
      "39\n",
      "40\n"
     ]
    }
   ],
   "source": [
    "d = 'peter piper picked a peck of pickled peppers.'\n",
    "for j in range(len(d)):\n",
    "    if d[j] == 'p':\n",
    "        print(j)\n"
   ]
  },
  {
   "cell_type": "code",
   "execution_count": null,
   "metadata": {},
   "outputs": [],
   "source": [
    "\n",
    "e = 'peter piper picked a peck of pickled peppers.'\n",
    "f = e.split()\n",
    "print(f)\n"
   ]
  },
  {
   "cell_type": "code",
   "execution_count": 2,
   "metadata": {},
   "outputs": [
    {
     "name": "stdout",
     "output_type": "stream",
     "text": [
      "['peppers', 'pickled', 'of', 'peck', 'a', 'picked', 'piper', 'peter']\n",
      "peppers pickled of peck a picked piper peter \n"
     ]
    }
   ],
   "source": [
    "g = 'peter piper picked a peck of pickled peppers'\n",
    "h = g.split()\n",
    "h = h[::-1]\n",
    "print(h)\n",
    "str = \"\"\n",
    "for i in range(len(h)):\n",
    "    str = str + h[i] + \" \"\n",
    "print(str)"
   ]
  },
  {
   "cell_type": "code",
   "execution_count": 3,
   "metadata": {},
   "outputs": [
    {
     "name": "stdout",
     "output_type": "stream",
     "text": [
      ".sreppep delkcip fo kcep a dekcip repip retep\n"
     ]
    }
   ],
   "source": [
    "l = 'peter piper picked a peck of pickled peppers.'\n",
    "l = l[::-1]\n",
    "print(l)"
   ]
  },
  {
   "cell_type": "code",
   "execution_count": 4,
   "metadata": {},
   "outputs": [
    {
     "name": "stdout",
     "output_type": "stream",
     "text": [
      "['retep', 'repip', 'dekcip', 'a', 'kcep', 'fo', 'delkcip', '.sreppep']\n",
      "retep repip dekcip a kcep fo delkcip .sreppep \n"
     ]
    }
   ],
   "source": [
    "a = 'peter piper picked a peck of pickled peppers.'\n",
    "b = a.split()\n",
    "d = []\n",
    "str = \"\"\n",
    "for i in range(len(b)):\n",
    "    c = b[i]\n",
    "    c = c[::-1]\n",
    "    d.append(c)\n",
    "print(d)\n",
    "for j in range(len(d)):\n",
    "    str = str + d[j] + \" \"\n",
    "print(str)\n",
    "\n",
    "\n",
    "\n"
   ]
  },
  {
   "cell_type": "code",
   "execution_count": 10,
   "metadata": {},
   "outputs": [
    {
     "name": "stdout",
     "output_type": "stream",
     "text": [
      "['peter', 'piper', 'picked', 'a', 'peck', 'of', 'pickled', 'peppers.']\n",
      "['Peter', 'Piper', 'Picked', 'A', 'Peck', 'Of', 'Pickled', 'Peppers.']\n",
      "Peter Piper Picked A Peck Of Pickled Peppers. \n"
     ]
    }
   ],
   "source": [
    "\n",
    "e = 'peter piper picked a peck of pickled peppers.'\n",
    "f = e.split()\n",
    "print(f)\n",
    "g = []\n",
    "for i in range(len(f)):\n",
    "    a = f[i].capitalize()\n",
    "    g.append(a)\n",
    "print(g)\n",
    "\n",
    "str = ''\n",
    "for j in range(len(g)):\n",
    "    str = str + g[j] + \" \"\n",
    "print(str)\n"
   ]
  },
  {
   "cell_type": "code",
   "execution_count": 1,
   "metadata": {},
   "outputs": [
    {
     "name": "stdout",
     "output_type": "stream",
     "text": [
      "['Peter', 'Piper', 'Picked', 'A', 'Peck', 'Of', 'Pickled', 'Peppers.']\n",
      "['peter', 'piper', 'picked', 'a', 'peck', 'of', 'pickled', 'peppers.']\n",
      "peter piper picked a peck of pickled peppers. \n"
     ]
    }
   ],
   "source": [
    "\n",
    "e = 'Peter Piper Picked A Peck Of Pickled Peppers.'\n",
    "f = e.split()\n",
    "print(f)\n",
    "g = []\n",
    "for i in range(len(f)):\n",
    "    a = f[i].lower()\n",
    "    g.append(a)\n",
    "print(g)\n",
    "\n",
    "str = ''\n",
    "for j in range(len(g)):\n",
    "    str = str + g[j] + \" \"\n",
    "print(str)"
   ]
  },
  {
   "cell_type": "code",
   "execution_count": null,
   "metadata": {},
   "outputs": [],
   "source": [
    "def idx_function(a,b):\n",
    "    i = 0\n",
    "    j = 0\n",
    "    while i<len(a) and j<len(b):\n",
    "        if a[i] == b[j]:\n",
    "            j +=1\n",
    "        else:\n",
    "            j = 0\n",
    "        i +=1\n",
    "    if j == len(b):\n",
    "        return i - len(b)\n",
    "    else:\n",
    "        return -1\n",
    "    \n",
    "a = 'Peter Piper Picked A Peck Of Pickled Peppers.'\n",
    "b = 'Pickl'\n",
    "c = idx_function(a,b)\n",
    "print(c)\n",
    "\n",
    "\n",
    "m = 'Peter Piper Picked A Peck Of Pickled Peppers.'\n",
    "n = 'Peck'\n",
    "o = idx_function(m,n)\n",
    "print(o)\n",
    "print(len(m))\n",
    "str = '*'*(o - 1) + n + '*'*(len(m) - (o + len(n) -1))\n",
    "print(str)\n",
    "\n",
    "\n",
    "print(m[0:(o-1)] + ' Pack' + m[(o + len(n)):len(m)])\n",
    "\n",
    "\n"
   ]
  },
  {
   "cell_type": "code",
   "execution_count": 8,
   "metadata": {},
   "outputs": [
    {
     "name": "stdout",
     "output_type": "stream",
     "text": [
      "None\n"
     ]
    }
   ],
   "source": [
    "def split_by_del(str, dlmtr):\n",
    "    fin = []\n",
    "    lst = str.split()\n",
    "    tmp = \"\"\n",
    "    for word in lst:\n",
    "        if word == dlmtr:\n",
    "            fin.append(tmp)\n",
    "            tmp = \"\"\n",
    "            fin.append(word)\n",
    "        else:\n",
    "            tmp = tmp + \" \" + word\n",
    "    fin.append(tmp)\n",
    "    for i in range(len(fin)):\n",
    "        fin[i] = fin[i].lstrip()\n",
    "    print(fin)\n",
    "\n",
    "s = \"This is Python class\"\n",
    "d = \"is\"\n",
    "\n",
    "split_by_del(s, d)"
   ]
  },
  {
   "cell_type": "code",
   "execution_count": 14,
   "metadata": {},
   "outputs": [
    {
     "name": "stdout",
     "output_type": "stream",
     "text": [
      "R{vjqp\n"
     ]
    }
   ],
   "source": [
    "a = 'Python'\n",
    "b = ''\n",
    "c = ''\n",
    "for i in range(len(a)):\n",
    "    b = chr(ord(a[i]) + 2)\n",
    "    c += b\n",
    "print(c)\n"
   ]
  },
  {
   "cell_type": "code",
   "execution_count": 15,
   "metadata": {},
   "outputs": [
    {
     "name": "stdout",
     "output_type": "stream",
     "text": [
      "Rwvfql\n"
     ]
    }
   ],
   "source": [
    "a = 'Python'\n",
    "b = ''\n",
    "c = ''\n",
    "for i in range(len(a)):\n",
    "    if(i%2 == 0):\n",
    "        b = chr(ord(a[i]) + 2)\n",
    "        c += b\n",
    "    elif(i%2 != 0):\n",
    "        b = chr(ord(a[i]) - 2)\n",
    "        c += b\n",
    "print(c)\n",
    "    \n",
    "\n"
   ]
  },
  {
   "cell_type": "code",
   "execution_count": 16,
   "metadata": {},
   "outputs": [
    {
     "name": "stdout",
     "output_type": "stream",
     "text": [
      "R{vfml\n"
     ]
    }
   ],
   "source": [
    "a = 'Python'\n",
    "b = ''\n",
    "c = ''\n",
    "for i in range(len(a)):\n",
    "    if(i <= 2):\n",
    "        b = chr(ord(a[i]) + 2)\n",
    "        c += b\n",
    "    elif(i > 2):\n",
    "        b = chr(ord(a[i]) - 2)\n",
    "        c += b\n",
    "print(c)"
   ]
  },
  {
   "cell_type": "code",
   "execution_count": null,
   "metadata": {},
   "outputs": [],
   "source": []
  },
  {
   "cell_type": "code",
   "execution_count": null,
   "metadata": {},
   "outputs": [],
   "source": []
  }
 ],
 "metadata": {
  "kernelspec": {
   "display_name": "Python 3",
   "language": "python",
   "name": "python3"
  },
  "language_info": {
   "codemirror_mode": {
    "name": "ipython",
    "version": 3
   },
   "file_extension": ".py",
   "mimetype": "text/x-python",
   "name": "python",
   "nbconvert_exporter": "python",
   "pygments_lexer": "ipython3",
   "version": "3.8.3"
  }
 },
 "nbformat": 4,
 "nbformat_minor": 4
}
