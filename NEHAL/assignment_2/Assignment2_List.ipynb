{
 "cells": [
  {
   "cell_type": "code",
   "execution_count": null,
   "metadata": {},
   "outputs": [],
   "source": [
    "a = [10,20,30,40]\n",
    "b = 0\n",
    "for i in range(len(a)):\n",
    "    b += a[i]\n",
    "print(b)"
   ]
  },
  {
   "cell_type": "code",
   "execution_count": null,
   "metadata": {},
   "outputs": [],
   "source": [
    "a = [10,20,30,40]\n",
    "b = 1\n",
    "for i in range(len(a)):\n",
    "    b = b*a[i]\n",
    "print(b)\n"
   ]
  },
  {
   "cell_type": "code",
   "execution_count": null,
   "metadata": {},
   "outputs": [],
   "source": [
    "a = [10,100,2321,1,200,2]\n",
    "b = 0\n",
    "for i in range(len(a)):\n",
    "    if b < a[i]:\n",
    "        b = a[i]\n",
    "print(b)"
   ]
  },
  {
   "cell_type": "code",
   "execution_count": null,
   "metadata": {},
   "outputs": [],
   "source": [
    "x = [10,100,2321,1,200,2]\n",
    "y= a[0]\n",
    "for i in range(len(a)):\n",
    "    if y > a[i]:\n",
    "        y = a[i]\n",
    "print(y)"
   ]
  },
  {
   "cell_type": "code",
   "execution_count": null,
   "metadata": {},
   "outputs": [],
   "source": [
    "def palindrome(x):\n",
    "    li = 0\n",
    "    ri = len(x)-1\n",
    "    \n",
    "    while (li < ri):\n",
    "        if x[li] != x[ri]:\n",
    "            return False\n",
    "        li += 1\n",
    "        ri -= 1\n",
    "    return True\n",
    "\n",
    "u = ['ab', 'abc', 'aba', 'xyz', '1991']\n",
    "counter = 0\n",
    "for i in range(len(u)):\n",
    "        if palindrome(u[i]) is True and len(u[i]) > 2:\n",
    "            counter += 1\n",
    "print(counter)"
   ]
  },
  {
   "cell_type": "code",
   "execution_count": null,
   "metadata": {},
   "outputs": [],
   "source": [
    "s = [100,10,1,298,65,483,49876,2,80,9,9213]\n",
    "l = len(s)\n",
    "for i in range(l):\n",
    "    for j in range(i,l):\n",
    "        if s[i] > s[j]:\n",
    "            t = s[i]\n",
    "            s[i] = s[j]\n",
    "            s[j] = t \n",
    "print(s)\n"
   ]
  },
  {
   "cell_type": "code",
   "execution_count": null,
   "metadata": {},
   "outputs": [],
   "source": [
    "a = [(5,4),(9,1),(2,3),(5,9),(7,6),(5,5)]\n",
    "lst = []\n",
    "lst1 = []\n",
    "for i in range(len(a)):\n",
    "    b = a[i][1]\n",
    "    c = a[i][0]\n",
    "    tup = (b,c)\n",
    "    lst.append(tup)\n",
    "lst.sort()\n",
    "print(lst)\n",
    "for j in range(len(lst)):\n",
    "    x = lst[j][1]\n",
    "    y = lst[j][0]\n",
    "    tup1 = (x,y)\n",
    "    lst1.append(tup1)\n",
    "print(lst1)\n",
    "\n",
    "\n",
    "\n"
   ]
  },
  {
   "cell_type": "code",
   "execution_count": null,
   "metadata": {},
   "outputs": [],
   "source": [
    "u = [10,1,11,1,29,876,768,10,11,1,92,29,876]\n",
    "v = []\n",
    "for i in u:\n",
    "    if i not in v:\n",
    "        v.append(i)\n",
    "print(v)"
   ]
  },
  {
   "cell_type": "code",
   "execution_count": null,
   "metadata": {},
   "outputs": [],
   "source": [
    "def empty_list_check(x):\n",
    "    if len(x) == 0:\n",
    "        print(x,\": List is empty\")\n",
    "    else: print(x,\": List is not empty\")\n",
    "\n",
    "a=[]\n",
    "b=[10,20,30]\n",
    "empty_list_check(a)\n",
    "empty_list_check(b)"
   ]
  },
  {
   "cell_type": "code",
   "execution_count": null,
   "metadata": {},
   "outputs": [],
   "source": [
    "m = [10,10.20,10+20j, 'Python', [10,20], (10,20)]\n",
    "n = []\n",
    "\n",
    "for i in m:\n",
    "    n.append(i)\n",
    "print(n)"
   ]
  },
  {
   "cell_type": "code",
   "execution_count": null,
   "metadata": {},
   "outputs": [],
   "source": [
    "e = 'How much wood would a woodchuck chuck if a woodchuck could chuck wood'\n",
    "f =e.split()\n",
    "g =[]\n",
    "for i in f:\n",
    "    if i not in g and len(i) >= 4:\n",
    "        g.append(i)\n",
    "print(g)\n",
    "\n"
   ]
  },
  {
   "cell_type": "code",
   "execution_count": null,
   "metadata": {},
   "outputs": [],
   "source": [
    "x = [10,20,'Python', 10.20, 10+20j, [10,20,30], (10,20,30)]\n",
    "y = [(10,20,30),1,20+3j,100.2, 10+20j, [10,20,30],'Python']\n",
    "counter = 0 \n",
    "for i in x:\n",
    "    if i in y:\n",
    "        counter += 1\n",
    "if counter >= 3:\n",
    "    print(bool(counter))"
   ]
  },
  {
   "cell_type": "code",
   "execution_count": null,
   "metadata": {},
   "outputs": [],
   "source": [
    "x = []\n",
    "for i in range(4):\n",
    "    y=[]\n",
    "    for j in range(4):\n",
    "        y.append(i*j)\n",
    "    x.append(y)\n",
    "print(x)\n",
    "\n",
    "z=[[(i*j) for j in range(4)] for i in range(4)]\n",
    "print(z)"
   ]
  },
  {
   "cell_type": "code",
   "execution_count": null,
   "metadata": {},
   "outputs": [],
   "source": [
    "r = []\n",
    "for i in range(3):\n",
    "    s =[]\n",
    "    for j in range(4):\n",
    "        t = []\n",
    "        for k in range(6):\n",
    "            t.append(i*j)\n",
    "        s.append(t)\n",
    "    r.append(s)\n",
    "print(r)\n",
    "\n",
    "u = [[[(i*j) for k in range(6)] for j in range(4)] for i in range(3)]\n",
    "print(u)\n"
   ]
  },
  {
   "cell_type": "code",
   "execution_count": null,
   "metadata": {},
   "outputs": [],
   "source": [
    "l = [10,21,22,98,87,45,33,1,2,100]\n",
    "m = []\n",
    "for i in l:\n",
    "    if i%2 != 0:\n",
    "        m.append(i)\n",
    "print(m)\n"
   ]
  },
  {
   "cell_type": "code",
   "execution_count": null,
   "metadata": {},
   "outputs": [],
   "source": [
    "import random\n",
    "a = [10,21,22,98,87,45,33,1,2,100]\n",
    "random.shuffle(a)\n",
    "print(a)\n"
   ]
  },
  {
   "cell_type": "code",
   "execution_count": null,
   "metadata": {},
   "outputs": [],
   "source": []
  },
  {
   "cell_type": "code",
   "execution_count": null,
   "metadata": {},
   "outputs": [],
   "source": []
  }
 ],
 "metadata": {
  "kernelspec": {
   "display_name": "Python 3",
   "language": "python",
   "name": "python3"
  },
  "language_info": {
   "codemirror_mode": {
    "name": "ipython",
    "version": 3
   },
   "file_extension": ".py",
   "mimetype": "text/x-python",
   "name": "python",
   "nbconvert_exporter": "python",
   "pygments_lexer": "ipython3",
   "version": "3.8.3"
  }
 },
 "nbformat": 4,
 "nbformat_minor": 4
}
