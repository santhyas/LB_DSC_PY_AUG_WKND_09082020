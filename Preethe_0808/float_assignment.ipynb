{
  "nbformat": 4,
  "nbformat_minor": 0,
  "metadata": {
    "colab": {
      "name": "Copy of float_assignment.ipynb",
      "provenance": []
    },
    "kernelspec": {
      "name": "python3",
      "display_name": "Python 3"
    }
  },
  "cells": [
    {
      "cell_type": "code",
      "metadata": {
        "id": "dlrMB-Qy2taV",
        "colab_type": "code",
        "colab": {
          "base_uri": "https://localhost:8080/",
          "height": 50
        },
        "outputId": "051fb0df-3bfd-4f84-bbcc-1442459c12bc"
      },
      "source": [
        "#Declare a float value and store it in a variable. \n",
        "flvar = 2.3\n",
        "\n",
        "\n",
        "\n",
        "\n",
        "#Check the type and print the id of the same.\n",
        "print(type(flvar))\n",
        "print(id(flvar))\n",
        "\n"
      ],
      "execution_count": null,
      "outputs": [
        {
          "output_type": "stream",
          "text": [
            "<class 'float'>\n",
            "139700166419704\n"
          ],
          "name": "stdout"
        }
      ]
    },
    {
      "cell_type": "code",
      "metadata": {
        "id": "IL4fVDHg2wbI",
        "colab_type": "code",
        "colab": {
          "base_uri": "https://localhost:8080/",
          "height": 134
        },
        "outputId": "d0e153ef-f986-4d40-cb24-3553207c8f64"
      },
      "source": [
        "#Arithmatic Operations on float\n",
        "#Take two different float values.\n",
        "#Store them in two different variables.\n",
        "\n",
        "#Do below operations on them:-\n",
        "    #Find sum of both numbers\n",
        "\n",
        "    #Find differce between them\n",
        "    #Find the product of both numbers.\n",
        "\n",
        "    #Find value after dividing first num with second number\n",
        "\n",
        "    #Find the remainder after dividing first number with second number\n",
        "\n",
        "    #Find the quotient after dividing first number with second number\n",
        "\n",
        "    #Find the result of first num to the power of second number.\n",
        "flvar1 = 5.3\n",
        "flvar2 = 2.4\n",
        "print(flvar1+flvar2)\n",
        "print(flvar1-flvar2)\n",
        "print(flvar1*flvar2)\n",
        "print(flvar1/flvar2)\n",
        "print(flvar1//flvar2)\n",
        "print(flvar1%flvar2)\n",
        "print(flvar2**flvar1)\n"
      ],
      "execution_count": null,
      "outputs": [
        {
          "output_type": "stream",
          "text": [
            "7.699999999999999\n",
            "2.9\n",
            "12.719999999999999\n",
            "2.2083333333333335\n",
            "2.0\n",
            "0.5\n",
            "103.54272277560776\n"
          ],
          "name": "stdout"
        }
      ]
    },
    {
      "cell_type": "code",
      "metadata": {
        "id": "atCFaH6c2492",
        "colab_type": "code",
        "colab": {
          "base_uri": "https://localhost:8080/",
          "height": 84
        },
        "outputId": "2f45cd56-8ed8-4323-8734-5999af4d9066"
      },
      "source": [
        "#Comparison Operators on float\n",
        "#Take two different float values.\n",
        "#Store them in two different variables.\n",
        "\n",
        "#Do below operations on them:-\n",
        "    #Compare these two numbers with below operator:-\n",
        "        #Greater than, '>'\n",
        "\n",
        "        #Smaller than, '<'\n",
        "\n",
        "        #Greater than or equal to, '>='\n",
        "\n",
        "        #Less than or equal to, '<='\n",
        "\n",
        "#Observe their output(return type should be boolean)\n",
        "flvar1 = 10.5\n",
        "flvar2 = 5.4\n",
        "print(flvar1>flvar2)\n",
        "print(flvar1<flvar2)\n",
        "print(flvar1>=flvar2)\n",
        "print(flvar1<=flvar2)\n",
        "\n",
        "\n",
        "\n",
        "\n",
        "\n",
        "\n"
      ],
      "execution_count": null,
      "outputs": [
        {
          "output_type": "stream",
          "text": [
            "True\n",
            "False\n",
            "True\n",
            "False\n"
          ],
          "name": "stdout"
        }
      ]
    },
    {
      "cell_type": "code",
      "metadata": {
        "id": "agi3U3863A5i",
        "colab_type": "code",
        "colab": {
          "base_uri": "https://localhost:8080/",
          "height": 50
        },
        "outputId": "62a05488-c246-48f2-bf51-7cf59f281c55"
      },
      "source": [
        "#Equality Operator\n",
        "#Take two different float values.\n",
        "#Store them in two different variables.\n",
        "\n",
        "#Equuate them using equality operator (==, !=)\n",
        "\n",
        "#Observe the output(return type should be boolean)\n",
        "\n",
        "flvar1 =  5.55\n",
        "flvar2 = 5.555555555\n",
        "print(flvar1==flvar2)\n",
        "print(flvar1!=flvar2)\n",
        "\n",
        "\n",
        "\n",
        "\n"
      ],
      "execution_count": null,
      "outputs": [
        {
          "output_type": "stream",
          "text": [
            "False\n",
            "True\n"
          ],
          "name": "stdout"
        }
      ]
    },
    {
      "cell_type": "code",
      "metadata": {
        "id": "3HLlgaEt3EnJ",
        "colab_type": "code",
        "colab": {
          "base_uri": "https://localhost:8080/",
          "height": 185
        },
        "outputId": "510734ac-b418-466d-db94-6ac71c25451f"
      },
      "source": [
        "#Logical operators\n",
        "#Observe the output of below code\n",
        "#Cross check the output manually\n",
        "\n",
        "print(10.20 and 20.30)       #both are true and second value taken >Output is 20.3\n",
        "print(0.0 and 20.30)         #First is false so first value taken->Output is 0.0\n",
        "print(20.30 and 0.0)         #Goes to till second and second value is false so second is taken>Output is 0.0\n",
        "print(0.0 and 0.0)           #First is false so first value is taken->Output is 0.0\n",
        "\n",
        "print(10.20 or 20.30)        #First is True so first value is taken>Output is 10.2\n",
        "print(0.0 or 20.30)          #Goes to till second and second is true second value is taken->Output is 20.3\n",
        "print(20.30 or 0.0)          #First is True so first value is taken->Output is 20.3\n",
        "print(0.0 or 0.0)            #Goes to till second and secod is also false and second value is taken>Output is 0.0\n",
        "\n",
        "print(not 10.20)             #-Not of true is false->Output is False\n",
        "print(not 0.0)               #Not of false is True>Output is True"
      ],
      "execution_count": null,
      "outputs": [
        {
          "output_type": "stream",
          "text": [
            "20.3\n",
            "0.0\n",
            "0.0\n",
            "0.0\n",
            "10.2\n",
            "20.3\n",
            "20.3\n",
            "0.0\n",
            "False\n",
            "True\n"
          ],
          "name": "stdout"
        }
      ]
    },
    {
      "cell_type": "code",
      "metadata": {
        "id": "7YdyRNtk3UZd",
        "colab_type": "code",
        "colab": {
          "base_uri": "https://localhost:8080/",
          "height": 50
        },
        "outputId": "84bf1bcc-b1da-463d-9458-5ee10b1d6836"
      },
      "source": [
        "#What is the output of expression inside print statement. Cross check before running the program.\n",
        "a = 10.20\n",
        "b = 10.20\n",
        "print(a is b)          #True or False? True 10.20<256\n",
        "print(a is not b)      #True or False? False\n",
        "\n",
        "\n",
        "# Why the Id of float values are different when the same value is assigned to two different variables\n",
        "# ex: a = 10.5 b=10.5. but id will be same if I assign the variable having float i.e. a=c then both a anc c's\n",
        "# Id are same\n"
      ],
      "execution_count": null,
      "outputs": [
        {
          "output_type": "stream",
          "text": [
            "False\n",
            "True\n"
          ],
          "name": "stdout"
        }
      ]
    },
    {
      "cell_type": "code",
      "metadata": {
        "id": "iTvnIMLd3VLW",
        "colab_type": "code",
        "colab": {}
      },
      "source": [
        "#Bitwise operation is not applicable between instances of float.\n",
        "## Why the Id of float values are different when the same value is assigned to two different variables\n",
        "## ex: a = 10.5 b=10.5. but id will be same if I assign the variable having float i.e. a=c then both a anc c's\n",
        "## Id are same\n",
        "#Object reusability concept is not applicable on float values."
      ],
      "execution_count": null,
      "outputs": []
    },
    {
      "cell_type": "code",
      "metadata": {
        "id": "29AVJHpx3YUo",
        "colab_type": "code",
        "colab": {
          "base_uri": "https://localhost:8080/",
          "height": 118
        },
        "outputId": "137c9afc-49f1-4d36-b2ce-72631f92786a"
      },
      "source": [
        "#Membership operation\n",
        "#in, not in are two membership operators and it returns boolean value\n",
        "\n",
        "print('2.7' in 'Python2.7.8')              #True\n",
        "print(10.20 in [10,10.20,10+20j,'Python']) #True\n",
        "print(10.20 in (10,10.20,10+20j,'Python')) # True\n",
        "print(20.30 in {1,20.30,30+40j})           # True\n",
        "print(2.3 in {1:100, 2.3:200, 30+40j:300}) # True\n",
        "print(10 in range(20))                     # True"
      ],
      "execution_count": null,
      "outputs": [
        {
          "output_type": "stream",
          "text": [
            "True\n",
            "True\n",
            "True\n",
            "True\n",
            "True\n",
            "True\n"
          ],
          "name": "stdout"
        }
      ]
    }
  ]
}