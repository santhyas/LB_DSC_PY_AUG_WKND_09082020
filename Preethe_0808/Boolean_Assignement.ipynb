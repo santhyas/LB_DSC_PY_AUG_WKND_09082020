{
  "nbformat": 4,
  "nbformat_minor": 0,
  "metadata": {
    "colab": {
      "name": "Copy of Boolean_Assignement.ipynb",
      "provenance": [],
      "collapsed_sections": []
    },
    "kernelspec": {
      "name": "python3",
      "display_name": "Python 3"
    }
  },
  "cells": [
    {
      "cell_type": "code",
      "metadata": {
        "id": "7JIFn6BP4M0R",
        "colab_type": "code",
        "colab": {
          "base_uri": "https://localhost:8080/",
          "height": 50
        },
        "outputId": "04763a11-4558-4d09-b16f-a559d95fe2bd"
      },
      "source": [
        "#Declare a boolean value and store it in a variable. \n",
        "bolvar = bool(1)\n",
        "\n",
        "\n",
        "#Check the type and print the id of the same.\n",
        "print(type(bolvar))\n",
        "print(id(bolvar))\n",
        "\n"
      ],
      "execution_count": null,
      "outputs": [
        {
          "output_type": "stream",
          "text": [
            "<class 'bool'>\n",
            "10302848\n"
          ],
          "name": "stdout"
        }
      ]
    },
    {
      "cell_type": "code",
      "metadata": {
        "id": "o9bjjhN64kAP",
        "colab_type": "code",
        "colab": {
          "base_uri": "https://localhost:8080/",
          "height": 50
        },
        "outputId": "7b94cb6d-968e-458f-a2cf-4efc6233b4b4"
      },
      "source": [
        "#Take one boolean value between 0 - 256.\n",
        "#Assign it to two different variables.\n",
        "bolvar1 = bool(1)\n",
        "bolvar2 = bool(1)\n",
        "\n",
        "#Check the id of both the variables. It should come same. Check why?\n",
        "print(id(bolvar1))\n",
        "print(id(bolvar2))\n",
        "\n",
        "\n",
        "\n",
        "\n"
      ],
      "execution_count": null,
      "outputs": [
        {
          "output_type": "stream",
          "text": [
            "10302848\n",
            "10302848\n"
          ],
          "name": "stdout"
        }
      ]
    },
    {
      "cell_type": "code",
      "metadata": {
        "id": "yr4ETGSf4l5y",
        "colab_type": "code",
        "colab": {
          "base_uri": "https://localhost:8080/",
          "height": 134
        },
        "outputId": "6c40815b-bcdd-4152-f407-8fc9bd36f2fc"
      },
      "source": [
        "#Arithmatic Operations on boolean data\n",
        "#Take two different boolean values.\n",
        "#Store them in two different variables.\n",
        "\n",
        "bolvar1 = bool(1)\n",
        "bolvar2 = bool(5)\n",
        "\n",
        "#Do below operations on them:-\n",
        "    #Find sum of both values\n",
        "    \n",
        "\n",
        "\n",
        "    #Find differce between them\n",
        "\n",
        "\n",
        "\n",
        "    #Find the product of both.\n",
        "\n",
        "\n",
        "\n",
        "    #Find value after dividing first value with second value\n",
        "    \n",
        "\n",
        "    \n",
        "    #Find the remainder after dividing first value with second value\n",
        "    \n",
        "\n",
        "    \n",
        "    #Find the quotient after dividing first value with second value\n",
        "    \n",
        "\n",
        "    \n",
        "    #Find the result of first value to the power of second value.\n",
        "    \n",
        "print((bolvar1+bolvar2))\n",
        "print((bolvar1-bolvar2))\n",
        "print((bolvar1*bolvar2))\n",
        "print((bolvar1/bolvar2))\n",
        "print((bolvar1//bolvar2))\n",
        "print((bolvar1%bolvar2))\n",
        "print((bolvar2**bolvar1))\n",
        "\n",
        "\n",
        "\n",
        "\n",
        "    "
      ],
      "execution_count": null,
      "outputs": [
        {
          "output_type": "stream",
          "text": [
            "2\n",
            "0\n",
            "1\n",
            "1.0\n",
            "1\n",
            "0\n",
            "1\n"
          ],
          "name": "stdout"
        }
      ]
    },
    {
      "cell_type": "code",
      "metadata": {
        "id": "xG4mX84E4n2O",
        "colab_type": "code",
        "colab": {
          "base_uri": "https://localhost:8080/",
          "height": 84
        },
        "outputId": "dc34dc05-fc53-4742-c262-b8fd4555e1b8"
      },
      "source": [
        "#Comparison Operators on boolean values\n",
        "#Take two different boolean values.\n",
        "#Store them in two different variables.\n",
        "\n",
        "\n",
        "\n",
        "#Do below operations on them:-\n",
        "    #Compare these two values with below operator:-\n",
        "        #Greater than, '>'\n",
        "    \n",
        "\n",
        "\n",
        "        #less than, '<'\n",
        "    \n",
        "\n",
        "        #Greater than or equal to, '>='\n",
        "\n",
        "\n",
        "        #Less than or equal to, '<='    \n",
        "\n",
        "\n",
        "#Observe their output(return type should be boolean)\n",
        "bolvar1 = bool(1)\n",
        "bolvar2 = bool(0)\n",
        "print((bolvar1>bolvar2))\n",
        "print((bolvar1<bolvar2))\n",
        "print((bolvar1>=bolvar2))\n",
        "print((bolvar1<=bolvar2))\n",
        "\n",
        "\n",
        "\n",
        "\n",
        "\n",
        "\n"
      ],
      "execution_count": null,
      "outputs": [
        {
          "output_type": "stream",
          "text": [
            "True\n",
            "False\n",
            "True\n",
            "False\n"
          ],
          "name": "stdout"
        }
      ]
    },
    {
      "cell_type": "code",
      "metadata": {
        "id": "TUIo2Z9V4qBJ",
        "colab_type": "code",
        "colab": {
          "base_uri": "https://localhost:8080/",
          "height": 50
        },
        "outputId": "d11ec85c-90df-4457-e9d9-9395c4af57ab"
      },
      "source": [
        "#Equality Operator\n",
        "#Take two different boolean values.\n",
        "#Store them in two different variables.\n",
        "\n",
        "\n",
        "\n",
        "#Equuate them using equality operator (==, !=)\n",
        "\n",
        "\n",
        "\n",
        "#Observe the output(return type should be boolean)\n",
        "\n",
        "bolvar1 = bool(1)\n",
        "bolvar2 = bool(0)\n",
        "print((bolvar1==bolvar2))\n",
        "print((bolvar1!=bolvar2))\n",
        "\n",
        "\n",
        "\n",
        "\n"
      ],
      "execution_count": null,
      "outputs": [
        {
          "output_type": "stream",
          "text": [
            "False\n",
            "True\n"
          ],
          "name": "stdout"
        }
      ]
    },
    {
      "cell_type": "code",
      "metadata": {
        "id": "XukEq5E44rxv",
        "colab_type": "code",
        "colab": {
          "base_uri": "https://localhost:8080/",
          "height": 185
        },
        "outputId": "81218b11-919d-4b46-a2ad-6c1d42a6dd72"
      },
      "source": [
        "#Logical operators\n",
        "#Observe the output of below code\n",
        "#Cross check the output manually\n",
        "\n",
        "print(True and True)        #----------------------------------------->Output is True\n",
        "print(False and True)        #----------------------------------------->Output is False\n",
        "print(True and False)        #----------------------------------------->Output is False\n",
        "print(False and False)       #----------------------------------------->Output is False\n",
        "\n",
        "print(True or True)          #----------------------------------------->Output is True\n",
        "print(False or True)         #----------------------------------------->Output is True\n",
        "print(True or False)         #----------------------------------------->Output is True\n",
        "print(False or False)        #----------------------------------------->Output is False\n",
        "\n",
        "print(not True)              #----------------------------------------->Output is False\n",
        "print(not False)             #----------------------------------------->Output is True"
      ],
      "execution_count": null,
      "outputs": [
        {
          "output_type": "stream",
          "text": [
            "True\n",
            "False\n",
            "False\n",
            "False\n",
            "True\n",
            "True\n",
            "True\n",
            "False\n",
            "False\n",
            "True\n"
          ],
          "name": "stdout"
        }
      ]
    },
    {
      "cell_type": "code",
      "metadata": {
        "id": "02jPgt094vK-",
        "colab_type": "code",
        "colab": {
          "base_uri": "https://localhost:8080/",
          "height": 118
        },
        "outputId": "502dcb49-b3af-4332-d3ff-00cc7e79ed43"
      },
      "source": [
        "#Bitwise Operators\n",
        "#Do below operations on the values provided below:-\n",
        "    #Bitwise and(&) -----------------------------------------> True, True    -------> Output is True\n",
        "    \n",
        "\n",
        "\n",
        "    #Bitwise or(|)  -----------------------------------------> True, False   -------> Output is True\n",
        "\n",
        "\n",
        "\n",
        "    #Bitwise(^)     -----------------------------------------> True, False   -------> Output is True\n",
        "\n",
        "  \n",
        "\n",
        "    #Bitwise negation(~) ------------------------------------> True          -------> Output is -2\n",
        "\n",
        "   \n",
        "\n",
        "    #Bitwise left shift  ------------------------------------> True,2        -------> Output is 4\n",
        "\n",
        "\n",
        "\n",
        "    #Bitwise right shift ------------------------------------> True,2        -------> Output is 0\n",
        "\n",
        "\n",
        "\n",
        "#Cross check the output manually\n",
        "print(True&True)\n",
        "print(True|False)\n",
        "print(True^False)\n",
        "print(~True)\n",
        "print(True<<2)\n",
        "print(True>>2)\n",
        "\n",
        "\n",
        "\n"
      ],
      "execution_count": null,
      "outputs": [
        {
          "output_type": "stream",
          "text": [
            "True\n",
            "True\n",
            "True\n",
            "-2\n",
            "4\n",
            "0\n"
          ],
          "name": "stdout"
        }
      ]
    },
    {
      "cell_type": "code",
      "metadata": {
        "id": "cy5i7sWz4v_c",
        "colab_type": "code",
        "colab": {
          "base_uri": "https://localhost:8080/",
          "height": 84
        },
        "outputId": "009db238-59cb-4144-bdd5-a19c0b369a03"
      },
      "source": [
        "#What is the output of expression inside print statement. Cross check before running the program.\n",
        "a = True\n",
        "b = True\n",
        "print(a is b)          #True or False?   #\n",
        "print(a is not b)      #True or False?\n",
        "\n",
        "a = False\n",
        "b = False\n",
        "print(a is b)          #True or False?\n",
        "print(a is not b)      #True or False?\n"
      ],
      "execution_count": null,
      "outputs": [
        {
          "output_type": "stream",
          "text": [
            "True\n",
            "False\n",
            "True\n",
            "False\n"
          ],
          "name": "stdout"
        }
      ]
    },
    {
      "cell_type": "code",
      "metadata": {
        "id": "AOcPQi8544M-",
        "colab_type": "code",
        "colab": {
          "base_uri": "https://localhost:8080/",
          "height": 101
        },
        "outputId": "23ed405d-fe35-4095-ccb5-3e6adb24bc7d"
      },
      "source": [
        "#Membership operation\n",
        "#in, not in are two membership operators and it returns boolean value\n",
        "\n",
        "print(True in [10,10.20,10+20j,'Python', True])\n",
        "print(False in (10,10.20,10+20j,'Python', False))\n",
        "print(True in {1,2,3, True})\n",
        "print(True in {True:100, False:200, True:300})\n",
        "print(False in {True:100, False:200, True:300})"
      ],
      "execution_count": null,
      "outputs": [
        {
          "output_type": "stream",
          "text": [
            "True\n",
            "True\n",
            "True\n",
            "True\n",
            "True\n"
          ],
          "name": "stdout"
        }
      ]
    },
    {
      "cell_type": "code",
      "metadata": {
        "id": "MPa1Lpco46Ja",
        "colab_type": "code",
        "colab": {}
      },
      "source": [
        ""
      ],
      "execution_count": null,
      "outputs": []
    }
  ]
}