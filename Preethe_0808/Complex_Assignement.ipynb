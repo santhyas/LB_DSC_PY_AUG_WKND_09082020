{
  "nbformat": 4,
  "nbformat_minor": 0,
  "metadata": {
    "colab": {
      "name": "Copy of Complex_Assignement.ipynb",
      "provenance": []
    },
    "kernelspec": {
      "name": "python3",
      "display_name": "Python 3"
    }
  },
  "cells": [
    {
      "cell_type": "code",
      "metadata": {
        "id": "JoMbQLjK3uHZ",
        "colab_type": "code",
        "colab": {
          "base_uri": "https://localhost:8080/",
          "height": 50
        },
        "outputId": "18327dae-38cf-4d0f-e421-91b1560a7ea4"
      },
      "source": [
        "#Declare a complex number and store it in a variable. \n",
        "\n",
        "complx = 2+10j\n",
        "\n",
        "\n",
        "\n",
        "#Check the type and print the id of the same.\n",
        "print(type(complx))\n",
        "print(id(complx))\n"
      ],
      "execution_count": null,
      "outputs": [
        {
          "output_type": "stream",
          "text": [
            "<class 'complex'>\n",
            "140126005576784\n"
          ],
          "name": "stdout"
        }
      ]
    },
    {
      "cell_type": "code",
      "metadata": {
        "id": "6N6Ee4BU33jk",
        "colab_type": "code",
        "colab": {
          "base_uri": "https://localhost:8080/",
          "height": 101
        },
        "outputId": "e84900a7-fad0-4b98-b426-d15bf9bb116e"
      },
      "source": [
        "#Arithmatic Operations on complex number\n",
        "#Take two different complex number.\n",
        "#Store them in two different variables.\n",
        "#Do below operations on them:-\n",
        "    #Find sum of both numbers\n",
        "    #Find differce between them\n",
        "    #Find the product of both numbers.\n",
        "    #Find value after dividing first num with second number\n",
        "    #Find the result of first num to the power of second number.\n",
        "Complx1 = 2+10j\n",
        "Complx2 = 1+7j\n",
        "sumComplx = Complx1 + Complx2\n",
        "diffComplx = Complx1 - Complx2\n",
        "prodComplx = Complx1 * Complx2\n",
        "divComplx = Complx1 / Complx2\n",
        "powComplx = Complx1 ** Complx2\n",
        "print(sumComplx)\n",
        "print(diffComplx)\n",
        "print(prodComplx)\n",
        "print(divComplx)\n",
        "print(powComplx)\n"
      ],
      "execution_count": null,
      "outputs": [
        {
          "output_type": "stream",
          "text": [
            "(3+17j)\n",
            "(1+3j)\n",
            "(-68+24j)\n",
            "(1.44-0.08000000000000002j)\n",
            "(0.00023359838909786676-0.0006399271129552308j)\n"
          ],
          "name": "stdout"
        }
      ]
    },
    {
      "cell_type": "code",
      "metadata": {
        "id": "xhkdg7LD352y",
        "colab_type": "code",
        "colab": {}
      },
      "source": [
        "#Comparison Operation not applicable between instance of complex values\n",
        "#Object reusability concept is not applicable on complex numebr\n",
        "\n"
      ],
      "execution_count": null,
      "outputs": []
    },
    {
      "cell_type": "code",
      "metadata": {
        "id": "4lzPH2sb38KM",
        "colab_type": "code",
        "colab": {
          "base_uri": "https://localhost:8080/",
          "height": 50
        },
        "outputId": "1ba6ab57-1061-4f1a-9139-388cc4f87ffc"
      },
      "source": [
        "#Equality Operator\n",
        "#Take two different complex numbers.\n",
        "#Store them in two different variables.\n",
        "#Equuate them using equality operator (==, !=)\n",
        "#Observe the output(return type should be boolean)\n",
        "Complx1 = 2+10j\n",
        "Complx2 = 1+7j\n",
        "opVal = (Complx1 == Complx2)\n",
        "print(opVal)\n",
        "opVal = (Complx1 != Complx2)\n",
        "print(opVal)\n",
        "\n",
        "\n"
      ],
      "execution_count": null,
      "outputs": [
        {
          "output_type": "stream",
          "text": [
            "False\n",
            "True\n"
          ],
          "name": "stdout"
        }
      ]
    },
    {
      "cell_type": "code",
      "metadata": {
        "id": "EDEl19UD3_tr",
        "colab_type": "code",
        "colab": {
          "base_uri": "https://localhost:8080/",
          "height": 185
        },
        "outputId": "2a706b40-aa5f-465b-95df-4ff3c7d35709"
      },
      "source": [
        "#Logical operators\n",
        "#Observe the output of below code\n",
        "#Cross check the output manually\n",
        "\n",
        "print(10+20j and 20+30j)    #20+30j    #----------------------------------------->Output is 20+30j\n",
        "print(0+0j and 20+30j)      #0+0j    #----------------------------------------->Output is 0j\n",
        "print(20+30j and 0+0j)      #0+0j   #----------------------------------------->Output is 0j\n",
        "print(0+0j and 0+0j)        #0+0j   #----------------------------------------->Output is 0j\n",
        "\n",
        "print(10+20j or 20+30j)     #10+20j   #----------------------------------------->Output is 10+20j\n",
        "print(0+0j or 20+30j)       #20+30j   #----------------------------------------->Output is 20+30j\n",
        "print(20+30j or 0+0j)       #20+30j  #----------------------------------------->Output is 20+30j\n",
        "print(0+0j or 0+0j)         #0+0j   #----------------------------------------->Output is 0j\n",
        "\n",
        "print(not 10+20j)           #False   #----------------------------------------->Output is False\n",
        "print(not 0+0j)             #True   #----------------------------------------->Output is True"
      ],
      "execution_count": null,
      "outputs": [
        {
          "output_type": "stream",
          "text": [
            "(20+30j)\n",
            "0j\n",
            "0j\n",
            "0j\n",
            "(10+20j)\n",
            "(20+30j)\n",
            "(20+30j)\n",
            "0j\n",
            "False\n",
            "True\n"
          ],
          "name": "stdout"
        }
      ]
    },
    {
      "cell_type": "code",
      "metadata": {
        "id": "4ifueKbP4Br1",
        "colab_type": "code",
        "colab": {
          "base_uri": "https://localhost:8080/",
          "height": 50
        },
        "outputId": "46042a9d-b665-4bdc-fd49-db20e7ba1bd3"
      },
      "source": [
        "#What is the output of expression inside print statement. Cross check before running the program.\n",
        "a = 10+20j\n",
        "b = 10+20j\n",
        "print(a is b)       #False   #True or False?\n",
        "print(a is not b)   #True   #True or False?\n"
      ],
      "execution_count": null,
      "outputs": [
        {
          "output_type": "stream",
          "text": [
            "False\n",
            "True\n"
          ],
          "name": "stdout"
        }
      ]
    },
    {
      "cell_type": "code",
      "metadata": {
        "id": "TxMbr5jQ4Dwl",
        "colab_type": "code",
        "colab": {
          "base_uri": "https://localhost:8080/",
          "height": 118
        },
        "outputId": "c9407318-a24f-449f-aa26-d46c2147d57c"
      },
      "source": [
        "#Membership operation\n",
        "#in, not in are two membership operators and it returns boolean value\n",
        "\n",
        "print('2.7' in 'Python2.7.8')                      #True\n",
        "print(10+20j in [10,10.20,10+20j,'Python'])        #True\n",
        "print(10+20j in (10,10.20,10+20j,'Python'))        #True\n",
        "print(30+40j in {1,20.30,30+40j})                  #True\n",
        "print(30+40j in {1:100, 2.3:200, 30+40j:300})      #True\n",
        "print(10 in range(20))                             #True"
      ],
      "execution_count": null,
      "outputs": [
        {
          "output_type": "stream",
          "text": [
            "True\n",
            "True\n",
            "True\n",
            "True\n",
            "True\n",
            "True\n"
          ],
          "name": "stdout"
        }
      ]
    }
  ]
}