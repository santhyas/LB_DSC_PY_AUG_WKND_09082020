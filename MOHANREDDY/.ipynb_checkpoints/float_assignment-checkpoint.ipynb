{
 "cells": [
  {
   "cell_type": "code",
   "execution_count": 1,
   "metadata": {},
   "outputs": [
    {
     "name": "stdout",
     "output_type": "stream",
     "text": [
      "<class 'float'>\n",
      "2184143334352\n"
     ]
    }
   ],
   "source": [
    "#Declare a float value and store it in a variable,and checking type, id of the varibale\n",
    "\n",
    "a = 10.20\n",
    "print(type(a))\n",
    "print(id(a))"
   ]
  },
  {
   "cell_type": "code",
   "execution_count": 1,
   "metadata": {},
   "outputs": [
    {
     "name": "stdout",
     "output_type": "stream",
     "text": [
      "57.497\n",
      "-6.7570000000000014\n",
      "815.0619900000002\n",
      "0.789678463597597\n",
      "25.37\n",
      "0.0\n",
      "1.3079876711635846e+45\n"
     ]
    }
   ],
   "source": [
    "#Arithmatic Operations on float\n",
    "\n",
    "a = 25.37\n",
    "b = 32.127\n",
    "\n",
    "\n",
    "# Sum of a and b\n",
    "c = a+b\n",
    "print(c)\n",
    "\n",
    "# Difference of a and b\n",
    "d = a-b\n",
    "print(d)\n",
    "\n",
    "# product of a and b\n",
    "e = a*b\n",
    "print(e)\n",
    "\n",
    "# Division of a and b\n",
    "f = a/b\n",
    "print(f)\n",
    "\n",
    "# Reminder of a and b\n",
    "g = a%b\n",
    "print(g)\n",
    "\n",
    "# Quotient of a and b\n",
    "h = a//b\n",
    "print(h)\n",
    "\n",
    "\n",
    "# Power of a and b\n",
    "i = a**b\n",
    "print(i)"
   ]
  },
  {
   "cell_type": "code",
   "execution_count": 3,
   "metadata": {},
   "outputs": [
    {
     "name": "stdout",
     "output_type": "stream",
     "text": [
      "True\n",
      "False\n",
      "True\n",
      "False\n",
      "False\n",
      "True\n"
     ]
    }
   ],
   "source": [
    "#Comparison Operators on float\n",
    "\n",
    "a =  16.5\n",
    "b = 19.27\n",
    "\n",
    "print(a < b)\n",
    "print(a > b)\n",
    "print(a <= b)\n",
    "print(a >= b)\n",
    "\n",
    "#Equality Operator\n",
    "print(a == b)\n",
    "print(a != b)"
   ]
  },
  {
   "cell_type": "code",
   "execution_count": 11,
   "metadata": {},
   "outputs": [
    {
     "name": "stdout",
     "output_type": "stream",
     "text": [
      "20.3\n",
      "0.0\n",
      "0.0\n",
      "0.0\n",
      "10.2\n",
      "10.2\n",
      "10.2\n",
      "0.0\n",
      "10.0\n",
      "10.2\n",
      "False\n",
      "True\n"
     ]
    }
   ],
   "source": [
    "#Logical operators\n",
    "\n",
    "#and operators\n",
    "print(10.20 and 20.30)\n",
    "print(0.0 and 10.20)\n",
    "print(0.0 and 0.0)\n",
    "print(10.0 and 0.0)\n",
    "print(10.20 and 10.20)\n",
    "\n",
    "#or operators\n",
    "print(10.20 or 20.30)\n",
    "print(0.0 or 10.20)\n",
    "print(0.0 or 0.0)\n",
    "print(10.0 or 0.0)\n",
    "print(10.20 or 10.20)\n",
    "\n",
    "#not operators\n",
    "print(not 20.30)\n",
    "print(not 0.0)\n"
   ]
  },
  {
   "cell_type": "code",
   "execution_count": 41,
   "metadata": {},
   "outputs": [
    {
     "name": "stdout",
     "output_type": "stream",
     "text": [
      "2234077151568\n",
      "2234077154768\n",
      "2234077151568\n",
      "False\n"
     ]
    }
   ],
   "source": [
    "#is and is not operators\n",
    "\n",
    "x = 5.7\n",
    "y = 5.7\n",
    "z = x\n",
    "print(id(x))\n",
    "print(id(y))\n",
    "print(id(z))\n",
    "print( z is y)\n"
   ]
  },
  {
   "cell_type": "code",
   "execution_count": 48,
   "metadata": {},
   "outputs": [
    {
     "name": "stdout",
     "output_type": "stream",
     "text": [
      "True\n",
      "True\n",
      "True\n"
     ]
    }
   ],
   "source": [
    "#Membership operation\n",
    "\n",
    "#in operators\n",
    "\n",
    "print('2' in 'mohan123.ad@gamil.com')\n",
    "print(10.30 in [10.30, 10+20j, 'mohan'])\n",
    "\n",
    "#not in operators\n",
    "print(10 not in [10.20, 25, ' reddy'])\n"
   ]
  }
 ],
 "metadata": {
  "kernelspec": {
   "display_name": "Python 3",
   "language": "python",
   "name": "python3"
  },
  "language_info": {
   "codemirror_mode": {
    "name": "ipython",
    "version": 3
   },
   "file_extension": ".py",
   "mimetype": "text/x-python",
   "name": "python",
   "nbconvert_exporter": "python",
   "pygments_lexer": "ipython3",
   "version": "3.8.3"
  }
 },
 "nbformat": 4,
 "nbformat_minor": 4
}
