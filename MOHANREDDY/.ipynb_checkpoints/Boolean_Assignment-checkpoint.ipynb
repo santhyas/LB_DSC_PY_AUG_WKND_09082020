{
 "cells": [
  {
   "cell_type": "code",
   "execution_count": 1,
   "metadata": {},
   "outputs": [
    {
     "name": "stdout",
     "output_type": "stream",
     "text": [
      "140728563132240\n",
      "<class 'bool'>\n"
     ]
    }
   ],
   "source": [
    "#Declare a float value and store it in a variable,and checking type, id of the varibale\n",
    "a = True\n",
    "print(id(a))\n",
    "print(type(a))"
   ]
  },
  {
   "cell_type": "code",
   "execution_count": 2,
   "metadata": {},
   "outputs": [
    {
     "name": "stdout",
     "output_type": "stream",
     "text": [
      "140728563132240\n",
      "140728563132240\n",
      "<class 'bool'>\n",
      "<class 'bool'>\n"
     ]
    }
   ],
   "source": [
    "a = bool(1)\n",
    "b = bool(1)\n",
    "print(id(a))\n",
    "print(id(b))\n",
    "print(type(a))\n",
    "print(type(b))"
   ]
  },
  {
   "cell_type": "code",
   "execution_count": 5,
   "metadata": {},
   "outputs": [
    {
     "name": "stdout",
     "output_type": "stream",
     "text": [
      "2\n",
      "0\n",
      "1\n",
      "1.0\n",
      "0\n",
      "1\n",
      "1\n"
     ]
    }
   ],
   "source": [
    "# Arithmatic Operations on Boolean\n",
    "a = bool(10)\n",
    "b = bool(20)\n",
    "\n",
    "# Sum of a and b\n",
    "c = a+b\n",
    "print(c)\n",
    "\n",
    "# Difference of a and b\n",
    "d = a-b\n",
    "print(d)\n",
    "\n",
    "# product of a and b\n",
    "e = a*b\n",
    "print(e)\n",
    "\n",
    "# Division of a and b can be performerd\n",
    "f = a/b\n",
    "print(f)\n",
    "\n",
    "# Reminder of a and b\n",
    "g = a%b\n",
    "print(g)\n",
    "\n",
    "# Quotient of a and b\n",
    "h = a//b\n",
    "print(h)\n",
    "\n",
    "\n",
    "# Power of a and b\n",
    "i = a**b\n",
    "print(i)\n"
   ]
  },
  {
   "cell_type": "code",
   "execution_count": 8,
   "metadata": {},
   "outputs": [
    {
     "name": "stdout",
     "output_type": "stream",
     "text": [
      "False\n",
      "True\n",
      "False\n",
      "True\n",
      "False\n",
      "True\n"
     ]
    }
   ],
   "source": [
    "#Comparison Operators on boolean values\n",
    "\n",
    "x = True\n",
    "y = False\n",
    "\n",
    "print( x < y)\n",
    "print( x > y)\n",
    "print( x <= y)\n",
    "print( x >= y)\n",
    "\n",
    "#Equality Operator\n",
    "print(x == y)\n",
    "print(x != y)"
   ]
  },
  {
   "cell_type": "code",
   "execution_count": 3,
   "metadata": {},
   "outputs": [
    {
     "name": "stdout",
     "output_type": "stream",
     "text": [
      "True\n",
      "False\n",
      "False\n",
      "False\n",
      "True\n",
      "True\n",
      "True\n",
      "False\n",
      "False\n",
      "True\n"
     ]
    }
   ],
   "source": [
    "#Logical operators\n",
    "\n",
    "#and operators\n",
    "\n",
    "print(True and True)\n",
    "print(True and False)\n",
    "print(False and True)\n",
    "print(False and False)\n",
    "\n",
    "#or operators\n",
    "print(True  or True)\n",
    "print(True  or False)\n",
    "print(False or  True)\n",
    "print(False or  False)\n",
    "\n",
    "#not operators\n",
    "\n",
    "print( not True)\n",
    "print( not False)"
   ]
  },
  {
   "cell_type": "code",
   "execution_count": 13,
   "metadata": {},
   "outputs": [
    {
     "name": "stdout",
     "output_type": "stream",
     "text": [
      "True\n",
      "False\n",
      "False\n",
      "True\n",
      "True\n",
      "False\n",
      "-1\n",
      "-2\n",
      "False\n",
      "True\n",
      "1\n",
      "1\n"
     ]
    }
   ],
   "source": [
    "#Bitwise Operators\n",
    "print(True & True)\n",
    "print(True & False)\n",
    "print(False & False)\n",
    "print(True | True)\n",
    "print(True | False)\n",
    "print(False | False)\n",
    "print(~ False)\n",
    "print(~ True)\n",
    "print(True ^ True)\n",
    "print(True ^ False)\n",
    "print(True << False)\n",
    "print(True >> False)"
   ]
  },
  {
   "cell_type": "code",
   "execution_count": 18,
   "metadata": {},
   "outputs": [
    {
     "name": "stdout",
     "output_type": "stream",
     "text": [
      "True\n",
      "140729107998544\n",
      "140729107998544\n",
      "False\n",
      "True\n",
      "140729107998576\n",
      "140729107998576\n",
      "False\n"
     ]
    }
   ],
   "source": [
    "#is, is not Operators \n",
    "#is Operators \n",
    "a =  True\n",
    "b = True\n",
    "print( a is b)\n",
    "print(id(a))\n",
    "print(id(b))\n",
    "\n",
    "#is not Operators \n",
    "print( a is not b)\n",
    "\n",
    "\n",
    "#is Operators \n",
    "a =  False\n",
    "b = False\n",
    "print( a is b)\n",
    "print(id(a))\n",
    "print(id(b))\n",
    "\n",
    "#is not Operators \n",
    "print( a is not b)"
   ]
  },
  {
   "cell_type": "code",
   "execution_count": 25,
   "metadata": {},
   "outputs": [
    {
     "name": "stdout",
     "output_type": "stream",
     "text": [
      "True\n",
      "True\n",
      "True\n",
      "True\n"
     ]
    }
   ],
   "source": [
    "#Membership operation\n",
    "#in, not in are two membership operators\n",
    "\n",
    "print(True in [1,2,3,4,5,'python', True])\n",
    "print(True in {True: 100, False:500})\n",
    "print(False not in [1,2,3,4,5,'python', True])\n",
    "print('bool' not in {True: 100, False:500})"
   ]
  }
 ],
 "metadata": {
  "kernelspec": {
   "display_name": "Python 3",
   "language": "python",
   "name": "python3"
  },
  "language_info": {
   "codemirror_mode": {
    "name": "ipython",
    "version": 3
   },
   "file_extension": ".py",
   "mimetype": "text/x-python",
   "name": "python",
   "nbconvert_exporter": "python",
   "pygments_lexer": "ipython3",
   "version": "3.8.3"
  }
 },
 "nbformat": 4,
 "nbformat_minor": 4
}
