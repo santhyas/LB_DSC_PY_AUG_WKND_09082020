{
 "cells": [
  {
   "cell_type": "code",
   "execution_count": 4,
   "metadata": {},
   "outputs": [
    {
     "name": "stdout",
     "output_type": "stream",
     "text": [
      "<class 'int'>\n",
      "140728772737088\n"
     ]
    }
   ],
   "source": [
    "# Declare an int value and store it in a variable. and checking the type and id of the same varibale\n",
    "a = 10\n",
    "print(type(a))\n",
    "print(id(a))"
   ]
  },
  {
   "cell_type": "code",
   "execution_count": 5,
   "metadata": {},
   "outputs": [
    {
     "name": "stdout",
     "output_type": "stream",
     "text": [
      "140728772738368\n",
      "140728772738368\n"
     ]
    }
   ],
   "source": [
    "a = 50\n",
    "b = 50\n",
    "print(id(a))\n",
    "print(id(b))"
   ]
  },
  {
   "cell_type": "code",
   "execution_count": 6,
   "metadata": {},
   "outputs": [
    {
     "name": "stdout",
     "output_type": "stream",
     "text": [
      "2029773992688\n",
      "2029773993360\n"
     ]
    }
   ],
   "source": [
    "x = 1000\n",
    "y = 1000\n",
    "print(id(x))\n",
    "print(id(y))"
   ]
  },
  {
   "cell_type": "code",
   "execution_count": 23,
   "metadata": {},
   "outputs": [
    {
     "name": "stdout",
     "output_type": "stream",
     "text": [
      "22\n",
      "-6\n",
      "112\n",
      "0.5714285714285714\n",
      "8\n",
      "0\n",
      "4398046511104\n"
     ]
    }
   ],
   "source": [
    "# Arithmatic Operations on integers\n",
    "a = 8\n",
    "b = 14\n",
    "\n",
    "# Sum of a and b\n",
    "c = a+b\n",
    "print(c)\n",
    "\n",
    "# Difference of a and b\n",
    "d = a-b\n",
    "print(d)\n",
    "\n",
    "# product of a and b\n",
    "e = a*b\n",
    "print(e)\n",
    "\n",
    "# Division of a and b\n",
    "f = a/b\n",
    "print(f)\n",
    "\n",
    "# Reminder of a and b\n",
    "g = a%b\n",
    "print(g)\n",
    "\n",
    "# Quotient of a and b\n",
    "h = a//b\n",
    "print(h)\n",
    "\n",
    "\n",
    "# Power of a and b\n",
    "i = a**b\n",
    "print(i)"
   ]
  },
  {
   "cell_type": "code",
   "execution_count": 26,
   "metadata": {},
   "outputs": [
    {
     "name": "stdout",
     "output_type": "stream",
     "text": [
      "False\n",
      "True\n",
      "False\n",
      "True\n",
      "False\n",
      "True\n"
     ]
    }
   ],
   "source": [
    "#Comparison Operators on integers\n",
    "\n",
    "x = 20\n",
    "y = 30\n",
    "\n",
    "print(x > y)\n",
    "print(x < y)\n",
    "print(x >= y)\n",
    "print(x <= y)\n",
    "\n",
    "#Equality Operator\n",
    "\n",
    "print(x == y)\n",
    "print(x != y)"
   ]
  },
  {
   "cell_type": "code",
   "execution_count": 32,
   "metadata": {},
   "outputs": [
    {
     "name": "stdout",
     "output_type": "stream",
     "text": [
      "20\n",
      "0\n",
      "0\n",
      "0\n",
      "10\n",
      "10\n",
      "20\n",
      "0\n",
      "20\n",
      "10\n",
      "False\n",
      "True\n"
     ]
    }
   ],
   "source": [
    "#Logical operators\n",
    "\n",
    "# and Operator\n",
    "print(10 and 20)\n",
    "print(0 and 20)\n",
    "print(0 and 0)\n",
    "print(20 and 0)\n",
    "print(10 and 10)\n",
    "\n",
    "# or Operator\n",
    "print(10 or 20)\n",
    "print(0 or 20)\n",
    "print(0 or 0)\n",
    "print(20 or 0)\n",
    "print(10 or 10)\n",
    "\n",
    "\n",
    "# not Operator\n",
    "print(not 20)\n",
    "print(not 0)"
   ]
  },
  {
   "cell_type": "code",
   "execution_count": 36,
   "metadata": {},
   "outputs": [
    {
     "name": "stdout",
     "output_type": "stream",
     "text": [
      "0\n",
      "30\n",
      "30\n",
      "-21\n",
      "10485760\n",
      "0\n"
     ]
    }
   ],
   "source": [
    "#Bitwise Operators\n",
    "print(10&20)\n",
    "print(10|20)\n",
    "print(10^20)\n",
    "print(~20)\n",
    "print(10<<20)\n",
    "print(10>>20)"
   ]
  },
  {
   "cell_type": "code",
   "execution_count": 41,
   "metadata": {},
   "outputs": [
    {
     "name": "stdout",
     "output_type": "stream",
     "text": [
      "True\n",
      "140728772737088\n",
      "140728772737088\n",
      "True\n",
      "2029773995696\n",
      "2029773992080\n"
     ]
    }
   ],
   "source": [
    "#is Operator\n",
    "a = 10\n",
    "b = 10\n",
    "print(a is b)\n",
    "print(id(a))\n",
    "print(id(b))\n",
    "\n",
    "#is not Operator\n",
    "a = 1000\n",
    "b = 1000\n",
    "print(a is not b)\n",
    "print(id(a))\n",
    "print(id(b))"
   ]
  },
  {
   "cell_type": "code",
   "execution_count": 42,
   "metadata": {},
   "outputs": [
    {
     "name": "stdout",
     "output_type": "stream",
     "text": [
      "20\n"
     ]
    }
   ],
   "source": [
    "# mathematics precedence operator\n",
    "print(10+(10*32)//2**5&20+(~(-10))<<2)"
   ]
  },
  {
   "cell_type": "code",
   "execution_count": 49,
   "metadata": {},
   "outputs": [
    {
     "name": "stdout",
     "output_type": "stream",
     "text": [
      "True\n",
      "False\n",
      "True\n",
      "True\n",
      "True\n",
      "True\n"
     ]
    }
   ],
   "source": [
    "#Membership operation\n",
    "\n",
    "#in Operator\n",
    "print(2 in [1,2,4,10])\n",
    "print(10 in {'name': 'mohan', 'age': 28, 'marks': [10, 20, 30]})\n",
    "print(10 in range(20))\n",
    "\n",
    "\n",
    "# not in Operator\n",
    "\n",
    "print(20 not in [1,2,4,10])\n",
    "print('address' not in {'name': 'mohan', 'age': 28, 'marks': [10, 20, 30]})\n",
    "print(50 not in range(20))\n"
   ]
  },
  {
   "cell_type": "code",
   "execution_count": 61,
   "metadata": {},
   "outputs": [
    {
     "name": "stdout",
     "output_type": "stream",
     "text": [
      "10\n",
      "<class 'int'>\n",
      "0b10100\n",
      "520\n",
      "<class 'int'>\n",
      "0o24\n",
      "16\n",
      "<class 'int'>\n",
      "0x14\n"
     ]
    }
   ],
   "source": [
    "# Binary representation and convertion\n",
    "\n",
    "a = 0b1010\n",
    "print(a)\n",
    "print(type(a))\n",
    "b = bin(20)\n",
    "print(b)\n",
    "\n",
    "#  Binary representation and convertio\n",
    "\n",
    "x = 0o1010\n",
    "print(x)\n",
    "print(type(x))\n",
    "y = oct(20)\n",
    "print(y)\n",
    "\n",
    "\n",
    "#  hexadecimal representation and convertio\n",
    "\n",
    "x = 0x010\n",
    "print(x)\n",
    "print(type(x))\n",
    "y = hex(20)\n",
    "print(y)"
   ]
  },
  {
   "cell_type": "code",
   "execution_count": 63,
   "metadata": {},
   "outputs": [
    {
     "name": "stdout",
     "output_type": "stream",
     "text": [
      "0b10011010010100\n",
      "0o23224\n",
      "0x2694\n"
     ]
    }
   ],
   "source": [
    "#Convert 9876 to its binary, octal and hexadecimal equivalent and print their corresponding value.\n",
    "a = 9876\n",
    "print(bin(a))\n",
    "print(oct(a))\n",
    "print(hex(a))"
   ]
  },
  {
   "cell_type": "code",
   "execution_count": null,
   "metadata": {},
   "outputs": [],
   "source": []
  },
  {
   "cell_type": "code",
   "execution_count": null,
   "metadata": {},
   "outputs": [],
   "source": []
  },
  {
   "cell_type": "code",
   "execution_count": null,
   "metadata": {},
   "outputs": [],
   "source": []
  }
 ],
 "metadata": {
  "kernelspec": {
   "display_name": "Python 3",
   "language": "python",
   "name": "python3"
  },
  "language_info": {
   "codemirror_mode": {
    "name": "ipython",
    "version": 3
   },
   "file_extension": ".py",
   "mimetype": "text/x-python",
   "name": "python",
   "nbconvert_exporter": "python",
   "pygments_lexer": "ipython3",
   "version": "3.8.3"
  }
 },
 "nbformat": 4,
 "nbformat_minor": 4
}
