{
 "cells": [
  {
   "cell_type": "code",
   "execution_count": 1,
   "metadata": {},
   "outputs": [
    {
     "name": "stdout",
     "output_type": "stream",
     "text": [
      "(40+60j)\n",
      "<class 'complex'>\n",
      "<class 'complex'>\n",
      "<class 'complex'>\n"
     ]
    }
   ],
   "source": [
    "# Adding two complex Numbers\n",
    "\n",
    "a = 10+20j\n",
    "b = 30+40j\n",
    "c = (10+30)+(20j+40j)\n",
    "print(c)\n",
    "print(type(a))\n",
    "print(type(b))\n",
    "print(type(c))"
   ]
  },
  {
   "cell_type": "code",
   "execution_count": 2,
   "metadata": {},
   "outputs": [
    {
     "name": "stdout",
     "output_type": "stream",
     "text": [
      "(-20-20j)\n",
      "<class 'complex'>\n",
      "<class 'complex'>\n",
      "<class 'complex'>\n"
     ]
    }
   ],
   "source": [
    "# differce two complex Numbers\n",
    "\n",
    "a = 10+20j\n",
    "b = 30+40j\n",
    "c = (10-30)+(20j-40j)\n",
    "print(c)\n",
    "print(type(a))\n",
    "print(type(b))\n",
    "print(type(c))"
   ]
  },
  {
   "cell_type": "code",
   "execution_count": 3,
   "metadata": {},
   "outputs": [
    {
     "name": "stdout",
     "output_type": "stream",
     "text": [
      "(300+3400j)\n",
      "(-500+1000j)\n",
      "<class 'complex'>\n",
      "<class 'complex'>\n",
      "<class 'complex'>\n",
      "<class 'complex'>\n"
     ]
    }
   ],
   "source": [
    "# product two complex Numbers\n",
    "\n",
    "a = 10+20j\n",
    "b = 30+40j\n",
    "c = (10*30)+(10*40j)+(30*20j)+(2*30*40J)\n",
    "d = (10+20j)*(30+40j)\n",
    "print(c)\n",
    "print(d)\n",
    "print(type(a))\n",
    "print(type(b))\n",
    "print(type(c))\n",
    "print(type(d))"
   ]
  },
  {
   "cell_type": "code",
   "execution_count": 4,
   "metadata": {},
   "outputs": [
    {
     "name": "stdout",
     "output_type": "stream",
     "text": [
      "(0.44+0.08j)\n",
      "<class 'complex'>\n",
      "<class 'complex'>\n",
      "<class 'complex'>\n"
     ]
    }
   ],
   "source": [
    "# Dividing two complex Numbers\n",
    "\n",
    "a = 10+20j\n",
    "b = 30+40j\n",
    "c = (10+20j)/(30+40J)\n",
    "print(c)\n",
    "print(type(a))\n",
    "print(type(b))\n",
    "print(type(c))"
   ]
  },
  {
   "cell_type": "code",
   "execution_count": 5,
   "metadata": {},
   "outputs": [
    {
     "name": "stdout",
     "output_type": "stream",
     "text": [
      "(1.6238705762678564e+21+7.388350080561468e+20j)\n",
      "(1.6238705762678564e+21+7.388350080561468e+20j)\n",
      "<class 'complex'>\n",
      "<class 'complex'>\n",
      "<class 'complex'>\n",
      "<class 'complex'>\n"
     ]
    }
   ],
   "source": [
    "# Power two complex Numbers\n",
    "\n",
    "a = 10+20j\n",
    "b = 30+40j\n",
    "c = (10+20j)**(30+40J)\n",
    "d = pow(10+20j, 30+40j)\n",
    "print(c)\n",
    "print(d)\n",
    "print(type(a))\n",
    "print(type(b))\n",
    "print(type(c))\n",
    "print(type(d))"
   ]
  },
  {
   "cell_type": "code",
   "execution_count": 6,
   "metadata": {},
   "outputs": [
    {
     "name": "stdout",
     "output_type": "stream",
     "text": [
      "False\n",
      "True\n"
     ]
    }
   ],
   "source": [
    "#Equality Operator for two complex number\n",
    "\n",
    "a = 10+20j\n",
    "b = 30+40j\n",
    "print(a==b)\n",
    "print(a!=b)"
   ]
  },
  {
   "cell_type": "code",
   "execution_count": 16,
   "metadata": {},
   "outputs": [
    {
     "name": "stdout",
     "output_type": "stream",
     "text": [
      "(20+30j)\n",
      "0j\n",
      "0j\n",
      "0j\n",
      "(10+20j)\n",
      "(10+20j)\n",
      "(20+30j)\n",
      "0j\n",
      "False\n",
      "False\n",
      "True\n",
      "True\n"
     ]
    }
   ],
   "source": [
    "# #Logical operators\n",
    "\n",
    "# and operator\n",
    "print(10+20j and 20+30j)\n",
    "print(0+0j and 10+20j)\n",
    "print(20+30j and 0+0j)\n",
    "print(0+0j and 0+0j)\n",
    "\n",
    "# or operator\n",
    "print(10+20j or 20+30j)\n",
    "print(0+0j or 10+20j)\n",
    "print(20+30j or 0+0j)\n",
    "print(0+0j or 0+0j)\n",
    "\n",
    "# not operator\n",
    "print(not 20+30j)\n",
    "print(not 10+20j)\n",
    "print(not 0+0j)\n",
    "print(not 0+0j)\n",
    "\n"
   ]
  },
  {
   "cell_type": "code",
   "execution_count": 25,
   "metadata": {},
   "outputs": [
    {
     "name": "stdout",
     "output_type": "stream",
     "text": [
      "False\n",
      "True\n",
      "1959723349168\n",
      "1959723351056\n"
     ]
    }
   ],
   "source": [
    "#What is the output of expression inside print statement. Cross check before running the program.\n",
    "# is operator\n",
    "a = 10+20j\n",
    "b = 10+20j\n",
    "print( a is b)\n",
    "\n",
    "# is not operator\n",
    "print(a is not b)\n",
    "\n",
    "print(id(a))\n",
    "print(id(b))"
   ]
  },
  {
   "cell_type": "code",
   "execution_count": 33,
   "metadata": {},
   "outputs": [
    {
     "name": "stdout",
     "output_type": "stream",
     "text": [
      "True\n",
      "{'name': 'mohan reddy', 'age': 28, 'course': ['maths', 'physics', 'comsci']}\n",
      "True\n",
      "False\n",
      "True\n"
     ]
    }
   ],
   "source": [
    "#Membership operation\n",
    "\n",
    "# in operator\n",
    "\n",
    "a =  'mohan reddy'\n",
    "student = {'name': 'mohan reddy', 'age': 28, 'course': ['maths', 'physics', 'comsci']}\n",
    "print('m' in a)\n",
    "print(student)\n",
    "print('name' in student)\n",
    "print('address' in student)\n",
    "\n",
    "# not in operator\n",
    "\n",
    "print('address' not in student)\n",
    "\n",
    "\n",
    "\n"
   ]
  },
  {
   "cell_type": "code",
   "execution_count": null,
   "metadata": {},
   "outputs": [],
   "source": []
  }
 ],
 "metadata": {
  "kernelspec": {
   "display_name": "Python 3",
   "language": "python",
   "name": "python3"
  },
  "language_info": {
   "codemirror_mode": {
    "name": "ipython",
    "version": 3
   },
   "file_extension": ".py",
   "mimetype": "text/x-python",
   "name": "python",
   "nbconvert_exporter": "python",
   "pygments_lexer": "ipython3",
   "version": "3.8.3"
  }
 },
 "nbformat": 4,
 "nbformat_minor": 4
}
